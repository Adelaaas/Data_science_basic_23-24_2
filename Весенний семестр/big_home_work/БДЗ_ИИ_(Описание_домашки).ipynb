{
  "nbformat": 4,
  "nbformat_minor": 0,
  "metadata": {
    "colab": {
      "provenance": []
    },
    "kernelspec": {
      "name": "python3",
      "display_name": "Python 3"
    },
    "language_info": {
      "name": "python"
    }
  },
  "cells": [
    {
      "cell_type": "markdown",
      "source": [
        "# Большое домашнее задание. Май. Спец. курс по \"Анализу данных и искусственному интеллекту\"."
      ],
      "metadata": {
        "id": "jxZifk_S6IVx"
      }
    },
    {
      "cell_type": "markdown",
      "source": [
        "**Что вам дано:**\n",
        "\n",
        "В каждом варианте задания есть три файла:\n",
        "    - train - данные для обучения, тестирования и всеъ экспериментов. Этот набор данных содержит ответы. На основе всех исследований и тестирований, он поможет вам выбрать наилучший подход к решению.\n",
        "    - test - файл, для которого ответов нет, и их вам нужно получить после этапа исселедований, обучений и выбора наилучшей модели. Ответы для данного файла нужно загрузить в тестирующую систему kaggle.\n",
        "    - samle_submition - это пример того как должен выглядить файл с ответами.\n",
        "\n",
        "**Что обязательно должно быть сделано и представлено в домашнем задании:**\n",
        "\n",
        "1. Исследование данных: здесь нужно показать полное исследование и понимание тех данных, которые у вас есть, датасеты подобраны специально так, что если вы не разберетесь в их содержании и почему в той или иной колонке такие цифры и почему такие, решить нормально задачу не получится.\n",
        "2. Предобратка данных: необходимо продемонстрировать владение различными инструментами предобработки данных. Так как в день дано 20 попыток на загрузку, то попыток на эксперементы у вас должно хватить:\n",
        "    - попробовать разные способы кодирования признаков\n",
        "    - разные спопосбы заполнения пропусков\n",
        "    - разные способы масштабирования признаков\n",
        "    - разные способы отбора признаков (какие нужны, какие нет и почему)\n",
        "    - можно пробовать что угодно еще, что найдете в интернете.\n",
        "3. Выбор лучшей модели: так как мы прошли с вами 4 алгоритма (линейная и логистическая регрессия, метод ближайщих соседей, дерево решений), то необходимо попробовать все алгоритмы и разные гиперпараметры к ним и показать как вы выбрали те или иные параметры для модели (например, если это метод ближайщих соседей, то показать как вы выбрали наилучшее число соседей для решения).\n",
        "    - попробовать разные модели и их параметры\n",
        "    - протестировать и вывести все метрики\n",
        "    - сравнить и выбрать наилучшую модель\n",
        "\n",
        "4. Обработать тестовый датасет таким же образом как и тренировочной. Предсказать для него результат и загрузить его в систему."
      ],
      "metadata": {
        "id": "WQAfNLy36P6c"
      }
    },
    {
      "cell_type": "markdown",
      "source": [
        "## Ваше решение ниже"
      ],
      "metadata": {
        "id": "nz5AbtXjE637"
      }
    },
    {
      "cell_type": "code",
      "execution_count": null,
      "metadata": {
        "id": "Wz5RZ46q6FTi"
      },
      "outputs": [],
      "source": [
        "# CODE"
      ]
    },
    {
      "cell_type": "markdown",
      "source": [
        "## Обработка файла test"
      ],
      "metadata": {
        "id": "f3NvdZPiFABM"
      }
    },
    {
      "cell_type": "code",
      "source": [
        "# CODE\n",
        "# В общем и целом можно обрабатывать тестовый файл сразу вместе с train, если не запутаетесь"
      ],
      "metadata": {
        "id": "gSbFKjoIFDbE"
      },
      "execution_count": null,
      "outputs": []
    },
    {
      "cell_type": "markdown",
      "source": [
        "## Как подготовить ответы для загрузки"
      ],
      "metadata": {
        "id": "yjH5kY8jFKnM"
      }
    },
    {
      "cell_type": "code",
      "source": [
        "# Допустим после model.predict(test) вы сохранили результаты в переменную test_pred\n",
        "# Как сохранить в файл с ответами\n",
        "\n",
        "test_pred = model.predict(test)\n",
        "\n",
        "my_submition = pd.DataFrame(test_pred, columns=['НАЗВАНИЕ ЦЕЛЕВОЙ ПЕРЕМЕННОЙ'])\n",
        "\n",
        "my_submition.reset_index().to_csv('НАЗВАНИЕ ФАЙЛА С ОТВЕТАМИ.csv', index=False)"
      ],
      "metadata": {
        "id": "CAEHjrPHFOBo"
      },
      "execution_count": null,
      "outputs": []
    },
    {
      "cell_type": "markdown",
      "source": [
        "Далее файл с ответами появится в файловой системе colab, это панель слева, раздел с папочкой, оттуда его можно скачать."
      ],
      "metadata": {
        "id": "ktN8lw0PFtG5"
      }
    },
    {
      "cell_type": "markdown",
      "source": [
        "## Как загрузить ответы"
      ],
      "metadata": {
        "id": "FGGHvoe2F2FZ"
      }
    },
    {
      "cell_type": "markdown",
      "source": [
        "Заходите на свое соревнование и нажимаете на кнопку **\"Submit Prediction\"** и загружаете файл `.csv`, который получили выше.\n",
        "\n",
        "Смотрите результат.\n",
        "\n",
        "Все ваши попытки и их метрики сохраняются на kaggle в разделе \"Submittions\":\n",
        "\n",
        "![image.png](data:image/png;base64,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)"
      ],
      "metadata": {
        "id": "4p1xZjVLF4Kd"
      }
    },
    {
      "cell_type": "markdown",
      "source": [
        "## Ошибки, которые могут возникнуть и как их исправить:"
      ],
      "metadata": {
        "id": "Qi27fb8SGW_I"
      }
    },
    {
      "cell_type": "markdown",
      "source": [
        "1. Для того, чтобы участвовать в соревновании и иметь возможность загружать решения, необходимо АВТОРИЗОВАТЬСЯ на kaggle.\n",
        "2. Затем необходимо присоединиться к соревнованию, нажав на кнопку `Join competition`.\n",
        "3. Здесь может потребоваться подтвердить номер телефона и с российским номером это может не получится, если такое случилось, то пишите в тех. поддержку, они отвечают и подтверждают номер в течении суток (так есть кнопка `Contact us`, дальше предложат выбрать проблему обращения, с номером телефона это первая проблема. Выбираете, заполняете поля и ждете)."
      ],
      "metadata": {
        "id": "lh8t_nU2GczA"
      }
    }
  ]
}