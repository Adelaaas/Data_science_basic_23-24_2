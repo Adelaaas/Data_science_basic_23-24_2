{
  "nbformat": 4,
  "nbformat_minor": 0,
  "metadata": {
    "colab": {
      "provenance": []
    },
    "kernelspec": {
      "name": "python3",
      "display_name": "Python 3"
    },
    "language_info": {
      "name": "python"
    }
  },
  "cells": [
    {
      "cell_type": "markdown",
      "source": [
        "# Регрессия"
      ],
      "metadata": {
        "id": "yrzP8u75VED4"
      }
    },
    {
      "cell_type": "markdown",
      "source": [
        "В случае задач машинного обучения с учителем существует какое-то количество размеченных данных, данных, для\n",
        "которых определен корректный ответ и корректное предсказание. Мы пытаемся обучить нашу модель на этих данных и потом сделать предсказание на новых данных, которых мы еще не видели.\n",
        "Далее когда поступают новые данные, не размеченные, наша обученная модель пытается предсказать для них ответ.\n",
        "\n",
        "В этом разделе мы посмотрим на одну из задач машинного обучения с учителем - это задача регрессии.\n",
        "\n",
        "**Задача регрессии** (прогнозирования) – построение модели, способной предсказывать численную величину на основе набора признаков объекта.\n",
        "\n",
        "**Регрессия. Постановка задачи.**\n",
        "\n",
        "Есть обучающая выборка, в которой представлены объекты в виде из признакового описания (вектор признаков) и значения целевой переменной (непрерывная переменная).\n",
        "\n",
        "Алгоритм регрессии дл каждого нового объекта (его признакового описания) прогнозирует значение целевой переменной."
      ],
      "metadata": {
        "id": "1y3azrBgVGfo"
      }
    },
    {
      "cell_type": "markdown",
      "source": [
        "**Примеры задач регресии:**\n",
        "- Оценка стоимости недвижимости: по характеристике\n",
        "района, экологической обстановке, транспортной\n",
        "связности оценить стоимость жилья\n",
        "- Прогноз свойств соединений: по параметрам\n",
        "химических элементов спрогнозировать температуру\n",
        "плавления, электропроводность, теплоемкость\n",
        "получаемого соединения\n",
        "- Медицина: по постоперационным показателям оценить\n",
        "время заживления органа\n",
        "- Кредитный скоринг: по анкете заемщика оценить\n",
        "величину кредитного лимита\n",
        "- Инженерное дело: по техническим характеристикам\n",
        "автомобиля и режиму езды спрогнозировать расход\n",
        "топлива"
      ],
      "metadata": {
        "id": "oNAp2NiYWoGs"
      }
    },
    {
      "cell_type": "markdown",
      "source": [
        "**Ответ в задачах регресии является числовым из непрерывного диапазона, в отличии от задач классификации, где ответ дискретный.**"
      ],
      "metadata": {
        "id": "L41gzq7UWvbS"
      }
    },
    {
      "cell_type": "markdown",
      "source": [
        "## Линейные методы регрессии"
      ],
      "metadata": {
        "id": "a8qgUCnBVGpw"
      }
    },
    {
      "cell_type": "markdown",
      "source": [
        "Любые линейные методы регресии (да и классификации) подразумевают наличие линейной зависимости в данных, иначе их бесполезно использовать."
      ],
      "metadata": {
        "id": "lvtRb5sB8cJ3"
      }
    },
    {
      "cell_type": "markdown",
      "source": [
        "### Линейная регрессия"
      ],
      "metadata": {
        "id": "zIfYHZkJVtqm"
      }
    },
    {
      "cell_type": "markdown",
      "source": [
        "**Линейная регрессия** - самый простой инструмент выявления зависимости между различными числовыми признакми. Часто линейную регрессию относят к методам машинного обучения, однако на самом деле - это не так.\n",
        "\n",
        "Восстановить линейную ргрессию - то есть линейную зависимость между различными числовыми данными - можно с помощью аналитического решения.\n",
        "\n",
        "Тем не менее, так как линейная ргрессия решает ту же задачу, что и машинное обучение - задачу восстановления зависимости между данными - для регрессии применяются те же термины и понятия, что и для машинного обучения."
      ],
      "metadata": {
        "id": "8qXvS502Vxx0"
      }
    },
    {
      "cell_type": "markdown",
      "source": [
        "#### Базовые понятия, используемые в машинном обучении\n",
        "\n",
        "Центральным понятием машинного обучения является _обучающая выборка_. Это примеры, на основе которых планируется строить общую закономерность. Она обозначается $X$ и состоит из $l$ пар объектов $x_{i}$ и известных ответов $y_{i}$:\n",
        "\n",
        "$$X = (x_{i}, y_{i})^l_{i=1}.$$\n",
        "\n",
        "Функция, отображающая пространство объектов $\\mathbb{X}$ в пространство ответов $\\mathbb{Y}$, позволяющая делать предсказания, называется _алгоритмом_ или _моделью_ и обозначается $a(x)$. Она принимает на вход объект и выдает ответ.\n",
        "\n",
        "Отметим, что $ x_{i} = (x^{1}, x^{2}, ..., x^{d}) $. То есть каждый объект $x_{i}$ состоит из ряда различных значений."
      ],
      "metadata": {
        "id": "G3iE4xl4W0c6"
      }
    },
    {
      "cell_type": "markdown",
      "source": [
        "Для начала введём проствую базовую линейную модель, записанную следующим образом:\n",
        "\n",
        "$$a(x) = w_{0} + w_{1}x^{1} + ... + w_{d}x^{d} = w_{0}+\\sum^{d}_{i=1}w_{i}x^{i}.$$\n",
        "\n",
        "Параметрами модели $a(x)$ являются веса $w_{i}$. Вес $w_{0}$ называется _свободным коэффициентом_, _сдвигом_ или _смещением_. Оптимизация модели заключается в подборе оптимальных значений весов. Сумму в формуле также можно описать как скалярное произведение вектора признаков $x=(x^{1},...,x^{d})$ на вектор весов $w=(w_{1},...,w_{d})$:\n",
        "\n",
        "$$a(x) = w_{0}+\\left \\langle w,x \\right \\rangle.$$\n",
        "\n",
        "Чтобы сделать модель однородной и упростить оптимизацию вводится фиктивный признак $x^{0}$ всегда равный единице. Таким образом:\n",
        "\n",
        "$$a(x) = \\left \\langle w,x \\right \\rangle = \\sum^{d}_{i=0}w_{i}x^{i} $$"
      ],
      "metadata": {
        "id": "_wxEHXMbXCan"
      }
    },
    {
      "cell_type": "markdown",
      "source": [
        "#### Функционал ошибки\n",
        "\n",
        "Для обучения модели и сравнения различных моделей между собой необходимо разработать математическую формулу и алгоритм расчёта ошибки модели. В рамках решения задачи оптимизации обычно ставится задача достижения минимального значения функционала ошибки.\n",
        "\n",
        "В качестве очевидного решения можно предложить такую формулу:\n",
        "$Q(a,y)=a(x)-y$. Однако, у неё есть принципиальная проблема: у такой функции не существует минимума.\n",
        "\n",
        "С учётом этого, логичным кажется решение использовать в качестве функции для расчёта ошибки модуль отклонения $Q(a,y)=|a(x)-y|$. Соответствующий функционал ошибки называется средним абсолютным отклонением (mean absolute error, MAE):\n",
        "\n",
        "$$Q(a,x) = MAE = \\frac{1}{N}\\sum^{N}_{i=1}|a(x_{i})-y_{i}|.$$\n",
        "\n",
        "\n",
        "$N$- это количество объектов.\n",
        "\n",
        "Однако, мы уже разбирали, что функционал ошибки или функция потерь, должны быть дифференцируемы, а значит, необходимо предложить другой вариант базовой функции для расчёта ошибки: $Q(a,y)=(a(x)-y)^{2}$. Такая функция является гладкой и имеет производную в каждой точке, а ее минимум достигается при равенстве истинного ответа $y$ и прогноза $a(x)$.\n",
        "\n",
        "Основанный на этой функции функционал ошибки называется _среднеквадратичным отклонением_ (mean squared error, MSE):\n",
        "\n",
        "$$Q(a,x) = MSE = \\frac{1}{N}\\sum^{N}_{i=1}(a(x_{i})-y_{i})^{2}.$$"
      ],
      "metadata": {
        "id": "gENQMhksXFxv"
      }
    },
    {
      "cell_type": "markdown",
      "source": [
        "#### Вывод аналитической формулы для решения линейной регрессии\n",
        "\n",
        "Таким образом, задача расчёт оптимальных коэффициентов математически может быть записана следующим образом.\n",
        "\n",
        "$$Q(w,x) = \\frac{1}{l}\\sum^{l}_{i=1}(\\left \\langle w,x_{i} \\right \\rangle-y_{i})^{2} \\rightarrow \\underset{w}{\\text{min}}.$$\n",
        "\n",
        "Если вас смущает возникшая, казалось бы путаница, между различными записями, то целесообразно ввести матричную запись признаков:\n",
        "\n",
        "$$X = \\begin{pmatrix}\n",
        "x_{11} & ... & x_{1d}\\\\\n",
        "... & ... & ...\\\\\n",
        "x_{l1} & ... & x_{ld}\n",
        "\\end{pmatrix},$$\n",
        "\n",
        "$$y = \\begin{pmatrix}\n",
        "y_{1}\\\\\n",
        "...\\\\\n",
        "y_{l}\n",
        "\\end{pmatrix}.$$\n",
        "\n",
        "Таким образом, задача начинает выглядеть следующим образом\n",
        "\n",
        "$$Q(w, X) = \\frac{1}{l}||Xw-y||^{2}\\rightarrow \\underset{w}{\\text{min}},$$\n",
        "\n",
        "Взяв производную (от матрицы (!)) и прировняв её к нулю (точка экструма квадратинчной функции) можно получить значения коэффициентов:\n",
        "\n",
        "$$w = (X^{T}X)^{-1}X^{T}y.$$\n",
        "\n",
        "Если вам интересна более детальная математическая подоплёка смотрите её тут: [Вывод аналитической формулы решения уравнения линейной регрессии](https://habr.com/ru/company/ods/blog/323890/#metod-naimenshih-kvadratov) (см. пункт 1.2)"
      ],
      "metadata": {
        "id": "9CVmWfdBXKAO"
      }
    },
    {
      "cell_type": "markdown",
      "source": [
        "**Таким образом, нетрудно догадаться, что в идеальном случае MAE и MSE будут равны 0.**"
      ],
      "metadata": {
        "id": "O9P8UwIhXMuC"
      }
    },
    {
      "cell_type": "markdown",
      "source": [
        "![lin_reg_error (1).png](data:image/png;base64,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)"
      ],
      "metadata": {
        "id": "LVMTZtxe9dG7"
      }
    },
    {
      "cell_type": "markdown",
      "source": [
        "- зеленые точки - это $\\\\ \\bar{y_t}$ - предсказание\n",
        "- синие точки - это $\\\\ y_t $ - правильный ответ\n",
        "- T = 7 - это общее число наблюдений (точек)\n",
        "\n",
        "Вычислим MSE для каждой из трех функций выше:\n",
        "- первая функция дает **MSE = 0,17**\n",
        "- вторая **MSE = 0,08**\n",
        "- третья **MSE = 0,02**\n",
        "\n",
        "Неудивительно, что третья функция имеет самую низкую MSE, подтверждая нашу догадку, что это линия наилучшего соответствия.\n",
        "В идеальном случае, когда все ответы предсказаны точно, MSE будет равна **нулю**."
      ],
      "metadata": {
        "id": "jYJ4Tf6J9vY-"
      }
    },
    {
      "cell_type": "markdown",
      "source": [
        "Коэффициент детерминации $R2$, или $R-квадрат$, варьируется в интервале между 0 и 1 и обозначает объяснительную мощность линейной регрессионной модели. Он вычисляет объясненную долю изменчивости в зависимой переменной. (или если по-простому, $R2$ показывают насколько признаки влияют/коррелируют с ответом).\n",
        "\n",
        "Обычно, чем ближе $R2$ к 1, тем лучше линия регрессии подогнана к точкам данных и больше изменчивости в $Y$ объясняется независимой переменной $X$.\n",
        "\n",
        "*P.s. $R2$ может быть и отрицательным, это значит ваша модель работает хуже, чем простое усреднение результата.*"
      ],
      "metadata": {
        "id": "ANxi9H7pXUHN"
      }
    },
    {
      "cell_type": "markdown",
      "source": [
        "### Простой пример линейной регрессии"
      ],
      "metadata": {
        "id": "R7aOkstzX5us"
      }
    },
    {
      "cell_type": "code",
      "source": [
        "import numpy as np\n",
        "\n",
        "from sklearn.linear_model import LinearRegression"
      ],
      "metadata": {
        "id": "WoA-2RpdXR_B"
      },
      "execution_count": null,
      "outputs": []
    },
    {
      "cell_type": "code",
      "source": [
        "# Определим простейший набор данных\n",
        "# Шесть пар точек (5,5), (15,20), (25, 14), (35, 32), (45, 22), (55, 38)\n",
        "\n",
        "x = np.array([5, 15, 25, 35, 45, 55]).reshape((-1, 1))\n",
        "# reshape -> [[5],[15],[25]...] - т.е многомерность\n",
        "y = np.array([5, 20, 14, 32, 22, 38])"
      ],
      "metadata": {
        "id": "-G_T--irXFAh"
      },
      "execution_count": null,
      "outputs": []
    },
    {
      "cell_type": "code",
      "source": [
        "import matplotlib.pyplot as plt\n",
        "\n",
        "fig, ax = plt.subplots(figsize=(3, 3))\n",
        "\n",
        "ax.scatter(x, y)\n",
        "plt.xlabel(\"Скорость ветра\")\n",
        "plt.ylabel(\"Температура воздуха\")\n",
        "\n",
        "plt.show()"
      ],
      "metadata": {
        "colab": {
          "base_uri": "https://localhost:8080/",
          "height": 311
        },
        "id": "TV_jN-hkVDfT",
        "outputId": "646a8e4c-5423-455a-a799-ccd6bb5524e1"
      },
      "execution_count": null,
      "outputs": [
        {
          "output_type": "display_data",
          "data": {
            "text/plain": [
              "<Figure size 300x300 with 1 Axes>"
            ],
            "image/png": "[encoded data removed]"
          },
          "metadata": {}
        }
      ]
    },
    {
      "cell_type": "markdown",
      "source": [
        "**Цель линейной регрессии** — поиск линии, которая наилучшим образом соответствует этим точкам.\n",
        "\n",
        "Общее уравнение для прямой (в том случае если у нас один признак для каждого объекта):\n",
        "\n",
        " $\\\\ f (x) = w_1*x + w_0 $,\n",
        "\n",
        "где $\\\\ w_1 $ — наклон линии, а $\\\\ w_0 $ — его y-сдвиг. Таким образом, решение линейной регрессии определяет значения для $\\\\ w_1 $ и $\\\\ w_0 $, так что f (x) приближается как можно ближе к y.\n",
        "\n",
        "Попробуем несколько случайных кандидатов:"
      ],
      "metadata": {
        "id": "uuMXuoMDY7NI"
      }
    },
    {
      "cell_type": "markdown",
      "source": [
        "![Frame 1.png](data:image/png;base64,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)"
      ],
      "metadata": {
        "id": "KQPEeG2-Z9Rn"
      }
    },
    {
      "cell_type": "code",
      "execution_count": null,
      "metadata": {
        "id": "6f9RiknY8klV"
      },
      "outputs": [],
      "source": [
        "# Создаем модель линейной регрессии - т.е. прямой которая будет проходить через наши точки\n",
        "# Эта операция создаёт переменную model в качестве экземпляра LinearRegression\n",
        "\n",
        "lin_reg = LinearRegression()"
      ]
    },
    {
      "cell_type": "code",
      "source": [
        "# С помощью метода fit() применяем нашу модель к нашему набору данных - обучем модель\n",
        "# С помощью .fit() вычисляются оптимальные значение весов w₀ и w₁ и т.д,\n",
        "# используя существующие вход и выход (x и y) в качестве аргументов.\n",
        "\n",
        "lin_reg.fit(x, y)"
      ],
      "metadata": {
        "colab": {
          "base_uri": "https://localhost:8080/",
          "height": 74
        },
        "id": "1m7uOYbGYYPr",
        "outputId": "c8c65c41-17cd-410d-f96c-40c13aafa912"
      },
      "execution_count": null,
      "outputs": [
        {
          "output_type": "execute_result",
          "data": {
            "text/plain": [
              "LinearRegression()"
            ],
            "text/html": [
              "<style>#sk-container-id-2 {color: black;background-color: white;}#sk-container-id-2 pre{padding: 0;}#sk-container-id-2 div.sk-toggleable {background-color: white;}#sk-container-id-2 label.sk-toggleable__label {cursor: pointer;display: block;width: 100%;margin-bottom: 0;padding: 0.3em;box-sizing: border-box;text-align: center;}#sk-container-id-2 label.sk-toggleable__label-arrow:before {content: \"▸\";float: left;margin-right: 0.25em;color: #696969;}#sk-container-id-2 label.sk-toggleable__label-arrow:hover:before {color: black;}#sk-container-id-2 div.sk-estimator:hover label.sk-toggleable__label-arrow:before {color: black;}#sk-container-id-2 div.sk-toggleable__content {max-height: 0;max-width: 0;overflow: hidden;text-align: left;background-color: #f0f8ff;}#sk-container-id-2 div.sk-toggleable__content pre {margin: 0.2em;color: black;border-radius: 0.25em;background-color: #f0f8ff;}#sk-container-id-2 input.sk-toggleable__control:checked~div.sk-toggleable__content {max-height: 200px;max-width: 100%;overflow: auto;}#sk-container-id-2 input.sk-toggleable__control:checked~label.sk-toggleable__label-arrow:before {content: \"▾\";}#sk-container-id-2 div.sk-estimator input.sk-toggleable__control:checked~label.sk-toggleable__label {background-color: #d4ebff;}#sk-container-id-2 div.sk-label input.sk-toggleable__control:checked~label.sk-toggleable__label {background-color: #d4ebff;}#sk-container-id-2 input.sk-hidden--visually {border: 0;clip: rect(1px 1px 1px 1px);clip: rect(1px, 1px, 1px, 1px);height: 1px;margin: -1px;overflow: hidden;padding: 0;position: absolute;width: 1px;}#sk-container-id-2 div.sk-estimator {font-family: monospace;background-color: #f0f8ff;border: 1px dotted black;border-radius: 0.25em;box-sizing: border-box;margin-bottom: 0.5em;}#sk-container-id-2 div.sk-estimator:hover {background-color: #d4ebff;}#sk-container-id-2 div.sk-parallel-item::after {content: \"\";width: 100%;border-bottom: 1px solid gray;flex-grow: 1;}#sk-container-id-2 div.sk-label:hover label.sk-toggleable__label {background-color: #d4ebff;}#sk-container-id-2 div.sk-serial::before {content: \"\";position: absolute;border-left: 1px solid gray;box-sizing: border-box;top: 0;bottom: 0;left: 50%;z-index: 0;}#sk-container-id-2 div.sk-serial {display: flex;flex-direction: column;align-items: center;background-color: white;padding-right: 0.2em;padding-left: 0.2em;position: relative;}#sk-container-id-2 div.sk-item {position: relative;z-index: 1;}#sk-container-id-2 div.sk-parallel {display: flex;align-items: stretch;justify-content: center;background-color: white;position: relative;}#sk-container-id-2 div.sk-item::before, #sk-container-id-2 div.sk-parallel-item::before {content: \"\";position: absolute;border-left: 1px solid gray;box-sizing: border-box;top: 0;bottom: 0;left: 50%;z-index: -1;}#sk-container-id-2 div.sk-parallel-item {display: flex;flex-direction: column;z-index: 1;position: relative;background-color: white;}#sk-container-id-2 div.sk-parallel-item:first-child::after {align-self: flex-end;width: 50%;}#sk-container-id-2 div.sk-parallel-item:last-child::after {align-self: flex-start;width: 50%;}#sk-container-id-2 div.sk-parallel-item:only-child::after {width: 0;}#sk-container-id-2 div.sk-dashed-wrapped {border: 1px dashed gray;margin: 0 0.4em 0.5em 0.4em;box-sizing: border-box;padding-bottom: 0.4em;background-color: white;}#sk-container-id-2 div.sk-label label {font-family: monospace;font-weight: bold;display: inline-block;line-height: 1.2em;}#sk-container-id-2 div.sk-label-container {text-align: center;}#sk-container-id-2 div.sk-container {/* jupyter's `normalize.less` sets `[hidden] { display: none; }` but bootstrap.min.css set `[hidden] { display: none !important; }` so we also need the `!important` here to be able to override the default hidden behavior on the sphinx rendered scikit-learn.org. See: https://github.com/scikit-learn/scikit-learn/issues/21755 */display: inline-block !important;position: relative;}#sk-container-id-2 div.sk-text-repr-fallback {display: none;}</style><div id=\"sk-container-id-2\" class=\"sk-top-container\"><div class=\"sk-text-repr-fallback\"><pre>LinearRegression()</pre><b>In a Jupyter environment, please rerun this cell to show the HTML representation or trust the notebook. <br />On GitHub, the HTML representation is unable to render, please try loading this page with nbviewer.org.</b></div><div class=\"sk-container\" hidden><div class=\"sk-item\"><div class=\"sk-estimator sk-toggleable\"><input class=\"sk-toggleable__control sk-hidden--visually\" id=\"sk-estimator-id-2\" type=\"checkbox\" checked><label for=\"sk-estimator-id-2\" class=\"sk-toggleable__label sk-toggleable__label-arrow\">LinearRegression</label><div class=\"sk-toggleable__content\"><pre>LinearRegression()</pre></div></div></div></div></div>"
            ]
          },
          "metadata": {},
          "execution_count": 27
        }
      ]
    },
    {
      "cell_type": "code",
      "source": [
        "w0 = model.intercept_\n",
        "w0"
      ],
      "metadata": {
        "colab": {
          "base_uri": "https://localhost:8080/"
        },
        "id": "oN4xjb6BYZnY",
        "outputId": "4374b117-9a36-4bbb-ec9d-531212f3a665"
      },
      "execution_count": null,
      "outputs": [
        {
          "output_type": "execute_result",
          "data": {
            "text/plain": [
              "5.633333333333329"
            ]
          },
          "metadata": {},
          "execution_count": 6
        }
      ]
    },
    {
      "cell_type": "code",
      "source": [
        "w1 = model.coef_\n",
        "w1"
      ],
      "metadata": {
        "colab": {
          "base_uri": "https://localhost:8080/"
        },
        "id": "VnXaXpW6YbWt",
        "outputId": "00bf9675-845d-4f05-d38d-81725779b718"
      },
      "execution_count": null,
      "outputs": [
        {
          "output_type": "execute_result",
          "data": {
            "text/plain": [
              "array([0.54])"
            ]
          },
          "metadata": {},
          "execution_count": 7
        }
      ]
    },
    {
      "cell_type": "markdown",
      "source": [
        "$$ y = w_{0} + w_{1}x $$\n",
        "$$ y = 5.63 + 0.54*x $$"
      ],
      "metadata": {
        "id": "pHrDjPbAaGSf"
      }
    },
    {
      "cell_type": "code",
      "source": [
        "# Предсказание\n",
        "y_pred = lin_reg.predict(x)\n",
        "\n",
        "plt.scatter(x, y)\n",
        "plt.plot(x, y_pred, color='red', linewidth=2);\n",
        "plt.show()"
      ],
      "metadata": {
        "colab": {
          "base_uri": "https://localhost:8080/",
          "height": 430
        },
        "id": "NGsCfoF6B-yK",
        "outputId": "60cdb3a8-de63-4fbd-be33-6a22f54faed6"
      },
      "execution_count": null,
      "outputs": [
        {
          "output_type": "display_data",
          "data": {
            "text/plain": [
              "<Figure size 640x480 with 1 Axes>"
            ],
            "image/png": "[encoded data removed]"
          },
          "metadata": {}
        }
      ]
    },
    {
      "cell_type": "code",
      "source": [
        "# оценим получившийся результат\n",
        "from sklearn.metrics import mean_absolute_error, mean_squared_error, r2_score\n",
        "\n",
        "print('Mean Absolute Error:', mean_absolute_error(y, y_pred))\n",
        "print('Mean Squared Error:', mean_squared_error(y, y_pred))\n",
        "print('R2 score:', r2_score(y, y_pred))"
      ],
      "metadata": {
        "colab": {
          "base_uri": "https://localhost:8080/"
        },
        "id": "OlTjrnb2CFCt",
        "outputId": "eb7eadeb-2f14-42a2-d029-aac0d68fb9aa"
      },
      "execution_count": null,
      "outputs": [
        {
          "output_type": "stream",
          "name": "stdout",
          "text": [
            "Mean Absolute Error: 5.466666666666666\n",
            "Mean Squared Error: 33.75555555555555\n",
            "R2 score: 0.7158756137479542\n"
          ]
        }
      ]
    },
    {
      "cell_type": "code",
      "source": [
        "y_pred_2 = np.full(6, y.mean())\n",
        "\n",
        "y_pred_2"
      ],
      "metadata": {
        "colab": {
          "base_uri": "https://localhost:8080/"
        },
        "id": "0N1UJ7JqCMlX",
        "outputId": "e8b2b283-b08a-41b0-b377-3b9f225575ac"
      },
      "execution_count": null,
      "outputs": [
        {
          "output_type": "execute_result",
          "data": {
            "text/plain": [
              "array([21.83333333, 21.83333333, 21.83333333, 21.83333333, 21.83333333,\n",
              "       21.83333333])"
            ]
          },
          "metadata": {},
          "execution_count": 30
        }
      ]
    },
    {
      "cell_type": "code",
      "source": [
        "print('Mean Absolute Error:', mean_absolute_error(y, y_pred_2))\n",
        "print('Mean Squared Error:', mean_squared_error(y, y_pred_2))\n",
        "print('R2 score:', r2_score(y, y_pred_2))"
      ],
      "metadata": {
        "colab": {
          "base_uri": "https://localhost:8080/"
        },
        "id": "HHTx_-E0CS7_",
        "outputId": "c1aaf455-1e49-4dac-bab8-7682c2ca6aa2"
      },
      "execution_count": null,
      "outputs": [
        {
          "output_type": "stream",
          "name": "stdout",
          "text": [
            "Mean Absolute Error: 8.833333333333334\n",
            "Mean Squared Error: 118.80555555555554\n",
            "R2 score: 0.0\n"
          ]
        }
      ]
    },
    {
      "cell_type": "markdown",
      "source": [
        "### Пример на данных"
      ],
      "metadata": {
        "id": "56PpU_l1_JGb"
      }
    },
    {
      "cell_type": "markdown",
      "source": [
        "- CRIM - per capita crime rate by town\n",
        "- ZN - proportion of residential land zoned for lots over 25,000 sq.ft.\n",
        "- INDUS - proportion of non-retail business acres per town.\n",
        "- CHAS - Charles River dummy variable (1 if tract bounds river; 0 otherwise)\n",
        "- NOX - nitric oxides concentration (parts per 10 million)\n",
        "- RM - average number of rooms per dwelling\n",
        "- AGE - proportion of owner-occupied units built prior to 1940\n",
        "- DIS - weighted distances to five Boston employment centres\n",
        "- RAD - index of accessibility to radial highways\n",
        "- TAX - full-value property-tax rate per 10,000\n",
        "- PTRATIO - pupil-teacher ratio by town\n",
        "- B - 1000(Bk - 0.63)^2 where Bk is the proportion of blacks by - town\n",
        "- LSTAT - % lower status of the population\n",
        "- MEDV - Median value of owner-occupied homes in $1000's"
      ],
      "metadata": {
        "id": "9ra4KbTOAeDo"
      }
    },
    {
      "cell_type": "code",
      "source": [
        "import pandas as pd\n",
        "\n",
        "df = pd.read_csv('https://raw.githubusercontent.com/selva86/datasets/master/BostonHousing.csv')\n",
        "\n",
        "df.head()"
      ],
      "metadata": {
        "colab": {
          "base_uri": "https://localhost:8080/",
          "height": 206
        },
        "id": "WX0L8os8AL1r",
        "outputId": "373a37dc-afb2-45ba-e901-60db62708454"
      },
      "execution_count": null,
      "outputs": [
        {
          "output_type": "execute_result",
          "data": {
            "text/plain": [
              "      crim    zn  indus  chas    nox     rm   age     dis  rad  tax  ptratio  \\\n",
              "0  0.00632  18.0   2.31     0  0.538  6.575  65.2  4.0900    1  296     15.3   \n",
              "1  0.02731   0.0   7.07     0  0.469  6.421  78.9  4.9671    2  242     17.8   \n",
              "2  0.02729   0.0   7.07     0  0.469  7.185  61.1  4.9671    2  242     17.8   \n",
              "3  0.03237   0.0   2.18     0  0.458  6.998  45.8  6.0622    3  222     18.7   \n",
              "4  0.06905   0.0   2.18     0  0.458  7.147  54.2  6.0622    3  222     18.7   \n",
              "\n",
              "        b  lstat  medv  \n",
              "0  396.90   4.98  24.0  \n",
              "1  396.90   9.14  21.6  \n",
              "2  392.83   4.03  34.7  \n",
              "3  394.63   2.94  33.4  \n",
              "4  396.90   5.33  36.2  "
            ],
            "text/html": [
              "\n",
              "  <div id=\"df-27a5ad50-3c5c-47bd-b3eb-e343ffdb8f30\" class=\"colab-df-container\">\n",
              "    <div>\n",
              "<style scoped>\n",
              "    .dataframe tbody tr th:only-of-type {\n",
              "        vertical-align: middle;\n",
              "    }\n",
              "\n",
              "    .dataframe tbody tr th {\n",
              "        vertical-align: top;\n",
              "    }\n",
              "\n",
              "    .dataframe thead th {\n",
              "        text-align: right;\n",
              "    }\n",
              "</style>\n",
              "<table border=\"1\" class=\"dataframe\">\n",
              "  <thead>\n",
              "    <tr style=\"text-align: right;\">\n",
              "      <th></th>\n",
              "      <th>crim</th>\n",
              "      <th>zn</th>\n",
              "      <th>indus</th>\n",
              "      <th>chas</th>\n",
              "      <th>nox</th>\n",
              "      <th>rm</th>\n",
              "      <th>age</th>\n",
              "      <th>dis</th>\n",
              "      <th>rad</th>\n",
              "      <th>tax</th>\n",
              "      <th>ptratio</th>\n",
              "      <th>b</th>\n",
              "      <th>lstat</th>\n",
              "      <th>medv</th>\n",
              "    </tr>\n",
              "  </thead>\n",
              "  <tbody>\n",
              "    <tr>\n",
              "      <th>0</th>\n",
              "      <td>0.00632</td>\n",
              "      <td>18.0</td>\n",
              "      <td>2.31</td>\n",
              "      <td>0</td>\n",
              "      <td>0.538</td>\n",
              "      <td>6.575</td>\n",
              "      <td>65.2</td>\n",
              "      <td>4.0900</td>\n",
              "      <td>1</td>\n",
              "      <td>296</td>\n",
              "      <td>15.3</td>\n",
              "      <td>396.90</td>\n",
              "      <td>4.98</td>\n",
              "      <td>24.0</td>\n",
              "    </tr>\n",
              "    <tr>\n",
              "      <th>1</th>\n",
              "      <td>0.02731</td>\n",
              "      <td>0.0</td>\n",
              "      <td>7.07</td>\n",
              "      <td>0</td>\n",
              "      <td>0.469</td>\n",
              "      <td>6.421</td>\n",
              "      <td>78.9</td>\n",
              "      <td>4.9671</td>\n",
              "      <td>2</td>\n",
              "      <td>242</td>\n",
              "      <td>17.8</td>\n",
              "      <td>396.90</td>\n",
              "      <td>9.14</td>\n",
              "      <td>21.6</td>\n",
              "    </tr>\n",
              "    <tr>\n",
              "      <th>2</th>\n",
              "      <td>0.02729</td>\n",
              "      <td>0.0</td>\n",
              "      <td>7.07</td>\n",
              "      <td>0</td>\n",
              "      <td>0.469</td>\n",
              "      <td>7.185</td>\n",
              "      <td>61.1</td>\n",
              "      <td>4.9671</td>\n",
              "      <td>2</td>\n",
              "      <td>242</td>\n",
              "      <td>17.8</td>\n",
              "      <td>392.83</td>\n",
              "      <td>4.03</td>\n",
              "      <td>34.7</td>\n",
              "    </tr>\n",
              "    <tr>\n",
              "      <th>3</th>\n",
              "      <td>0.03237</td>\n",
              "      <td>0.0</td>\n",
              "      <td>2.18</td>\n",
              "      <td>0</td>\n",
              "      <td>0.458</td>\n",
              "      <td>6.998</td>\n",
              "      <td>45.8</td>\n",
              "      <td>6.0622</td>\n",
              "      <td>3</td>\n",
              "      <td>222</td>\n",
              "      <td>18.7</td>\n",
              "      <td>394.63</td>\n",
              "      <td>2.94</td>\n",
              "      <td>33.4</td>\n",
              "    </tr>\n",
              "    <tr>\n",
              "      <th>4</th>\n",
              "      <td>0.06905</td>\n",
              "      <td>0.0</td>\n",
              "      <td>2.18</td>\n",
              "      <td>0</td>\n",
              "      <td>0.458</td>\n",
              "      <td>7.147</td>\n",
              "      <td>54.2</td>\n",
              "      <td>6.0622</td>\n",
              "      <td>3</td>\n",
              "      <td>222</td>\n",
              "      <td>18.7</td>\n",
              "      <td>396.90</td>\n",
              "      <td>5.33</td>\n",
              "      <td>36.2</td>\n",
              "    </tr>\n",
              "  </tbody>\n",
              "</table>\n",
              "</div>\n",
              "    <div class=\"colab-df-buttons\">\n",
              "\n",
              "  <div class=\"colab-df-container\">\n",
              "    <button class=\"colab-df-convert\" onclick=\"convertToInteractive('df-27a5ad50-3c5c-47bd-b3eb-e343ffdb8f30')\"\n",
              "            title=\"Convert this dataframe to an interactive table.\"\n",
              "            style=\"display:none;\">\n",
              "\n",
              "  <svg xmlns=\"http://www.w3.org/2000/svg\" height=\"24px\" viewBox=\"0 -960 960 960\">\n",
              "    <path d=\"M120-120v-720h720v720H120Zm60-500h600v-160H180v160Zm220 220h160v-160H400v160Zm0 220h160v-160H400v160ZM180-400h160v-160H180v160Zm440 0h160v-160H620v160ZM180-180h160v-160H180v160Zm440 0h160v-160H620v160Z\"/>\n",
              "  </svg>\n",
              "    </button>\n",
              "\n",
              "  <style>\n",
              "    .colab-df-container {\n",
              "      display:flex;\n",
              "      gap: 12px;\n",
              "    }\n",
              "\n",
              "    .colab-df-convert {\n",
              "      background-color: #E8F0FE;\n",
              "      border: none;\n",
              "      border-radius: 50%;\n",
              "      cursor: pointer;\n",
              "      display: none;\n",
              "      fill: #1967D2;\n",
              "      height: 32px;\n",
              "      padding: 0 0 0 0;\n",
              "      width: 32px;\n",
              "    }\n",
              "\n",
              "    .colab-df-convert:hover {\n",
              "      background-color: #E2EBFA;\n",
              "      box-shadow: 0px 1px 2px rgba(60, 64, 67, 0.3), 0px 1px 3px 1px rgba(60, 64, 67, 0.15);\n",
              "      fill: #174EA6;\n",
              "    }\n",
              "\n",
              "    .colab-df-buttons div {\n",
              "      margin-bottom: 4px;\n",
              "    }\n",
              "\n",
              "    [theme=dark] .colab-df-convert {\n",
              "      background-color: #3B4455;\n",
              "      fill: #D2E3FC;\n",
              "    }\n",
              "\n",
              "    [theme=dark] .colab-df-convert:hover {\n",
              "      background-color: #434B5C;\n",
              "      box-shadow: 0px 1px 3px 1px rgba(0, 0, 0, 0.15);\n",
              "      filter: drop-shadow(0px 1px 2px rgba(0, 0, 0, 0.3));\n",
              "      fill: #FFFFFF;\n",
              "    }\n",
              "  </style>\n",
              "\n",
              "    <script>\n",
              "      const buttonEl =\n",
              "        document.querySelector('#df-27a5ad50-3c5c-47bd-b3eb-e343ffdb8f30 button.colab-df-convert');\n",
              "      buttonEl.style.display =\n",
              "        google.colab.kernel.accessAllowed ? 'block' : 'none';\n",
              "\n",
              "      async function convertToInteractive(key) {\n",
              "        const element = document.querySelector('#df-27a5ad50-3c5c-47bd-b3eb-e343ffdb8f30');\n",
              "        const dataTable =\n",
              "          await google.colab.kernel.invokeFunction('convertToInteractive',\n",
              "                                                    [key], {});\n",
              "        if (!dataTable) return;\n",
              "\n",
              "        const docLinkHtml = 'Like what you see? Visit the ' +\n",
              "          '<a target=\"_blank\" href=https://colab.research.google.com/notebooks/data_table.ipynb>data table notebook</a>'\n",
              "          + ' to learn more about interactive tables.';\n",
              "        element.innerHTML = '';\n",
              "        dataTable['output_type'] = 'display_data';\n",
              "        await google.colab.output.renderOutput(dataTable, element);\n",
              "        const docLink = document.createElement('div');\n",
              "        docLink.innerHTML = docLinkHtml;\n",
              "        element.appendChild(docLink);\n",
              "      }\n",
              "    </script>\n",
              "  </div>\n",
              "\n",
              "\n",
              "<div id=\"df-4f917876-708e-4e3a-9846-10c5064ca94d\">\n",
              "  <button class=\"colab-df-quickchart\" onclick=\"quickchart('df-4f917876-708e-4e3a-9846-10c5064ca94d')\"\n",
              "            title=\"Suggest charts\"\n",
              "            style=\"display:none;\">\n",
              "\n",
              "<svg xmlns=\"http://www.w3.org/2000/svg\" height=\"24px\"viewBox=\"0 0 24 24\"\n",
              "     width=\"24px\">\n",
              "    <g>\n",
              "        <path d=\"M19 3H5c-1.1 0-2 .9-2 2v14c0 1.1.9 2 2 2h14c1.1 0 2-.9 2-2V5c0-1.1-.9-2-2-2zM9 17H7v-7h2v7zm4 0h-2V7h2v10zm4 0h-2v-4h2v4z\"/>\n",
              "    </g>\n",
              "</svg>\n",
              "  </button>\n",
              "\n",
              "<style>\n",
              "  .colab-df-quickchart {\n",
              "      --bg-color: #E8F0FE;\n",
              "      --fill-color: #1967D2;\n",
              "      --hover-bg-color: #E2EBFA;\n",
              "      --hover-fill-color: #174EA6;\n",
              "      --disabled-fill-color: #AAA;\n",
              "      --disabled-bg-color: #DDD;\n",
              "  }\n",
              "\n",
              "  [theme=dark] .colab-df-quickchart {\n",
              "      --bg-color: #3B4455;\n",
              "      --fill-color: #D2E3FC;\n",
              "      --hover-bg-color: #434B5C;\n",
              "      --hover-fill-color: #FFFFFF;\n",
              "      --disabled-bg-color: #3B4455;\n",
              "      --disabled-fill-color: #666;\n",
              "  }\n",
              "\n",
              "  .colab-df-quickchart {\n",
              "    background-color: var(--bg-color);\n",
              "    border: none;\n",
              "    border-radius: 50%;\n",
              "    cursor: pointer;\n",
              "    display: none;\n",
              "    fill: var(--fill-color);\n",
              "    height: 32px;\n",
              "    padding: 0;\n",
              "    width: 32px;\n",
              "  }\n",
              "\n",
              "  .colab-df-quickchart:hover {\n",
              "    background-color: var(--hover-bg-color);\n",
              "    box-shadow: 0 1px 2px rgba(60, 64, 67, 0.3), 0 1px 3px 1px rgba(60, 64, 67, 0.15);\n",
              "    fill: var(--button-hover-fill-color);\n",
              "  }\n",
              "\n",
              "  .colab-df-quickchart-complete:disabled,\n",
              "  .colab-df-quickchart-complete:disabled:hover {\n",
              "    background-color: var(--disabled-bg-color);\n",
              "    fill: var(--disabled-fill-color);\n",
              "    box-shadow: none;\n",
              "  }\n",
              "\n",
              "  .colab-df-spinner {\n",
              "    border: 2px solid var(--fill-color);\n",
              "    border-color: transparent;\n",
              "    border-bottom-color: var(--fill-color);\n",
              "    animation:\n",
              "      spin 1s steps(1) infinite;\n",
              "  }\n",
              "\n",
              "  @keyframes spin {\n",
              "    0% {\n",
              "      border-color: transparent;\n",
              "      border-bottom-color: var(--fill-color);\n",
              "      border-left-color: var(--fill-color);\n",
              "    }\n",
              "    20% {\n",
              "      border-color: transparent;\n",
              "      border-left-color: var(--fill-color);\n",
              "      border-top-color: var(--fill-color);\n",
              "    }\n",
              "    30% {\n",
              "      border-color: transparent;\n",
              "      border-left-color: var(--fill-color);\n",
              "      border-top-color: var(--fill-color);\n",
              "      border-right-color: var(--fill-color);\n",
              "    }\n",
              "    40% {\n",
              "      border-color: transparent;\n",
              "      border-right-color: var(--fill-color);\n",
              "      border-top-color: var(--fill-color);\n",
              "    }\n",
              "    60% {\n",
              "      border-color: transparent;\n",
              "      border-right-color: var(--fill-color);\n",
              "    }\n",
              "    80% {\n",
              "      border-color: transparent;\n",
              "      border-right-color: var(--fill-color);\n",
              "      border-bottom-color: var(--fill-color);\n",
              "    }\n",
              "    90% {\n",
              "      border-color: transparent;\n",
              "      border-bottom-color: var(--fill-color);\n",
              "    }\n",
              "  }\n",
              "</style>\n",
              "\n",
              "  <script>\n",
              "    async function quickchart(key) {\n",
              "      const quickchartButtonEl =\n",
              "        document.querySelector('#' + key + ' button');\n",
              "      quickchartButtonEl.disabled = true;  // To prevent multiple clicks.\n",
              "      quickchartButtonEl.classList.add('colab-df-spinner');\n",
              "      try {\n",
              "        const charts = await google.colab.kernel.invokeFunction(\n",
              "            'suggestCharts', [key], {});\n",
              "      } catch (error) {\n",
              "        console.error('Error during call to suggestCharts:', error);\n",
              "      }\n",
              "      quickchartButtonEl.classList.remove('colab-df-spinner');\n",
              "      quickchartButtonEl.classList.add('colab-df-quickchart-complete');\n",
              "    }\n",
              "    (() => {\n",
              "      let quickchartButtonEl =\n",
              "        document.querySelector('#df-4f917876-708e-4e3a-9846-10c5064ca94d button');\n",
              "      quickchartButtonEl.style.display =\n",
              "        google.colab.kernel.accessAllowed ? 'block' : 'none';\n",
              "    })();\n",
              "  </script>\n",
              "</div>\n",
              "    </div>\n",
              "  </div>\n"
            ]
          },
          "metadata": {},
          "execution_count": 1
        }
      ]
    },
    {
      "cell_type": "code",
      "source": [
        "df.describe()"
      ],
      "metadata": {
        "colab": {
          "base_uri": "https://localhost:8080/",
          "height": 320
        },
        "id": "kdEcUhfMk8Nc",
        "outputId": "f86b21e8-7e17-4642-e277-bf54dfe5a77a"
      },
      "execution_count": null,
      "outputs": [
        {
          "output_type": "execute_result",
          "data": {
            "text/plain": [
              "             crim          zn       indus        chas         nox          rm  \\\n",
              "count  506.000000  506.000000  506.000000  506.000000  506.000000  506.000000   \n",
              "mean     3.613524   11.363636   11.136779    0.069170    0.554695    6.284634   \n",
              "std      8.601545   23.322453    6.860353    0.253994    0.115878    0.702617   \n",
              "min      0.006320    0.000000    0.460000    0.000000    0.385000    3.561000   \n",
              "25%      0.082045    0.000000    5.190000    0.000000    0.449000    5.885500   \n",
              "50%      0.256510    0.000000    9.690000    0.000000    0.538000    6.208500   \n",
              "75%      3.677083   12.500000   18.100000    0.000000    0.624000    6.623500   \n",
              "max     88.976200  100.000000   27.740000    1.000000    0.871000    8.780000   \n",
              "\n",
              "              age         dis         rad         tax     ptratio           b  \\\n",
              "count  506.000000  506.000000  506.000000  506.000000  506.000000  506.000000   \n",
              "mean    68.574901    3.795043    9.549407  408.237154   18.455534  356.674032   \n",
              "std     28.148861    2.105710    8.707259  168.537116    2.164946   91.294864   \n",
              "min      2.900000    1.129600    1.000000  187.000000   12.600000    0.320000   \n",
              "25%     45.025000    2.100175    4.000000  279.000000   17.400000  375.377500   \n",
              "50%     77.500000    3.207450    5.000000  330.000000   19.050000  391.440000   \n",
              "75%     94.075000    5.188425   24.000000  666.000000   20.200000  396.225000   \n",
              "max    100.000000   12.126500   24.000000  711.000000   22.000000  396.900000   \n",
              "\n",
              "            lstat        medv  \n",
              "count  506.000000  506.000000  \n",
              "mean    12.653063   22.532806  \n",
              "std      7.141062    9.197104  \n",
              "min      1.730000    5.000000  \n",
              "25%      6.950000   17.025000  \n",
              "50%     11.360000   21.200000  \n",
              "75%     16.955000   25.000000  \n",
              "max     37.970000   50.000000  "
            ],
            "text/html": [
              "\n",
              "  <div id=\"df-f21e3e35-0ee4-4243-af71-8e011ad389b6\" class=\"colab-df-container\">\n",
              "    <div>\n",
              "<style scoped>\n",
              "    .dataframe tbody tr th:only-of-type {\n",
              "        vertical-align: middle;\n",
              "    }\n",
              "\n",
              "    .dataframe tbody tr th {\n",
              "        vertical-align: top;\n",
              "    }\n",
              "\n",
              "    .dataframe thead th {\n",
              "        text-align: right;\n",
              "    }\n",
              "</style>\n",
              "<table border=\"1\" class=\"dataframe\">\n",
              "  <thead>\n",
              "    <tr style=\"text-align: right;\">\n",
              "      <th></th>\n",
              "      <th>crim</th>\n",
              "      <th>zn</th>\n",
              "      <th>indus</th>\n",
              "      <th>chas</th>\n",
              "      <th>nox</th>\n",
              "      <th>rm</th>\n",
              "      <th>age</th>\n",
              "      <th>dis</th>\n",
              "      <th>rad</th>\n",
              "      <th>tax</th>\n",
              "      <th>ptratio</th>\n",
              "      <th>b</th>\n",
              "      <th>lstat</th>\n",
              "      <th>medv</th>\n",
              "    </tr>\n",
              "  </thead>\n",
              "  <tbody>\n",
              "    <tr>\n",
              "      <th>count</th>\n",
              "      <td>506.000000</td>\n",
              "      <td>506.000000</td>\n",
              "      <td>506.000000</td>\n",
              "      <td>506.000000</td>\n",
              "      <td>506.000000</td>\n",
              "      <td>506.000000</td>\n",
              "      <td>506.000000</td>\n",
              "      <td>506.000000</td>\n",
              "      <td>506.000000</td>\n",
              "      <td>506.000000</td>\n",
              "      <td>506.000000</td>\n",
              "      <td>506.000000</td>\n",
              "      <td>506.000000</td>\n",
              "      <td>506.000000</td>\n",
              "    </tr>\n",
              "    <tr>\n",
              "      <th>mean</th>\n",
              "      <td>3.613524</td>\n",
              "      <td>11.363636</td>\n",
              "      <td>11.136779</td>\n",
              "      <td>0.069170</td>\n",
              "      <td>0.554695</td>\n",
              "      <td>6.284634</td>\n",
              "      <td>68.574901</td>\n",
              "      <td>3.795043</td>\n",
              "      <td>9.549407</td>\n",
              "      <td>408.237154</td>\n",
              "      <td>18.455534</td>\n",
              "      <td>356.674032</td>\n",
              "      <td>12.653063</td>\n",
              "      <td>22.532806</td>\n",
              "    </tr>\n",
              "    <tr>\n",
              "      <th>std</th>\n",
              "      <td>8.601545</td>\n",
              "      <td>23.322453</td>\n",
              "      <td>6.860353</td>\n",
              "      <td>0.253994</td>\n",
              "      <td>0.115878</td>\n",
              "      <td>0.702617</td>\n",
              "      <td>28.148861</td>\n",
              "      <td>2.105710</td>\n",
              "      <td>8.707259</td>\n",
              "      <td>168.537116</td>\n",
              "      <td>2.164946</td>\n",
              "      <td>91.294864</td>\n",
              "      <td>7.141062</td>\n",
              "      <td>9.197104</td>\n",
              "    </tr>\n",
              "    <tr>\n",
              "      <th>min</th>\n",
              "      <td>0.006320</td>\n",
              "      <td>0.000000</td>\n",
              "      <td>0.460000</td>\n",
              "      <td>0.000000</td>\n",
              "      <td>0.385000</td>\n",
              "      <td>3.561000</td>\n",
              "      <td>2.900000</td>\n",
              "      <td>1.129600</td>\n",
              "      <td>1.000000</td>\n",
              "      <td>187.000000</td>\n",
              "      <td>12.600000</td>\n",
              "      <td>0.320000</td>\n",
              "      <td>1.730000</td>\n",
              "      <td>5.000000</td>\n",
              "    </tr>\n",
              "    <tr>\n",
              "      <th>25%</th>\n",
              "      <td>0.082045</td>\n",
              "      <td>0.000000</td>\n",
              "      <td>5.190000</td>\n",
              "      <td>0.000000</td>\n",
              "      <td>0.449000</td>\n",
              "      <td>5.885500</td>\n",
              "      <td>45.025000</td>\n",
              "      <td>2.100175</td>\n",
              "      <td>4.000000</td>\n",
              "      <td>279.000000</td>\n",
              "      <td>17.400000</td>\n",
              "      <td>375.377500</td>\n",
              "      <td>6.950000</td>\n",
              "      <td>17.025000</td>\n",
              "    </tr>\n",
              "    <tr>\n",
              "      <th>50%</th>\n",
              "      <td>0.256510</td>\n",
              "      <td>0.000000</td>\n",
              "      <td>9.690000</td>\n",
              "      <td>0.000000</td>\n",
              "      <td>0.538000</td>\n",
              "      <td>6.208500</td>\n",
              "      <td>77.500000</td>\n",
              "      <td>3.207450</td>\n",
              "      <td>5.000000</td>\n",
              "      <td>330.000000</td>\n",
              "      <td>19.050000</td>\n",
              "      <td>391.440000</td>\n",
              "      <td>11.360000</td>\n",
              "      <td>21.200000</td>\n",
              "    </tr>\n",
              "    <tr>\n",
              "      <th>75%</th>\n",
              "      <td>3.677083</td>\n",
              "      <td>12.500000</td>\n",
              "      <td>18.100000</td>\n",
              "      <td>0.000000</td>\n",
              "      <td>0.624000</td>\n",
              "      <td>6.623500</td>\n",
              "      <td>94.075000</td>\n",
              "      <td>5.188425</td>\n",
              "      <td>24.000000</td>\n",
              "      <td>666.000000</td>\n",
              "      <td>20.200000</td>\n",
              "      <td>396.225000</td>\n",
              "      <td>16.955000</td>\n",
              "      <td>25.000000</td>\n",
              "    </tr>\n",
              "    <tr>\n",
              "      <th>max</th>\n",
              "      <td>88.976200</td>\n",
              "      <td>100.000000</td>\n",
              "      <td>27.740000</td>\n",
              "      <td>1.000000</td>\n",
              "      <td>0.871000</td>\n",
              "      <td>8.780000</td>\n",
              "      <td>100.000000</td>\n",
              "      <td>12.126500</td>\n",
              "      <td>24.000000</td>\n",
              "      <td>711.000000</td>\n",
              "      <td>22.000000</td>\n",
              "      <td>396.900000</td>\n",
              "      <td>37.970000</td>\n",
              "      <td>50.000000</td>\n",
              "    </tr>\n",
              "  </tbody>\n",
              "</table>\n",
              "</div>\n",
              "    <div class=\"colab-df-buttons\">\n",
              "\n",
              "  <div class=\"colab-df-container\">\n",
              "    <button class=\"colab-df-convert\" onclick=\"convertToInteractive('df-f21e3e35-0ee4-4243-af71-8e011ad389b6')\"\n",
              "            title=\"Convert this dataframe to an interactive table.\"\n",
              "            style=\"display:none;\">\n",
              "\n",
              "  <svg xmlns=\"http://www.w3.org/2000/svg\" height=\"24px\" viewBox=\"0 -960 960 960\">\n",
              "    <path d=\"M120-120v-720h720v720H120Zm60-500h600v-160H180v160Zm220 220h160v-160H400v160Zm0 220h160v-160H400v160ZM180-400h160v-160H180v160Zm440 0h160v-160H620v160ZM180-180h160v-160H180v160Zm440 0h160v-160H620v160Z\"/>\n",
              "  </svg>\n",
              "    </button>\n",
              "\n",
              "  <style>\n",
              "    .colab-df-container {\n",
              "      display:flex;\n",
              "      gap: 12px;\n",
              "    }\n",
              "\n",
              "    .colab-df-convert {\n",
              "      background-color: #E8F0FE;\n",
              "      border: none;\n",
              "      border-radius: 50%;\n",
              "      cursor: pointer;\n",
              "      display: none;\n",
              "      fill: #1967D2;\n",
              "      height: 32px;\n",
              "      padding: 0 0 0 0;\n",
              "      width: 32px;\n",
              "    }\n",
              "\n",
              "    .colab-df-convert:hover {\n",
              "      background-color: #E2EBFA;\n",
              "      box-shadow: 0px 1px 2px rgba(60, 64, 67, 0.3), 0px 1px 3px 1px rgba(60, 64, 67, 0.15);\n",
              "      fill: #174EA6;\n",
              "    }\n",
              "\n",
              "    .colab-df-buttons div {\n",
              "      margin-bottom: 4px;\n",
              "    }\n",
              "\n",
              "    [theme=dark] .colab-df-convert {\n",
              "      background-color: #3B4455;\n",
              "      fill: #D2E3FC;\n",
              "    }\n",
              "\n",
              "    [theme=dark] .colab-df-convert:hover {\n",
              "      background-color: #434B5C;\n",
              "      box-shadow: 0px 1px 3px 1px rgba(0, 0, 0, 0.15);\n",
              "      filter: drop-shadow(0px 1px 2px rgba(0, 0, 0, 0.3));\n",
              "      fill: #FFFFFF;\n",
              "    }\n",
              "  </style>\n",
              "\n",
              "    <script>\n",
              "      const buttonEl =\n",
              "        document.querySelector('#df-f21e3e35-0ee4-4243-af71-8e011ad389b6 button.colab-df-convert');\n",
              "      buttonEl.style.display =\n",
              "        google.colab.kernel.accessAllowed ? 'block' : 'none';\n",
              "\n",
              "      async function convertToInteractive(key) {\n",
              "        const element = document.querySelector('#df-f21e3e35-0ee4-4243-af71-8e011ad389b6');\n",
              "        const dataTable =\n",
              "          await google.colab.kernel.invokeFunction('convertToInteractive',\n",
              "                                                    [key], {});\n",
              "        if (!dataTable) return;\n",
              "\n",
              "        const docLinkHtml = 'Like what you see? Visit the ' +\n",
              "          '<a target=\"_blank\" href=https://colab.research.google.com/notebooks/data_table.ipynb>data table notebook</a>'\n",
              "          + ' to learn more about interactive tables.';\n",
              "        element.innerHTML = '';\n",
              "        dataTable['output_type'] = 'display_data';\n",
              "        await google.colab.output.renderOutput(dataTable, element);\n",
              "        const docLink = document.createElement('div');\n",
              "        docLink.innerHTML = docLinkHtml;\n",
              "        element.appendChild(docLink);\n",
              "      }\n",
              "    </script>\n",
              "  </div>\n",
              "\n",
              "\n",
              "<div id=\"df-8ee5cd92-bb42-4044-a514-c9a0066ba601\">\n",
              "  <button class=\"colab-df-quickchart\" onclick=\"quickchart('df-8ee5cd92-bb42-4044-a514-c9a0066ba601')\"\n",
              "            title=\"Suggest charts\"\n",
              "            style=\"display:none;\">\n",
              "\n",
              "<svg xmlns=\"http://www.w3.org/2000/svg\" height=\"24px\"viewBox=\"0 0 24 24\"\n",
              "     width=\"24px\">\n",
              "    <g>\n",
              "        <path d=\"M19 3H5c-1.1 0-2 .9-2 2v14c0 1.1.9 2 2 2h14c1.1 0 2-.9 2-2V5c0-1.1-.9-2-2-2zM9 17H7v-7h2v7zm4 0h-2V7h2v10zm4 0h-2v-4h2v4z\"/>\n",
              "    </g>\n",
              "</svg>\n",
              "  </button>\n",
              "\n",
              "<style>\n",
              "  .colab-df-quickchart {\n",
              "      --bg-color: #E8F0FE;\n",
              "      --fill-color: #1967D2;\n",
              "      --hover-bg-color: #E2EBFA;\n",
              "      --hover-fill-color: #174EA6;\n",
              "      --disabled-fill-color: #AAA;\n",
              "      --disabled-bg-color: #DDD;\n",
              "  }\n",
              "\n",
              "  [theme=dark] .colab-df-quickchart {\n",
              "      --bg-color: #3B4455;\n",
              "      --fill-color: #D2E3FC;\n",
              "      --hover-bg-color: #434B5C;\n",
              "      --hover-fill-color: #FFFFFF;\n",
              "      --disabled-bg-color: #3B4455;\n",
              "      --disabled-fill-color: #666;\n",
              "  }\n",
              "\n",
              "  .colab-df-quickchart {\n",
              "    background-color: var(--bg-color);\n",
              "    border: none;\n",
              "    border-radius: 50%;\n",
              "    cursor: pointer;\n",
              "    display: none;\n",
              "    fill: var(--fill-color);\n",
              "    height: 32px;\n",
              "    padding: 0;\n",
              "    width: 32px;\n",
              "  }\n",
              "\n",
              "  .colab-df-quickchart:hover {\n",
              "    background-color: var(--hover-bg-color);\n",
              "    box-shadow: 0 1px 2px rgba(60, 64, 67, 0.3), 0 1px 3px 1px rgba(60, 64, 67, 0.15);\n",
              "    fill: var(--button-hover-fill-color);\n",
              "  }\n",
              "\n",
              "  .colab-df-quickchart-complete:disabled,\n",
              "  .colab-df-quickchart-complete:disabled:hover {\n",
              "    background-color: var(--disabled-bg-color);\n",
              "    fill: var(--disabled-fill-color);\n",
              "    box-shadow: none;\n",
              "  }\n",
              "\n",
              "  .colab-df-spinner {\n",
              "    border: 2px solid var(--fill-color);\n",
              "    border-color: transparent;\n",
              "    border-bottom-color: var(--fill-color);\n",
              "    animation:\n",
              "      spin 1s steps(1) infinite;\n",
              "  }\n",
              "\n",
              "  @keyframes spin {\n",
              "    0% {\n",
              "      border-color: transparent;\n",
              "      border-bottom-color: var(--fill-color);\n",
              "      border-left-color: var(--fill-color);\n",
              "    }\n",
              "    20% {\n",
              "      border-color: transparent;\n",
              "      border-left-color: var(--fill-color);\n",
              "      border-top-color: var(--fill-color);\n",
              "    }\n",
              "    30% {\n",
              "      border-color: transparent;\n",
              "      border-left-color: var(--fill-color);\n",
              "      border-top-color: var(--fill-color);\n",
              "      border-right-color: var(--fill-color);\n",
              "    }\n",
              "    40% {\n",
              "      border-color: transparent;\n",
              "      border-right-color: var(--fill-color);\n",
              "      border-top-color: var(--fill-color);\n",
              "    }\n",
              "    60% {\n",
              "      border-color: transparent;\n",
              "      border-right-color: var(--fill-color);\n",
              "    }\n",
              "    80% {\n",
              "      border-color: transparent;\n",
              "      border-right-color: var(--fill-color);\n",
              "      border-bottom-color: var(--fill-color);\n",
              "    }\n",
              "    90% {\n",
              "      border-color: transparent;\n",
              "      border-bottom-color: var(--fill-color);\n",
              "    }\n",
              "  }\n",
              "</style>\n",
              "\n",
              "  <script>\n",
              "    async function quickchart(key) {\n",
              "      const quickchartButtonEl =\n",
              "        document.querySelector('#' + key + ' button');\n",
              "      quickchartButtonEl.disabled = true;  // To prevent multiple clicks.\n",
              "      quickchartButtonEl.classList.add('colab-df-spinner');\n",
              "      try {\n",
              "        const charts = await google.colab.kernel.invokeFunction(\n",
              "            'suggestCharts', [key], {});\n",
              "      } catch (error) {\n",
              "        console.error('Error during call to suggestCharts:', error);\n",
              "      }\n",
              "      quickchartButtonEl.classList.remove('colab-df-spinner');\n",
              "      quickchartButtonEl.classList.add('colab-df-quickchart-complete');\n",
              "    }\n",
              "    (() => {\n",
              "      let quickchartButtonEl =\n",
              "        document.querySelector('#df-8ee5cd92-bb42-4044-a514-c9a0066ba601 button');\n",
              "      quickchartButtonEl.style.display =\n",
              "        google.colab.kernel.accessAllowed ? 'block' : 'none';\n",
              "    })();\n",
              "  </script>\n",
              "</div>\n",
              "    </div>\n",
              "  </div>\n"
            ]
          },
          "metadata": {},
          "execution_count": 2
        }
      ]
    },
    {
      "cell_type": "code",
      "source": [],
      "metadata": {
        "id": "91qsCNeKlMQI"
      },
      "execution_count": null,
      "outputs": []
    },
    {
      "cell_type": "code",
      "source": [
        "df.corr()"
      ],
      "metadata": {
        "colab": {
          "base_uri": "https://localhost:8080/",
          "height": 508
        },
        "id": "2qNY0_NClMWj",
        "outputId": "9cdaa20a-1784-4848-df55-66f7d435fb9d"
      },
      "execution_count": null,
      "outputs": [
        {
          "output_type": "execute_result",
          "data": {
            "text/plain": [
              "             crim        zn     indus      chas       nox        rm       age  \\\n",
              "crim     1.000000 -0.200469  0.406583 -0.055892  0.420972 -0.219247  0.352734   \n",
              "zn      -0.200469  1.000000 -0.533828 -0.042697 -0.516604  0.311991 -0.569537   \n",
              "indus    0.406583 -0.533828  1.000000  0.062938  0.763651 -0.391676  0.644779   \n",
              "chas    -0.055892 -0.042697  0.062938  1.000000  0.091203  0.091251  0.086518   \n",
              "nox      0.420972 -0.516604  0.763651  0.091203  1.000000 -0.302188  0.731470   \n",
              "rm      -0.219247  0.311991 -0.391676  0.091251 -0.302188  1.000000 -0.240265   \n",
              "age      0.352734 -0.569537  0.644779  0.086518  0.731470 -0.240265  1.000000   \n",
              "dis     -0.379670  0.664408 -0.708027 -0.099176 -0.769230  0.205246 -0.747881   \n",
              "rad      0.625505 -0.311948  0.595129 -0.007368  0.611441 -0.209847  0.456022   \n",
              "tax      0.582764 -0.314563  0.720760 -0.035587  0.668023 -0.292048  0.506456   \n",
              "ptratio  0.289946 -0.391679  0.383248 -0.121515  0.188933 -0.355501  0.261515   \n",
              "b       -0.385064  0.175520 -0.356977  0.048788 -0.380051  0.128069 -0.273534   \n",
              "lstat    0.455621 -0.412995  0.603800 -0.053929  0.590879 -0.613808  0.602339   \n",
              "medv    -0.388305  0.360445 -0.483725  0.175260 -0.427321  0.695360 -0.376955   \n",
              "\n",
              "              dis       rad       tax   ptratio         b     lstat      medv  \n",
              "crim    -0.379670  0.625505  0.582764  0.289946 -0.385064  0.455621 -0.388305  \n",
              "zn       0.664408 -0.311948 -0.314563 -0.391679  0.175520 -0.412995  0.360445  \n",
              "indus   -0.708027  0.595129  0.720760  0.383248 -0.356977  0.603800 -0.483725  \n",
              "chas    -0.099176 -0.007368 -0.035587 -0.121515  0.048788 -0.053929  0.175260  \n",
              "nox     -0.769230  0.611441  0.668023  0.188933 -0.380051  0.590879 -0.427321  \n",
              "rm       0.205246 -0.209847 -0.292048 -0.355501  0.128069 -0.613808  0.695360  \n",
              "age     -0.747881  0.456022  0.506456  0.261515 -0.273534  0.602339 -0.376955  \n",
              "dis      1.000000 -0.494588 -0.534432 -0.232471  0.291512 -0.496996  0.249929  \n",
              "rad     -0.494588  1.000000  0.910228  0.464741 -0.444413  0.488676 -0.381626  \n",
              "tax     -0.534432  0.910228  1.000000  0.460853 -0.441808  0.543993 -0.468536  \n",
              "ptratio -0.232471  0.464741  0.460853  1.000000 -0.177383  0.374044 -0.507787  \n",
              "b        0.291512 -0.444413 -0.441808 -0.177383  1.000000 -0.366087  0.333461  \n",
              "lstat   -0.496996  0.488676  0.543993  0.374044 -0.366087  1.000000 -0.737663  \n",
              "medv     0.249929 -0.381626 -0.468536 -0.507787  0.333461 -0.737663  1.000000  "
            ],
            "text/html": [
              "\n",
              "  <div id=\"df-1de4e69f-c350-4a4b-b6a5-edc93968ed26\" class=\"colab-df-container\">\n",
              "    <div>\n",
              "<style scoped>\n",
              "    .dataframe tbody tr th:only-of-type {\n",
              "        vertical-align: middle;\n",
              "    }\n",
              "\n",
              "    .dataframe tbody tr th {\n",
              "        vertical-align: top;\n",
              "    }\n",
              "\n",
              "    .dataframe thead th {\n",
              "        text-align: right;\n",
              "    }\n",
              "</style>\n",
              "<table border=\"1\" class=\"dataframe\">\n",
              "  <thead>\n",
              "    <tr style=\"text-align: right;\">\n",
              "      <th></th>\n",
              "      <th>crim</th>\n",
              "      <th>zn</th>\n",
              "      <th>indus</th>\n",
              "      <th>chas</th>\n",
              "      <th>nox</th>\n",
              "      <th>rm</th>\n",
              "      <th>age</th>\n",
              "      <th>dis</th>\n",
              "      <th>rad</th>\n",
              "      <th>tax</th>\n",
              "      <th>ptratio</th>\n",
              "      <th>b</th>\n",
              "      <th>lstat</th>\n",
              "      <th>medv</th>\n",
              "    </tr>\n",
              "  </thead>\n",
              "  <tbody>\n",
              "    <tr>\n",
              "      <th>crim</th>\n",
              "      <td>1.000000</td>\n",
              "      <td>-0.200469</td>\n",
              "      <td>0.406583</td>\n",
              "      <td>-0.055892</td>\n",
              "      <td>0.420972</td>\n",
              "      <td>-0.219247</td>\n",
              "      <td>0.352734</td>\n",
              "      <td>-0.379670</td>\n",
              "      <td>0.625505</td>\n",
              "      <td>0.582764</td>\n",
              "      <td>0.289946</td>\n",
              "      <td>-0.385064</td>\n",
              "      <td>0.455621</td>\n",
              "      <td>-0.388305</td>\n",
              "    </tr>\n",
              "    <tr>\n",
              "      <th>zn</th>\n",
              "      <td>-0.200469</td>\n",
              "      <td>1.000000</td>\n",
              "      <td>-0.533828</td>\n",
              "      <td>-0.042697</td>\n",
              "      <td>-0.516604</td>\n",
              "      <td>0.311991</td>\n",
              "      <td>-0.569537</td>\n",
              "      <td>0.664408</td>\n",
              "      <td>-0.311948</td>\n",
              "      <td>-0.314563</td>\n",
              "      <td>-0.391679</td>\n",
              "      <td>0.175520</td>\n",
              "      <td>-0.412995</td>\n",
              "      <td>0.360445</td>\n",
              "    </tr>\n",
              "    <tr>\n",
              "      <th>indus</th>\n",
              "      <td>0.406583</td>\n",
              "      <td>-0.533828</td>\n",
              "      <td>1.000000</td>\n",
              "      <td>0.062938</td>\n",
              "      <td>0.763651</td>\n",
              "      <td>-0.391676</td>\n",
              "      <td>0.644779</td>\n",
              "      <td>-0.708027</td>\n",
              "      <td>0.595129</td>\n",
              "      <td>0.720760</td>\n",
              "      <td>0.383248</td>\n",
              "      <td>-0.356977</td>\n",
              "      <td>0.603800</td>\n",
              "      <td>-0.483725</td>\n",
              "    </tr>\n",
              "    <tr>\n",
              "      <th>chas</th>\n",
              "      <td>-0.055892</td>\n",
              "      <td>-0.042697</td>\n",
              "      <td>0.062938</td>\n",
              "      <td>1.000000</td>\n",
              "      <td>0.091203</td>\n",
              "      <td>0.091251</td>\n",
              "      <td>0.086518</td>\n",
              "      <td>-0.099176</td>\n",
              "      <td>-0.007368</td>\n",
              "      <td>-0.035587</td>\n",
              "      <td>-0.121515</td>\n",
              "      <td>0.048788</td>\n",
              "      <td>-0.053929</td>\n",
              "      <td>0.175260</td>\n",
              "    </tr>\n",
              "    <tr>\n",
              "      <th>nox</th>\n",
              "      <td>0.420972</td>\n",
              "      <td>-0.516604</td>\n",
              "      <td>0.763651</td>\n",
              "      <td>0.091203</td>\n",
              "      <td>1.000000</td>\n",
              "      <td>-0.302188</td>\n",
              "      <td>0.731470</td>\n",
              "      <td>-0.769230</td>\n",
              "      <td>0.611441</td>\n",
              "      <td>0.668023</td>\n",
              "      <td>0.188933</td>\n",
              "      <td>-0.380051</td>\n",
              "      <td>0.590879</td>\n",
              "      <td>-0.427321</td>\n",
              "    </tr>\n",
              "    <tr>\n",
              "      <th>rm</th>\n",
              "      <td>-0.219247</td>\n",
              "      <td>0.311991</td>\n",
              "      <td>-0.391676</td>\n",
              "      <td>0.091251</td>\n",
              "      <td>-0.302188</td>\n",
              "      <td>1.000000</td>\n",
              "      <td>-0.240265</td>\n",
              "      <td>0.205246</td>\n",
              "      <td>-0.209847</td>\n",
              "      <td>-0.292048</td>\n",
              "      <td>-0.355501</td>\n",
              "      <td>0.128069</td>\n",
              "      <td>-0.613808</td>\n",
              "      <td>0.695360</td>\n",
              "    </tr>\n",
              "    <tr>\n",
              "      <th>age</th>\n",
              "      <td>0.352734</td>\n",
              "      <td>-0.569537</td>\n",
              "      <td>0.644779</td>\n",
              "      <td>0.086518</td>\n",
              "      <td>0.731470</td>\n",
              "      <td>-0.240265</td>\n",
              "      <td>1.000000</td>\n",
              "      <td>-0.747881</td>\n",
              "      <td>0.456022</td>\n",
              "      <td>0.506456</td>\n",
              "      <td>0.261515</td>\n",
              "      <td>-0.273534</td>\n",
              "      <td>0.602339</td>\n",
              "      <td>-0.376955</td>\n",
              "    </tr>\n",
              "    <tr>\n",
              "      <th>dis</th>\n",
              "      <td>-0.379670</td>\n",
              "      <td>0.664408</td>\n",
              "      <td>-0.708027</td>\n",
              "      <td>-0.099176</td>\n",
              "      <td>-0.769230</td>\n",
              "      <td>0.205246</td>\n",
              "      <td>-0.747881</td>\n",
              "      <td>1.000000</td>\n",
              "      <td>-0.494588</td>\n",
              "      <td>-0.534432</td>\n",
              "      <td>-0.232471</td>\n",
              "      <td>0.291512</td>\n",
              "      <td>-0.496996</td>\n",
              "      <td>0.249929</td>\n",
              "    </tr>\n",
              "    <tr>\n",
              "      <th>rad</th>\n",
              "      <td>0.625505</td>\n",
              "      <td>-0.311948</td>\n",
              "      <td>0.595129</td>\n",
              "      <td>-0.007368</td>\n",
              "      <td>0.611441</td>\n",
              "      <td>-0.209847</td>\n",
              "      <td>0.456022</td>\n",
              "      <td>-0.494588</td>\n",
              "      <td>1.000000</td>\n",
              "      <td>0.910228</td>\n",
              "      <td>0.464741</td>\n",
              "      <td>-0.444413</td>\n",
              "      <td>0.488676</td>\n",
              "      <td>-0.381626</td>\n",
              "    </tr>\n",
              "    <tr>\n",
              "      <th>tax</th>\n",
              "      <td>0.582764</td>\n",
              "      <td>-0.314563</td>\n",
              "      <td>0.720760</td>\n",
              "      <td>-0.035587</td>\n",
              "      <td>0.668023</td>\n",
              "      <td>-0.292048</td>\n",
              "      <td>0.506456</td>\n",
              "      <td>-0.534432</td>\n",
              "      <td>0.910228</td>\n",
              "      <td>1.000000</td>\n",
              "      <td>0.460853</td>\n",
              "      <td>-0.441808</td>\n",
              "      <td>0.543993</td>\n",
              "      <td>-0.468536</td>\n",
              "    </tr>\n",
              "    <tr>\n",
              "      <th>ptratio</th>\n",
              "      <td>0.289946</td>\n",
              "      <td>-0.391679</td>\n",
              "      <td>0.383248</td>\n",
              "      <td>-0.121515</td>\n",
              "      <td>0.188933</td>\n",
              "      <td>-0.355501</td>\n",
              "      <td>0.261515</td>\n",
              "      <td>-0.232471</td>\n",
              "      <td>0.464741</td>\n",
              "      <td>0.460853</td>\n",
              "      <td>1.000000</td>\n",
              "      <td>-0.177383</td>\n",
              "      <td>0.374044</td>\n",
              "      <td>-0.507787</td>\n",
              "    </tr>\n",
              "    <tr>\n",
              "      <th>b</th>\n",
              "      <td>-0.385064</td>\n",
              "      <td>0.175520</td>\n",
              "      <td>-0.356977</td>\n",
              "      <td>0.048788</td>\n",
              "      <td>-0.380051</td>\n",
              "      <td>0.128069</td>\n",
              "      <td>-0.273534</td>\n",
              "      <td>0.291512</td>\n",
              "      <td>-0.444413</td>\n",
              "      <td>-0.441808</td>\n",
              "      <td>-0.177383</td>\n",
              "      <td>1.000000</td>\n",
              "      <td>-0.366087</td>\n",
              "      <td>0.333461</td>\n",
              "    </tr>\n",
              "    <tr>\n",
              "      <th>lstat</th>\n",
              "      <td>0.455621</td>\n",
              "      <td>-0.412995</td>\n",
              "      <td>0.603800</td>\n",
              "      <td>-0.053929</td>\n",
              "      <td>0.590879</td>\n",
              "      <td>-0.613808</td>\n",
              "      <td>0.602339</td>\n",
              "      <td>-0.496996</td>\n",
              "      <td>0.488676</td>\n",
              "      <td>0.543993</td>\n",
              "      <td>0.374044</td>\n",
              "      <td>-0.366087</td>\n",
              "      <td>1.000000</td>\n",
              "      <td>-0.737663</td>\n",
              "    </tr>\n",
              "    <tr>\n",
              "      <th>medv</th>\n",
              "      <td>-0.388305</td>\n",
              "      <td>0.360445</td>\n",
              "      <td>-0.483725</td>\n",
              "      <td>0.175260</td>\n",
              "      <td>-0.427321</td>\n",
              "      <td>0.695360</td>\n",
              "      <td>-0.376955</td>\n",
              "      <td>0.249929</td>\n",
              "      <td>-0.381626</td>\n",
              "      <td>-0.468536</td>\n",
              "      <td>-0.507787</td>\n",
              "      <td>0.333461</td>\n",
              "      <td>-0.737663</td>\n",
              "      <td>1.000000</td>\n",
              "    </tr>\n",
              "  </tbody>\n",
              "</table>\n",
              "</div>\n",
              "    <div class=\"colab-df-buttons\">\n",
              "\n",
              "  <div class=\"colab-df-container\">\n",
              "    <button class=\"colab-df-convert\" onclick=\"convertToInteractive('df-1de4e69f-c350-4a4b-b6a5-edc93968ed26')\"\n",
              "            title=\"Convert this dataframe to an interactive table.\"\n",
              "            style=\"display:none;\">\n",
              "\n",
              "  <svg xmlns=\"http://www.w3.org/2000/svg\" height=\"24px\" viewBox=\"0 -960 960 960\">\n",
              "    <path d=\"M120-120v-720h720v720H120Zm60-500h600v-160H180v160Zm220 220h160v-160H400v160Zm0 220h160v-160H400v160ZM180-400h160v-160H180v160Zm440 0h160v-160H620v160ZM180-180h160v-160H180v160Zm440 0h160v-160H620v160Z\"/>\n",
              "  </svg>\n",
              "    </button>\n",
              "\n",
              "  <style>\n",
              "    .colab-df-container {\n",
              "      display:flex;\n",
              "      gap: 12px;\n",
              "    }\n",
              "\n",
              "    .colab-df-convert {\n",
              "      background-color: #E8F0FE;\n",
              "      border: none;\n",
              "      border-radius: 50%;\n",
              "      cursor: pointer;\n",
              "      display: none;\n",
              "      fill: #1967D2;\n",
              "      height: 32px;\n",
              "      padding: 0 0 0 0;\n",
              "      width: 32px;\n",
              "    }\n",
              "\n",
              "    .colab-df-convert:hover {\n",
              "      background-color: #E2EBFA;\n",
              "      box-shadow: 0px 1px 2px rgba(60, 64, 67, 0.3), 0px 1px 3px 1px rgba(60, 64, 67, 0.15);\n",
              "      fill: #174EA6;\n",
              "    }\n",
              "\n",
              "    .colab-df-buttons div {\n",
              "      margin-bottom: 4px;\n",
              "    }\n",
              "\n",
              "    [theme=dark] .colab-df-convert {\n",
              "      background-color: #3B4455;\n",
              "      fill: #D2E3FC;\n",
              "    }\n",
              "\n",
              "    [theme=dark] .colab-df-convert:hover {\n",
              "      background-color: #434B5C;\n",
              "      box-shadow: 0px 1px 3px 1px rgba(0, 0, 0, 0.15);\n",
              "      filter: drop-shadow(0px 1px 2px rgba(0, 0, 0, 0.3));\n",
              "      fill: #FFFFFF;\n",
              "    }\n",
              "  </style>\n",
              "\n",
              "    <script>\n",
              "      const buttonEl =\n",
              "        document.querySelector('#df-1de4e69f-c350-4a4b-b6a5-edc93968ed26 button.colab-df-convert');\n",
              "      buttonEl.style.display =\n",
              "        google.colab.kernel.accessAllowed ? 'block' : 'none';\n",
              "\n",
              "      async function convertToInteractive(key) {\n",
              "        const element = document.querySelector('#df-1de4e69f-c350-4a4b-b6a5-edc93968ed26');\n",
              "        const dataTable =\n",
              "          await google.colab.kernel.invokeFunction('convertToInteractive',\n",
              "                                                    [key], {});\n",
              "        if (!dataTable) return;\n",
              "\n",
              "        const docLinkHtml = 'Like what you see? Visit the ' +\n",
              "          '<a target=\"_blank\" href=https://colab.research.google.com/notebooks/data_table.ipynb>data table notebook</a>'\n",
              "          + ' to learn more about interactive tables.';\n",
              "        element.innerHTML = '';\n",
              "        dataTable['output_type'] = 'display_data';\n",
              "        await google.colab.output.renderOutput(dataTable, element);\n",
              "        const docLink = document.createElement('div');\n",
              "        docLink.innerHTML = docLinkHtml;\n",
              "        element.appendChild(docLink);\n",
              "      }\n",
              "    </script>\n",
              "  </div>\n",
              "\n",
              "\n",
              "<div id=\"df-7d77f755-de34-4457-9efe-2ce82c2a815a\">\n",
              "  <button class=\"colab-df-quickchart\" onclick=\"quickchart('df-7d77f755-de34-4457-9efe-2ce82c2a815a')\"\n",
              "            title=\"Suggest charts\"\n",
              "            style=\"display:none;\">\n",
              "\n",
              "<svg xmlns=\"http://www.w3.org/2000/svg\" height=\"24px\"viewBox=\"0 0 24 24\"\n",
              "     width=\"24px\">\n",
              "    <g>\n",
              "        <path d=\"M19 3H5c-1.1 0-2 .9-2 2v14c0 1.1.9 2 2 2h14c1.1 0 2-.9 2-2V5c0-1.1-.9-2-2-2zM9 17H7v-7h2v7zm4 0h-2V7h2v10zm4 0h-2v-4h2v4z\"/>\n",
              "    </g>\n",
              "</svg>\n",
              "  </button>\n",
              "\n",
              "<style>\n",
              "  .colab-df-quickchart {\n",
              "      --bg-color: #E8F0FE;\n",
              "      --fill-color: #1967D2;\n",
              "      --hover-bg-color: #E2EBFA;\n",
              "      --hover-fill-color: #174EA6;\n",
              "      --disabled-fill-color: #AAA;\n",
              "      --disabled-bg-color: #DDD;\n",
              "  }\n",
              "\n",
              "  [theme=dark] .colab-df-quickchart {\n",
              "      --bg-color: #3B4455;\n",
              "      --fill-color: #D2E3FC;\n",
              "      --hover-bg-color: #434B5C;\n",
              "      --hover-fill-color: #FFFFFF;\n",
              "      --disabled-bg-color: #3B4455;\n",
              "      --disabled-fill-color: #666;\n",
              "  }\n",
              "\n",
              "  .colab-df-quickchart {\n",
              "    background-color: var(--bg-color);\n",
              "    border: none;\n",
              "    border-radius: 50%;\n",
              "    cursor: pointer;\n",
              "    display: none;\n",
              "    fill: var(--fill-color);\n",
              "    height: 32px;\n",
              "    padding: 0;\n",
              "    width: 32px;\n",
              "  }\n",
              "\n",
              "  .colab-df-quickchart:hover {\n",
              "    background-color: var(--hover-bg-color);\n",
              "    box-shadow: 0 1px 2px rgba(60, 64, 67, 0.3), 0 1px 3px 1px rgba(60, 64, 67, 0.15);\n",
              "    fill: var(--button-hover-fill-color);\n",
              "  }\n",
              "\n",
              "  .colab-df-quickchart-complete:disabled,\n",
              "  .colab-df-quickchart-complete:disabled:hover {\n",
              "    background-color: var(--disabled-bg-color);\n",
              "    fill: var(--disabled-fill-color);\n",
              "    box-shadow: none;\n",
              "  }\n",
              "\n",
              "  .colab-df-spinner {\n",
              "    border: 2px solid var(--fill-color);\n",
              "    border-color: transparent;\n",
              "    border-bottom-color: var(--fill-color);\n",
              "    animation:\n",
              "      spin 1s steps(1) infinite;\n",
              "  }\n",
              "\n",
              "  @keyframes spin {\n",
              "    0% {\n",
              "      border-color: transparent;\n",
              "      border-bottom-color: var(--fill-color);\n",
              "      border-left-color: var(--fill-color);\n",
              "    }\n",
              "    20% {\n",
              "      border-color: transparent;\n",
              "      border-left-color: var(--fill-color);\n",
              "      border-top-color: var(--fill-color);\n",
              "    }\n",
              "    30% {\n",
              "      border-color: transparent;\n",
              "      border-left-color: var(--fill-color);\n",
              "      border-top-color: var(--fill-color);\n",
              "      border-right-color: var(--fill-color);\n",
              "    }\n",
              "    40% {\n",
              "      border-color: transparent;\n",
              "      border-right-color: var(--fill-color);\n",
              "      border-top-color: var(--fill-color);\n",
              "    }\n",
              "    60% {\n",
              "      border-color: transparent;\n",
              "      border-right-color: var(--fill-color);\n",
              "    }\n",
              "    80% {\n",
              "      border-color: transparent;\n",
              "      border-right-color: var(--fill-color);\n",
              "      border-bottom-color: var(--fill-color);\n",
              "    }\n",
              "    90% {\n",
              "      border-color: transparent;\n",
              "      border-bottom-color: var(--fill-color);\n",
              "    }\n",
              "  }\n",
              "</style>\n",
              "\n",
              "  <script>\n",
              "    async function quickchart(key) {\n",
              "      const quickchartButtonEl =\n",
              "        document.querySelector('#' + key + ' button');\n",
              "      quickchartButtonEl.disabled = true;  // To prevent multiple clicks.\n",
              "      quickchartButtonEl.classList.add('colab-df-spinner');\n",
              "      try {\n",
              "        const charts = await google.colab.kernel.invokeFunction(\n",
              "            'suggestCharts', [key], {});\n",
              "      } catch (error) {\n",
              "        console.error('Error during call to suggestCharts:', error);\n",
              "      }\n",
              "      quickchartButtonEl.classList.remove('colab-df-spinner');\n",
              "      quickchartButtonEl.classList.add('colab-df-quickchart-complete');\n",
              "    }\n",
              "    (() => {\n",
              "      let quickchartButtonEl =\n",
              "        document.querySelector('#df-7d77f755-de34-4457-9efe-2ce82c2a815a button');\n",
              "      quickchartButtonEl.style.display =\n",
              "        google.colab.kernel.accessAllowed ? 'block' : 'none';\n",
              "    })();\n",
              "  </script>\n",
              "</div>\n",
              "    </div>\n",
              "  </div>\n"
            ]
          },
          "metadata": {},
          "execution_count": 3
        }
      ]
    },
    {
      "cell_type": "code",
      "source": [
        "df.shape"
      ],
      "metadata": {
        "colab": {
          "base_uri": "https://localhost:8080/"
        },
        "id": "w8OQw9H4ASf0",
        "outputId": "256e848f-9677-40ae-9b7f-d55079f684ec"
      },
      "execution_count": null,
      "outputs": [
        {
          "output_type": "execute_result",
          "data": {
            "text/plain": [
              "(506, 14)"
            ]
          },
          "metadata": {},
          "execution_count": 12
        }
      ]
    },
    {
      "cell_type": "code",
      "source": [
        "# Вектор признаков\n",
        "X = df.drop(columns=['medv', 'id'])\n",
        "\n",
        "# Вектор целевой переменной\n",
        "Y = df['medv']"
      ],
      "metadata": {
        "id": "o3ktym8IAvoz"
      },
      "execution_count": null,
      "outputs": []
    },
    {
      "cell_type": "markdown",
      "source": [
        "Одна из целей построения алгоритмов машинного обучения, постоить такую модель, которая будет способная также хорошо работать с новыми данными, которых она не видела до этого, как и с теми данными на которых обучалась.\n",
        "\n",
        "Это называется **обобщающей способностью** моделей.\n",
        "\n",
        "**Обобщающая способность** — это способность аналитической модели, построенной на основе машинного обучения (нейронной сети, дерева решений, карты Кохонена и др.) выдавать правильные результаты не только для примеров, участвовавших в процессе обучения, но и для любых новых, которые не участвовали в нем.\n",
        "\n",
        "Именно поэтому при обучении модели, существующий набор данных разделяют на подвыборки:\n",
        "- **тренировочную (train)** - набор данных на которых мы обучаем нашу модель\n",
        "- **тестовую (test)** - это набор данных, которые мы не использовали для обучения нашей модели, т. е. это данные которые не видела наша модель. Набор данных используется для тестирования и оценки модели.\n",
        "\n",
        "***Таким образом разделение данных на обучающую и тестовую выборки позволяет имитировать работу модели на новых/неизвестных данных.***"
      ],
      "metadata": {
        "id": "oRPd5E3zBGCj"
      }
    },
    {
      "cell_type": "markdown",
      "source": [
        "К тому же при использовании одних и тех же данных может возникнуть **Переобучение** — это термин, используемый для описания того, когда модель изучила эту взаимосвязь «слишком хорошо» для обучающих данных.\n",
        "\n",
        "Под «слишком хорошо» мы подразумеваем скорее то, что он слишком близко изучил взаимосвязь — что он видит больше тенденций/корреляций/связей, чем существует на самом деле."
      ],
      "metadata": {
        "id": "Pn7L1i7fBI5H"
      }
    },
    {
      "cell_type": "markdown",
      "source": [
        "**Существует две основных стратегий разделения данных на подвыборки:**\n",
        "1. отложенная выборка: разделение данных на две части (train и test)\n",
        "2. Кроссвалидация"
      ],
      "metadata": {
        "id": "OTD6yuNNBK21"
      }
    },
    {
      "cell_type": "markdown",
      "source": [
        "#### Отложенная выборка"
      ],
      "metadata": {
        "id": "KYwNOuOABNRk"
      }
    },
    {
      "cell_type": "markdown",
      "source": [
        "Данный подход эффективен при большом количестве данных, при маленьких размерах выборки может возникнуть множество различных проблем.\n",
        "\n",
        "В библиотеки sklearn реализован метод позволяющий осуществить данное разбиение:\n",
        "\n",
        "`from sklearn.model_selection import train_test_split`"
      ],
      "metadata": {
        "id": "QkXC9DgmBPnH"
      }
    },
    {
      "cell_type": "markdown",
      "source": [
        "![0_rCL0IbOCdPGq9Xfv.png](data:image/png;base64,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)"
      ],
      "metadata": {
        "id": "4-8yKecoBP5P"
      }
    },
    {
      "cell_type": "code",
      "source": [
        "from sklearn.model_selection import train_test_split\n",
        "\n",
        "X_train, X_test, y_train, y_test = train_test_split(X, Y, test_size=1/3, random_state=42)\n",
        "\n",
        "print(f'Train dataset size: {X_train.shape}, {y_train.shape}')\n",
        "print(f'Test dataset size: {X_test.shape}, {y_test.shape}')"
      ],
      "metadata": {
        "colab": {
          "base_uri": "https://localhost:8080/"
        },
        "id": "kqyvgZQEBTKF",
        "outputId": "315b0568-452c-4ad0-baa0-f84d2b3db14d"
      },
      "execution_count": null,
      "outputs": [
        {
          "output_type": "stream",
          "name": "stdout",
          "text": [
            "Train dataset size: (354, 13), (354,)\n",
            "Test dataset size: (152, 13), (152,)\n"
          ]
        }
      ]
    },
    {
      "cell_type": "code",
      "source": [
        "# импортируем необходмимые библиотеки\n",
        "from sklearn.linear_model import LinearRegression\n",
        "from sklearn.metrics import mean_absolute_error, mean_squared_error, r2_score"
      ],
      "metadata": {
        "id": "daFhz8-pBf2K"
      },
      "execution_count": null,
      "outputs": []
    },
    {
      "cell_type": "code",
      "source": [
        "# Создадим модель линейной регрессии\n",
        "model = LinearRegression()\n",
        "\n",
        "# Обучим линейную регрессию на тренировочном стандартизированном наборе данных\n",
        "# На этапе обучения алгоритм рассчитывает веса признаков и строит линейное уравнение регрессии\n",
        "model.fit(X_train, y_train)"
      ],
      "metadata": {
        "colab": {
          "base_uri": "https://localhost:8080/",
          "height": 74
        },
        "id": "T1veidJeBhzS",
        "outputId": "20807d87-13c9-411e-a7a8-2a1a66a94546"
      },
      "execution_count": null,
      "outputs": [
        {
          "output_type": "execute_result",
          "data": {
            "text/plain": [
              "LinearRegression()"
            ],
            "text/html": [
              "<style>#sk-container-id-1 {color: black;background-color: white;}#sk-container-id-1 pre{padding: 0;}#sk-container-id-1 div.sk-toggleable {background-color: white;}#sk-container-id-1 label.sk-toggleable__label {cursor: pointer;display: block;width: 100%;margin-bottom: 0;padding: 0.3em;box-sizing: border-box;text-align: center;}#sk-container-id-1 label.sk-toggleable__label-arrow:before {content: \"▸\";float: left;margin-right: 0.25em;color: #696969;}#sk-container-id-1 label.sk-toggleable__label-arrow:hover:before {color: black;}#sk-container-id-1 div.sk-estimator:hover label.sk-toggleable__label-arrow:before {color: black;}#sk-container-id-1 div.sk-toggleable__content {max-height: 0;max-width: 0;overflow: hidden;text-align: left;background-color: #f0f8ff;}#sk-container-id-1 div.sk-toggleable__content pre {margin: 0.2em;color: black;border-radius: 0.25em;background-color: #f0f8ff;}#sk-container-id-1 input.sk-toggleable__control:checked~div.sk-toggleable__content {max-height: 200px;max-width: 100%;overflow: auto;}#sk-container-id-1 input.sk-toggleable__control:checked~label.sk-toggleable__label-arrow:before {content: \"▾\";}#sk-container-id-1 div.sk-estimator input.sk-toggleable__control:checked~label.sk-toggleable__label {background-color: #d4ebff;}#sk-container-id-1 div.sk-label input.sk-toggleable__control:checked~label.sk-toggleable__label {background-color: #d4ebff;}#sk-container-id-1 input.sk-hidden--visually {border: 0;clip: rect(1px 1px 1px 1px);clip: rect(1px, 1px, 1px, 1px);height: 1px;margin: -1px;overflow: hidden;padding: 0;position: absolute;width: 1px;}#sk-container-id-1 div.sk-estimator {font-family: monospace;background-color: #f0f8ff;border: 1px dotted black;border-radius: 0.25em;box-sizing: border-box;margin-bottom: 0.5em;}#sk-container-id-1 div.sk-estimator:hover {background-color: #d4ebff;}#sk-container-id-1 div.sk-parallel-item::after {content: \"\";width: 100%;border-bottom: 1px solid gray;flex-grow: 1;}#sk-container-id-1 div.sk-label:hover label.sk-toggleable__label {background-color: #d4ebff;}#sk-container-id-1 div.sk-serial::before {content: \"\";position: absolute;border-left: 1px solid gray;box-sizing: border-box;top: 0;bottom: 0;left: 50%;z-index: 0;}#sk-container-id-1 div.sk-serial {display: flex;flex-direction: column;align-items: center;background-color: white;padding-right: 0.2em;padding-left: 0.2em;position: relative;}#sk-container-id-1 div.sk-item {position: relative;z-index: 1;}#sk-container-id-1 div.sk-parallel {display: flex;align-items: stretch;justify-content: center;background-color: white;position: relative;}#sk-container-id-1 div.sk-item::before, #sk-container-id-1 div.sk-parallel-item::before {content: \"\";position: absolute;border-left: 1px solid gray;box-sizing: border-box;top: 0;bottom: 0;left: 50%;z-index: -1;}#sk-container-id-1 div.sk-parallel-item {display: flex;flex-direction: column;z-index: 1;position: relative;background-color: white;}#sk-container-id-1 div.sk-parallel-item:first-child::after {align-self: flex-end;width: 50%;}#sk-container-id-1 div.sk-parallel-item:last-child::after {align-self: flex-start;width: 50%;}#sk-container-id-1 div.sk-parallel-item:only-child::after {width: 0;}#sk-container-id-1 div.sk-dashed-wrapped {border: 1px dashed gray;margin: 0 0.4em 0.5em 0.4em;box-sizing: border-box;padding-bottom: 0.4em;background-color: white;}#sk-container-id-1 div.sk-label label {font-family: monospace;font-weight: bold;display: inline-block;line-height: 1.2em;}#sk-container-id-1 div.sk-label-container {text-align: center;}#sk-container-id-1 div.sk-container {/* jupyter's `normalize.less` sets `[hidden] { display: none; }` but bootstrap.min.css set `[hidden] { display: none !important; }` so we also need the `!important` here to be able to override the default hidden behavior on the sphinx rendered scikit-learn.org. See: https://github.com/scikit-learn/scikit-learn/issues/21755 */display: inline-block !important;position: relative;}#sk-container-id-1 div.sk-text-repr-fallback {display: none;}</style><div id=\"sk-container-id-1\" class=\"sk-top-container\"><div class=\"sk-text-repr-fallback\"><pre>LinearRegression()</pre><b>In a Jupyter environment, please rerun this cell to show the HTML representation or trust the notebook. <br />On GitHub, the HTML representation is unable to render, please try loading this page with nbviewer.org.</b></div><div class=\"sk-container\" hidden><div class=\"sk-item\"><div class=\"sk-estimator sk-toggleable\"><input class=\"sk-toggleable__control sk-hidden--visually\" id=\"sk-estimator-id-1\" type=\"checkbox\" checked><label for=\"sk-estimator-id-1\" class=\"sk-toggleable__label sk-toggleable__label-arrow\">LinearRegression</label><div class=\"sk-toggleable__content\"><pre>LinearRegression()</pre></div></div></div></div></div>"
            ]
          },
          "metadata": {},
          "execution_count": 17
        }
      ]
    },
    {
      "cell_type": "code",
      "source": [
        "print('Веса всех признаков (w1, ..., w13): ', model.coef_)\n",
        "print('Свободный коэффицент уравнения w0:', model.intercept_)"
      ],
      "metadata": {
        "colab": {
          "base_uri": "https://localhost:8080/"
        },
        "id": "jBNW54j6BiCr",
        "outputId": "9427f9f6-6b86-4a31-ea9a-ae94de9caa0f"
      },
      "execution_count": null,
      "outputs": [
        {
          "output_type": "stream",
          "name": "stdout",
          "text": [
            "Веса всех признаков (w1, ..., w13):  [-8.05022152e-02  7.08749851e-02 -4.65869724e-02  3.27795245e+00\n",
            " -2.03621884e+01  2.90760804e+00 -1.17230778e-03 -1.97573086e+00\n",
            "  3.45741837e-01 -1.26922524e-02 -8.85767983e-01  1.08401671e-02\n",
            " -5.45957954e-01]\n",
            "Свободный коэффицент уравнения w0: 44.31037249916875\n"
          ]
        }
      ]
    },
    {
      "cell_type": "markdown",
      "source": [
        "y = 44 + -8.05*10^-2*crim+  ///"
      ],
      "metadata": {
        "id": "6mlkH0j8IA-q"
      }
    },
    {
      "cell_type": "code",
      "source": [
        "# Создадим массив названия признаков\n",
        "features = X_train.columns\n",
        "\n",
        "coeff_df = pd.DataFrame(model.coef_, columns=['Coefficient'])\n",
        "coeff_df['features'] = features\n",
        "\n",
        "coeff_df.sort_values(by='Coefficient')"
      ],
      "metadata": {
        "colab": {
          "base_uri": "https://localhost:8080/",
          "height": 457
        },
        "id": "8EYhgEwZBoMb",
        "outputId": "00c23752-50a6-4282-a7cd-bd95633e4690"
      },
      "execution_count": null,
      "outputs": [
        {
          "output_type": "execute_result",
          "data": {
            "text/plain": [
              "    Coefficient features\n",
              "4    -20.362188      nox\n",
              "7     -1.975731      dis\n",
              "10    -0.885768  ptratio\n",
              "12    -0.545958    lstat\n",
              "0     -0.080502     crim\n",
              "2     -0.046587    indus\n",
              "9     -0.012692      tax\n",
              "6     -0.001172      age\n",
              "11     0.010840        b\n",
              "1      0.070875       zn\n",
              "8      0.345742      rad\n",
              "5      2.907608       rm\n",
              "3      3.277952     chas"
            ],
            "text/html": [
              "\n",
              "  <div id=\"df-5d7b4dcb-89cc-402e-9f96-79c40922f986\" class=\"colab-df-container\">\n",
              "    <div>\n",
              "<style scoped>\n",
              "    .dataframe tbody tr th:only-of-type {\n",
              "        vertical-align: middle;\n",
              "    }\n",
              "\n",
              "    .dataframe tbody tr th {\n",
              "        vertical-align: top;\n",
              "    }\n",
              "\n",
              "    .dataframe thead th {\n",
              "        text-align: right;\n",
              "    }\n",
              "</style>\n",
              "<table border=\"1\" class=\"dataframe\">\n",
              "  <thead>\n",
              "    <tr style=\"text-align: right;\">\n",
              "      <th></th>\n",
              "      <th>Coefficient</th>\n",
              "      <th>features</th>\n",
              "    </tr>\n",
              "  </thead>\n",
              "  <tbody>\n",
              "    <tr>\n",
              "      <th>4</th>\n",
              "      <td>-20.362188</td>\n",
              "      <td>nox</td>\n",
              "    </tr>\n",
              "    <tr>\n",
              "      <th>7</th>\n",
              "      <td>-1.975731</td>\n",
              "      <td>dis</td>\n",
              "    </tr>\n",
              "    <tr>\n",
              "      <th>10</th>\n",
              "      <td>-0.885768</td>\n",
              "      <td>ptratio</td>\n",
              "    </tr>\n",
              "    <tr>\n",
              "      <th>12</th>\n",
              "      <td>-0.545958</td>\n",
              "      <td>lstat</td>\n",
              "    </tr>\n",
              "    <tr>\n",
              "      <th>0</th>\n",
              "      <td>-0.080502</td>\n",
              "      <td>crim</td>\n",
              "    </tr>\n",
              "    <tr>\n",
              "      <th>2</th>\n",
              "      <td>-0.046587</td>\n",
              "      <td>indus</td>\n",
              "    </tr>\n",
              "    <tr>\n",
              "      <th>9</th>\n",
              "      <td>-0.012692</td>\n",
              "      <td>tax</td>\n",
              "    </tr>\n",
              "    <tr>\n",
              "      <th>6</th>\n",
              "      <td>-0.001172</td>\n",
              "      <td>age</td>\n",
              "    </tr>\n",
              "    <tr>\n",
              "      <th>11</th>\n",
              "      <td>0.010840</td>\n",
              "      <td>b</td>\n",
              "    </tr>\n",
              "    <tr>\n",
              "      <th>1</th>\n",
              "      <td>0.070875</td>\n",
              "      <td>zn</td>\n",
              "    </tr>\n",
              "    <tr>\n",
              "      <th>8</th>\n",
              "      <td>0.345742</td>\n",
              "      <td>rad</td>\n",
              "    </tr>\n",
              "    <tr>\n",
              "      <th>5</th>\n",
              "      <td>2.907608</td>\n",
              "      <td>rm</td>\n",
              "    </tr>\n",
              "    <tr>\n",
              "      <th>3</th>\n",
              "      <td>3.277952</td>\n",
              "      <td>chas</td>\n",
              "    </tr>\n",
              "  </tbody>\n",
              "</table>\n",
              "</div>\n",
              "    <div class=\"colab-df-buttons\">\n",
              "\n",
              "  <div class=\"colab-df-container\">\n",
              "    <button class=\"colab-df-convert\" onclick=\"convertToInteractive('df-5d7b4dcb-89cc-402e-9f96-79c40922f986')\"\n",
              "            title=\"Convert this dataframe to an interactive table.\"\n",
              "            style=\"display:none;\">\n",
              "\n",
              "  <svg xmlns=\"http://www.w3.org/2000/svg\" height=\"24px\" viewBox=\"0 -960 960 960\">\n",
              "    <path d=\"M120-120v-720h720v720H120Zm60-500h600v-160H180v160Zm220 220h160v-160H400v160Zm0 220h160v-160H400v160ZM180-400h160v-160H180v160Zm440 0h160v-160H620v160ZM180-180h160v-160H180v160Zm440 0h160v-160H620v160Z\"/>\n",
              "  </svg>\n",
              "    </button>\n",
              "\n",
              "  <style>\n",
              "    .colab-df-container {\n",
              "      display:flex;\n",
              "      gap: 12px;\n",
              "    }\n",
              "\n",
              "    .colab-df-convert {\n",
              "      background-color: #E8F0FE;\n",
              "      border: none;\n",
              "      border-radius: 50%;\n",
              "      cursor: pointer;\n",
              "      display: none;\n",
              "      fill: #1967D2;\n",
              "      height: 32px;\n",
              "      padding: 0 0 0 0;\n",
              "      width: 32px;\n",
              "    }\n",
              "\n",
              "    .colab-df-convert:hover {\n",
              "      background-color: #E2EBFA;\n",
              "      box-shadow: 0px 1px 2px rgba(60, 64, 67, 0.3), 0px 1px 3px 1px rgba(60, 64, 67, 0.15);\n",
              "      fill: #174EA6;\n",
              "    }\n",
              "\n",
              "    .colab-df-buttons div {\n",
              "      margin-bottom: 4px;\n",
              "    }\n",
              "\n",
              "    [theme=dark] .colab-df-convert {\n",
              "      background-color: #3B4455;\n",
              "      fill: #D2E3FC;\n",
              "    }\n",
              "\n",
              "    [theme=dark] .colab-df-convert:hover {\n",
              "      background-color: #434B5C;\n",
              "      box-shadow: 0px 1px 3px 1px rgba(0, 0, 0, 0.15);\n",
              "      filter: drop-shadow(0px 1px 2px rgba(0, 0, 0, 0.3));\n",
              "      fill: #FFFFFF;\n",
              "    }\n",
              "  </style>\n",
              "\n",
              "    <script>\n",
              "      const buttonEl =\n",
              "        document.querySelector('#df-5d7b4dcb-89cc-402e-9f96-79c40922f986 button.colab-df-convert');\n",
              "      buttonEl.style.display =\n",
              "        google.colab.kernel.accessAllowed ? 'block' : 'none';\n",
              "\n",
              "      async function convertToInteractive(key) {\n",
              "        const element = document.querySelector('#df-5d7b4dcb-89cc-402e-9f96-79c40922f986');\n",
              "        const dataTable =\n",
              "          await google.colab.kernel.invokeFunction('convertToInteractive',\n",
              "                                                    [key], {});\n",
              "        if (!dataTable) return;\n",
              "\n",
              "        const docLinkHtml = 'Like what you see? Visit the ' +\n",
              "          '<a target=\"_blank\" href=https://colab.research.google.com/notebooks/data_table.ipynb>data table notebook</a>'\n",
              "          + ' to learn more about interactive tables.';\n",
              "        element.innerHTML = '';\n",
              "        dataTable['output_type'] = 'display_data';\n",
              "        await google.colab.output.renderOutput(dataTable, element);\n",
              "        const docLink = document.createElement('div');\n",
              "        docLink.innerHTML = docLinkHtml;\n",
              "        element.appendChild(docLink);\n",
              "      }\n",
              "    </script>\n",
              "  </div>\n",
              "\n",
              "\n",
              "<div id=\"df-db68f5bb-a2be-4b10-8453-f152b740de21\">\n",
              "  <button class=\"colab-df-quickchart\" onclick=\"quickchart('df-db68f5bb-a2be-4b10-8453-f152b740de21')\"\n",
              "            title=\"Suggest charts\"\n",
              "            style=\"display:none;\">\n",
              "\n",
              "<svg xmlns=\"http://www.w3.org/2000/svg\" height=\"24px\"viewBox=\"0 0 24 24\"\n",
              "     width=\"24px\">\n",
              "    <g>\n",
              "        <path d=\"M19 3H5c-1.1 0-2 .9-2 2v14c0 1.1.9 2 2 2h14c1.1 0 2-.9 2-2V5c0-1.1-.9-2-2-2zM9 17H7v-7h2v7zm4 0h-2V7h2v10zm4 0h-2v-4h2v4z\"/>\n",
              "    </g>\n",
              "</svg>\n",
              "  </button>\n",
              "\n",
              "<style>\n",
              "  .colab-df-quickchart {\n",
              "      --bg-color: #E8F0FE;\n",
              "      --fill-color: #1967D2;\n",
              "      --hover-bg-color: #E2EBFA;\n",
              "      --hover-fill-color: #174EA6;\n",
              "      --disabled-fill-color: #AAA;\n",
              "      --disabled-bg-color: #DDD;\n",
              "  }\n",
              "\n",
              "  [theme=dark] .colab-df-quickchart {\n",
              "      --bg-color: #3B4455;\n",
              "      --fill-color: #D2E3FC;\n",
              "      --hover-bg-color: #434B5C;\n",
              "      --hover-fill-color: #FFFFFF;\n",
              "      --disabled-bg-color: #3B4455;\n",
              "      --disabled-fill-color: #666;\n",
              "  }\n",
              "\n",
              "  .colab-df-quickchart {\n",
              "    background-color: var(--bg-color);\n",
              "    border: none;\n",
              "    border-radius: 50%;\n",
              "    cursor: pointer;\n",
              "    display: none;\n",
              "    fill: var(--fill-color);\n",
              "    height: 32px;\n",
              "    padding: 0;\n",
              "    width: 32px;\n",
              "  }\n",
              "\n",
              "  .colab-df-quickchart:hover {\n",
              "    background-color: var(--hover-bg-color);\n",
              "    box-shadow: 0 1px 2px rgba(60, 64, 67, 0.3), 0 1px 3px 1px rgba(60, 64, 67, 0.15);\n",
              "    fill: var(--button-hover-fill-color);\n",
              "  }\n",
              "\n",
              "  .colab-df-quickchart-complete:disabled,\n",
              "  .colab-df-quickchart-complete:disabled:hover {\n",
              "    background-color: var(--disabled-bg-color);\n",
              "    fill: var(--disabled-fill-color);\n",
              "    box-shadow: none;\n",
              "  }\n",
              "\n",
              "  .colab-df-spinner {\n",
              "    border: 2px solid var(--fill-color);\n",
              "    border-color: transparent;\n",
              "    border-bottom-color: var(--fill-color);\n",
              "    animation:\n",
              "      spin 1s steps(1) infinite;\n",
              "  }\n",
              "\n",
              "  @keyframes spin {\n",
              "    0% {\n",
              "      border-color: transparent;\n",
              "      border-bottom-color: var(--fill-color);\n",
              "      border-left-color: var(--fill-color);\n",
              "    }\n",
              "    20% {\n",
              "      border-color: transparent;\n",
              "      border-left-color: var(--fill-color);\n",
              "      border-top-color: var(--fill-color);\n",
              "    }\n",
              "    30% {\n",
              "      border-color: transparent;\n",
              "      border-left-color: var(--fill-color);\n",
              "      border-top-color: var(--fill-color);\n",
              "      border-right-color: var(--fill-color);\n",
              "    }\n",
              "    40% {\n",
              "      border-color: transparent;\n",
              "      border-right-color: var(--fill-color);\n",
              "      border-top-color: var(--fill-color);\n",
              "    }\n",
              "    60% {\n",
              "      border-color: transparent;\n",
              "      border-right-color: var(--fill-color);\n",
              "    }\n",
              "    80% {\n",
              "      border-color: transparent;\n",
              "      border-right-color: var(--fill-color);\n",
              "      border-bottom-color: var(--fill-color);\n",
              "    }\n",
              "    90% {\n",
              "      border-color: transparent;\n",
              "      border-bottom-color: var(--fill-color);\n",
              "    }\n",
              "  }\n",
              "</style>\n",
              "\n",
              "  <script>\n",
              "    async function quickchart(key) {\n",
              "      const quickchartButtonEl =\n",
              "        document.querySelector('#' + key + ' button');\n",
              "      quickchartButtonEl.disabled = true;  // To prevent multiple clicks.\n",
              "      quickchartButtonEl.classList.add('colab-df-spinner');\n",
              "      try {\n",
              "        const charts = await google.colab.kernel.invokeFunction(\n",
              "            'suggestCharts', [key], {});\n",
              "      } catch (error) {\n",
              "        console.error('Error during call to suggestCharts:', error);\n",
              "      }\n",
              "      quickchartButtonEl.classList.remove('colab-df-spinner');\n",
              "      quickchartButtonEl.classList.add('colab-df-quickchart-complete');\n",
              "    }\n",
              "    (() => {\n",
              "      let quickchartButtonEl =\n",
              "        document.querySelector('#df-db68f5bb-a2be-4b10-8453-f152b740de21 button');\n",
              "      quickchartButtonEl.style.display =\n",
              "        google.colab.kernel.accessAllowed ? 'block' : 'none';\n",
              "    })();\n",
              "  </script>\n",
              "</div>\n",
              "    </div>\n",
              "  </div>\n"
            ]
          },
          "metadata": {},
          "execution_count": 19
        }
      ]
    },
    {
      "cell_type": "markdown",
      "source": [
        "Предскажем результат для тех же самых тренировочных данных и оценим наш алгоритм линейной регрессии с помощью различных оценок регрессии:\n",
        "1. **Средняя абсолютная ошибка (MAE)** – это среднее значение абсолютного значения ошибок. Он рассчитывается как:\n",
        "\n",
        "$MAE = \\frac{1}{n}*sum_{i=1}^n|y_i-y_{pred_i}|$\n",
        "\n",
        "где $n$ - количество наблюдений\n",
        "\n",
        "2. **Среднеквадратичная ошибка (MSE)** – это среднее значение квадратов ошибок и вычисляется как:\n",
        "\n",
        "$MSE = \\frac{1}{n}*sum_{i=1}^n|y_i-y_{pred_i}|^2$\n",
        "\n",
        "где $n$ - количество наблюдений\n",
        "\n",
        "В идеальном случае MAE и MSE равны 0."
      ],
      "metadata": {
        "id": "vlOAVkJCBx7Z"
      }
    },
    {
      "cell_type": "code",
      "source": [
        "y_pred = model.predict(X_test)\n",
        "\n",
        "print('Mean Absolute Error:', mean_absolute_error(y_test, y_pred))\n",
        "print('Mean Squared Error:', mean_squared_error(y_test, y_pred))\n",
        "print('R2 score:', r2_score(y_test, y_pred))"
      ],
      "metadata": {
        "colab": {
          "base_uri": "https://localhost:8080/"
        },
        "id": "5wFjv7FABwEb",
        "outputId": "facb6ec7-f5c8-4de3-e00c-0cf010ddf29b"
      },
      "execution_count": null,
      "outputs": [
        {
          "output_type": "stream",
          "name": "stdout",
          "text": [
            "Mean Absolute Error: 3.7762974007308805\n",
            "Mean Squared Error: 25.752071138159284\n",
            "R2 score: 0.734629239264335\n"
          ]
        }
      ]
    },
    {
      "cell_type": "markdown",
      "source": [
        "Вывод:"
      ],
      "metadata": {
        "id": "nS8Pt1T2Hb5S"
      }
    },
    {
      "cell_type": "markdown",
      "source": [
        "### Пример того, почему регрессия \"Линейная\""
      ],
      "metadata": {
        "id": "Evr6rZYcaYqI"
      }
    },
    {
      "cell_type": "code",
      "source": [
        "x = np.array([-4, -3, -2, -1, 0, 1, 2, 3, 4]).reshape((-1, 1))\n",
        "y = np.array([16, 9, 4, 1, 0, 1, 4, 9, 16])"
      ],
      "metadata": {
        "id": "ZofhLL1aaZZx"
      },
      "execution_count": null,
      "outputs": []
    },
    {
      "cell_type": "markdown",
      "source": [],
      "metadata": {
        "id": "US4j2TPH2YDm"
      }
    },
    {
      "cell_type": "code",
      "source": [
        "model1 = LinearRegression()"
      ],
      "metadata": {
        "id": "Cd3OIqNtaalA"
      },
      "execution_count": null,
      "outputs": []
    },
    {
      "cell_type": "code",
      "source": [
        "model1.fit(x, y)"
      ],
      "metadata": {
        "colab": {
          "base_uri": "https://localhost:8080/",
          "height": 74
        },
        "id": "Tk79NXwvaby3",
        "outputId": "048618be-0171-45f0-e60b-e0d27d85e9b9"
      },
      "execution_count": null,
      "outputs": [
        {
          "output_type": "execute_result",
          "data": {
            "text/plain": [
              "LinearRegression()"
            ],
            "text/html": [
              "<style>#sk-container-id-2 {color: black;background-color: white;}#sk-container-id-2 pre{padding: 0;}#sk-container-id-2 div.sk-toggleable {background-color: white;}#sk-container-id-2 label.sk-toggleable__label {cursor: pointer;display: block;width: 100%;margin-bottom: 0;padding: 0.3em;box-sizing: border-box;text-align: center;}#sk-container-id-2 label.sk-toggleable__label-arrow:before {content: \"▸\";float: left;margin-right: 0.25em;color: #696969;}#sk-container-id-2 label.sk-toggleable__label-arrow:hover:before {color: black;}#sk-container-id-2 div.sk-estimator:hover label.sk-toggleable__label-arrow:before {color: black;}#sk-container-id-2 div.sk-toggleable__content {max-height: 0;max-width: 0;overflow: hidden;text-align: left;background-color: #f0f8ff;}#sk-container-id-2 div.sk-toggleable__content pre {margin: 0.2em;color: black;border-radius: 0.25em;background-color: #f0f8ff;}#sk-container-id-2 input.sk-toggleable__control:checked~div.sk-toggleable__content {max-height: 200px;max-width: 100%;overflow: auto;}#sk-container-id-2 input.sk-toggleable__control:checked~label.sk-toggleable__label-arrow:before {content: \"▾\";}#sk-container-id-2 div.sk-estimator input.sk-toggleable__control:checked~label.sk-toggleable__label {background-color: #d4ebff;}#sk-container-id-2 div.sk-label input.sk-toggleable__control:checked~label.sk-toggleable__label {background-color: #d4ebff;}#sk-container-id-2 input.sk-hidden--visually {border: 0;clip: rect(1px 1px 1px 1px);clip: rect(1px, 1px, 1px, 1px);height: 1px;margin: -1px;overflow: hidden;padding: 0;position: absolute;width: 1px;}#sk-container-id-2 div.sk-estimator {font-family: monospace;background-color: #f0f8ff;border: 1px dotted black;border-radius: 0.25em;box-sizing: border-box;margin-bottom: 0.5em;}#sk-container-id-2 div.sk-estimator:hover {background-color: #d4ebff;}#sk-container-id-2 div.sk-parallel-item::after {content: \"\";width: 100%;border-bottom: 1px solid gray;flex-grow: 1;}#sk-container-id-2 div.sk-label:hover label.sk-toggleable__label {background-color: #d4ebff;}#sk-container-id-2 div.sk-serial::before {content: \"\";position: absolute;border-left: 1px solid gray;box-sizing: border-box;top: 0;bottom: 0;left: 50%;z-index: 0;}#sk-container-id-2 div.sk-serial {display: flex;flex-direction: column;align-items: center;background-color: white;padding-right: 0.2em;padding-left: 0.2em;position: relative;}#sk-container-id-2 div.sk-item {position: relative;z-index: 1;}#sk-container-id-2 div.sk-parallel {display: flex;align-items: stretch;justify-content: center;background-color: white;position: relative;}#sk-container-id-2 div.sk-item::before, #sk-container-id-2 div.sk-parallel-item::before {content: \"\";position: absolute;border-left: 1px solid gray;box-sizing: border-box;top: 0;bottom: 0;left: 50%;z-index: -1;}#sk-container-id-2 div.sk-parallel-item {display: flex;flex-direction: column;z-index: 1;position: relative;background-color: white;}#sk-container-id-2 div.sk-parallel-item:first-child::after {align-self: flex-end;width: 50%;}#sk-container-id-2 div.sk-parallel-item:last-child::after {align-self: flex-start;width: 50%;}#sk-container-id-2 div.sk-parallel-item:only-child::after {width: 0;}#sk-container-id-2 div.sk-dashed-wrapped {border: 1px dashed gray;margin: 0 0.4em 0.5em 0.4em;box-sizing: border-box;padding-bottom: 0.4em;background-color: white;}#sk-container-id-2 div.sk-label label {font-family: monospace;font-weight: bold;display: inline-block;line-height: 1.2em;}#sk-container-id-2 div.sk-label-container {text-align: center;}#sk-container-id-2 div.sk-container {/* jupyter's `normalize.less` sets `[hidden] { display: none; }` but bootstrap.min.css set `[hidden] { display: none !important; }` so we also need the `!important` here to be able to override the default hidden behavior on the sphinx rendered scikit-learn.org. See: https://github.com/scikit-learn/scikit-learn/issues/21755 */display: inline-block !important;position: relative;}#sk-container-id-2 div.sk-text-repr-fallback {display: none;}</style><div id=\"sk-container-id-2\" class=\"sk-top-container\"><div class=\"sk-text-repr-fallback\"><pre>LinearRegression()</pre><b>In a Jupyter environment, please rerun this cell to show the HTML representation or trust the notebook. <br />On GitHub, the HTML representation is unable to render, please try loading this page with nbviewer.org.</b></div><div class=\"sk-container\" hidden><div class=\"sk-item\"><div class=\"sk-estimator sk-toggleable\"><input class=\"sk-toggleable__control sk-hidden--visually\" id=\"sk-estimator-id-2\" type=\"checkbox\" checked><label for=\"sk-estimator-id-2\" class=\"sk-toggleable__label sk-toggleable__label-arrow\">LinearRegression</label><div class=\"sk-toggleable__content\"><pre>LinearRegression()</pre></div></div></div></div></div>"
            ]
          },
          "metadata": {},
          "execution_count": 10
        }
      ]
    },
    {
      "cell_type": "code",
      "source": [
        "y_pred = model1.predict(x)"
      ],
      "metadata": {
        "id": "B52p9g3HadMn"
      },
      "execution_count": null,
      "outputs": []
    },
    {
      "cell_type": "code",
      "source": [
        "plt.scatter(x, y)\n",
        "plt.plot(x, y_pred, color='red', linewidth=2);\n",
        "plt.show()"
      ],
      "metadata": {
        "colab": {
          "base_uri": "https://localhost:8080/",
          "height": 430
        },
        "id": "722xJIPCaeuW",
        "outputId": "a8bf0e72-23ca-412b-860a-e18a77055b04"
      },
      "execution_count": null,
      "outputs": [
        {
          "output_type": "display_data",
          "data": {
            "text/plain": [
              "<Figure size 640x480 with 1 Axes>"
            ],
            "image/png": "[encoded data removed]"
          },
          "metadata": {}
        }
      ]
    },
    {
      "cell_type": "code",
      "source": [
        "from sklearn.metrics import mean_absolute_error, mean_squared_error, r2_score\n",
        "\n",
        "print('Mean Absolute Error:', mean_absolute_error(y, y_pred))\n",
        "print('Mean Squared Error:', mean_squared_error(y, y_pred))\n",
        "print('R2 score:', r2_score(y, y_pred))"
      ],
      "metadata": {
        "colab": {
          "base_uri": "https://localhost:8080/"
        },
        "id": "zOhuAYjIagE2",
        "outputId": "082d42e8-f6c8-48fc-dccd-ee1d30a2454d"
      },
      "execution_count": null,
      "outputs": [
        {
          "output_type": "stream",
          "name": "stdout",
          "text": [
            "Mean Absolute Error: 5.185185185185186\n",
            "Mean Squared Error: 34.22222222222222\n",
            "R2 score: 0.0\n"
          ]
        }
      ]
    },
    {
      "cell_type": "markdown",
      "source": [
        "### Ограничения линейной регрессии"
      ],
      "metadata": {
        "id": "QyR3kKZpeFjJ"
      }
    },
    {
      "cell_type": "markdown",
      "source": [
        "1. Линейная связь : линейная регрессия требует, чтобы связь между независимыми и зависимыми переменными была линейной.\n",
        "2. Выбросы: также важно проверять наличие выбросов, поскольку линейная регрессия чувствительна к наличию выбросов.\n",
        "3. Независимость: Независимость предполагает, что независимые переменные в модели не коррелируют и не связаны друг с другом. Это предположение необходимо для того, чтобы линейная регрессия была верной.\n",
        "4. Нет мультиколлинеарности: Мультиколлинеарность — еще одно слово, которое обманчиво прямолинейно. Он описывает статистическое явление, когда два или более предикторов в модели множественной регрессии сильно коррелируют друг с другом. Таким образом, предположение об отсутствии мультиколлинеарности утверждает, что не должно быть никакой связи между предикторами в модели множественной линейной регрессии. Почему нет? Потому что это может привести к нестабильному показателю взаимосвязи между предиктором и переменными выхода/отклика, что затруднит интерпретацию индивидуального влияния каждого предиктора на результат."
      ],
      "metadata": {
        "id": "FzcZY5LkeIZM"
      }
    }
  ]
}