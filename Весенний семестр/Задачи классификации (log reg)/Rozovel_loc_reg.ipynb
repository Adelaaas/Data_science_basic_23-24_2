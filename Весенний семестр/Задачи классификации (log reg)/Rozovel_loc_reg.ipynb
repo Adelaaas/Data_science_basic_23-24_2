{
  "nbformat": 4,
  "nbformat_minor": 0,
  "metadata": {
    "colab": {
      "provenance": []
    },
    "kernelspec": {
      "name": "python3",
      "display_name": "Python 3"
    },
    "language_info": {
      "name": "python"
    }
  },
  "cells": [
    {
      "cell_type": "code",
      "execution_count": 19,
      "metadata": {
        "id": "pqv7QIowRwy_",
        "colab": {
          "base_uri": "https://localhost:8080/",
          "height": 401
        },
        "outputId": "dbad506d-7c5d-4e9e-8df0-91c9258e2933"
      },
      "outputs": [
        {
          "output_type": "error",
          "ename": "ImportError",
          "evalue": "cannot import name 'get_dammies' from 'sklearn.preprocessing' (/usr/local/lib/python3.10/dist-packages/sklearn/preprocessing/__init__.py)",
          "traceback": [
            "\u001b[0;31m---------------------------------------------------------------------------\u001b[0m",
            "\u001b[0;31mImportError\u001b[0m                               Traceback (most recent call last)",
            "\u001b[0;32m<ipython-input-19-9f57aebda94f>\u001b[0m in \u001b[0;36m<cell line: 5>\u001b[0;34m()\u001b[0m\n\u001b[1;32m      3\u001b[0m \u001b[0;32mimport\u001b[0m \u001b[0mseaborn\u001b[0m \u001b[0;32mas\u001b[0m \u001b[0msb\u001b[0m\u001b[0;34m\u001b[0m\u001b[0;34m\u001b[0m\u001b[0m\n\u001b[1;32m      4\u001b[0m \u001b[0;32mfrom\u001b[0m \u001b[0msklearn\u001b[0m\u001b[0;34m.\u001b[0m\u001b[0mpreprocessing\u001b[0m \u001b[0;32mimport\u001b[0m \u001b[0mLabelEncoder\u001b[0m\u001b[0;34m\u001b[0m\u001b[0;34m\u001b[0m\u001b[0m\n\u001b[0;32m----> 5\u001b[0;31m \u001b[0;32mfrom\u001b[0m \u001b[0msklearn\u001b[0m\u001b[0;34m.\u001b[0m\u001b[0mpreprocessing\u001b[0m \u001b[0;32mimport\u001b[0m \u001b[0mget_dammies\u001b[0m\u001b[0;34m\u001b[0m\u001b[0;34m\u001b[0m\u001b[0m\n\u001b[0m\u001b[1;32m      6\u001b[0m \u001b[0;32mfrom\u001b[0m \u001b[0msklearn\u001b[0m\u001b[0;34m.\u001b[0m\u001b[0mmodel_selection\u001b[0m \u001b[0;32mimport\u001b[0m \u001b[0mtrain_test_split\u001b[0m\u001b[0;34m\u001b[0m\u001b[0;34m\u001b[0m\u001b[0m\n\u001b[1;32m      7\u001b[0m \u001b[0;32mfrom\u001b[0m \u001b[0msklearn\u001b[0m\u001b[0;34m.\u001b[0m\u001b[0mlinear_model\u001b[0m \u001b[0;32mimport\u001b[0m \u001b[0mLogisticRegression\u001b[0m\u001b[0;34m\u001b[0m\u001b[0;34m\u001b[0m\u001b[0m\n",
            "\u001b[0;31mImportError\u001b[0m: cannot import name 'get_dammies' from 'sklearn.preprocessing' (/usr/local/lib/python3.10/dist-packages/sklearn/preprocessing/__init__.py)",
            "",
            "\u001b[0;31m---------------------------------------------------------------------------\u001b[0;32m\nNOTE: If your import is failing due to a missing package, you can\nmanually install dependencies using either !pip or !apt.\n\nTo view examples of installing some common dependencies, click the\n\"Open Examples\" button below.\n\u001b[0;31m---------------------------------------------------------------------------\u001b[0m\n"
          ],
          "errorDetails": {
            "actions": [
              {
                "action": "open_url",
                "actionText": "Open Examples",
                "url": "/notebooks/snippets/importing_libraries.ipynb"
              }
            ]
          }
        }
      ],
      "source": [
        "import matplotlib.pyplot as plt\n",
        "import pandas as pd\n",
        "import seaborn as sb\n",
        "from sklearn.preprocessing import LabelEncoder\n",
        "from pandas import get_dammies\n",
        "from sklearn.model_selection import train_test_split\n",
        "from sklearn.linear_model import LogisticRegression\n",
        "from sklearn import metrics\n",
        "from google.colab import files"
      ]
    },
    {
      "cell_type": "code",
      "source": [
        "data = pd.read_csv(\"turnover.csv\", encoding='latin1')\n",
        "data"
      ],
      "metadata": {
        "colab": {
          "base_uri": "https://localhost:8080/",
          "height": 423
        },
        "id": "tFnTdtjMWT7P",
        "outputId": "6d995e05-10b6-4ddd-9341-893be10371bb"
      },
      "execution_count": 2,
      "outputs": [
        {
          "output_type": "execute_result",
          "data": {
            "text/plain": [
              "            stag  event gender   age         industry  profession  \\\n",
              "0       7.030801      1      m  35.0            Banks          HR   \n",
              "1      22.965092      1      m  33.0            Banks          HR   \n",
              "2      15.934292      1      f  35.0  PowerGeneration          HR   \n",
              "3      15.934292      1      f  35.0  PowerGeneration          HR   \n",
              "4       8.410678      1      m  32.0           Retail  Commercial   \n",
              "...          ...    ...    ...   ...              ...         ...   \n",
              "1124   10.611910      0      f  41.0            Banks          HR   \n",
              "1125   10.611910      0      f  41.0            Banks          HR   \n",
              "1126  118.800821      0      f  34.0          Telecom  Accounting   \n",
              "1127   49.412731      0      f  51.0          Consult          HR   \n",
              "1128   24.837782      0      f  29.0           Retail          HR   \n",
              "\n",
              "          traffic    coach head_gender greywage  way  extraversion  independ  \\\n",
              "0     rabrecNErab       no           f    white  bus           6.2       4.1   \n",
              "1           empjs       no           m    white  bus           6.2       4.1   \n",
              "2     rabrecNErab       no           m    white  bus           6.2       6.2   \n",
              "3     rabrecNErab       no           m    white  bus           5.4       7.6   \n",
              "4           youjs      yes           f    white  bus           3.0       4.1   \n",
              "...           ...      ...         ...      ...  ...           ...       ...   \n",
              "1124  rabrecNErab  my head           m    white  bus           8.6       3.4   \n",
              "1125  rabrecNErab  my head           m    white  bus           8.6       3.4   \n",
              "1126           KA       no           f    white  bus           4.6       5.5   \n",
              "1127        empjs       no           m     grey  bus           3.8       7.6   \n",
              "1128        youjs       no           f    white  car           9.4       1.2   \n",
              "\n",
              "      selfcontrol  anxiety  novator  \n",
              "0             5.7      7.1      8.3  \n",
              "1             5.7      7.1      8.3  \n",
              "2             2.6      4.8      8.3  \n",
              "3             4.9      2.5      6.7  \n",
              "4             8.0      7.1      3.7  \n",
              "...           ...      ...      ...  \n",
              "1124          2.6      4.8      8.3  \n",
              "1125          2.6      4.8      8.3  \n",
              "1126          7.2      6.3      3.7  \n",
              "1127          5.7      6.3      5.2  \n",
              "1128          4.1      5.6      6.7  \n",
              "\n",
              "[1129 rows x 16 columns]"
            ],
            "text/html": [
              "\n",
              "  <div id=\"df-79e87cd3-d63d-44be-a373-a90f855d5292\" class=\"colab-df-container\">\n",
              "    <div>\n",
              "<style scoped>\n",
              "    .dataframe tbody tr th:only-of-type {\n",
              "        vertical-align: middle;\n",
              "    }\n",
              "\n",
              "    .dataframe tbody tr th {\n",
              "        vertical-align: top;\n",
              "    }\n",
              "\n",
              "    .dataframe thead th {\n",
              "        text-align: right;\n",
              "    }\n",
              "</style>\n",
              "<table border=\"1\" class=\"dataframe\">\n",
              "  <thead>\n",
              "    <tr style=\"text-align: right;\">\n",
              "      <th></th>\n",
              "      <th>stag</th>\n",
              "      <th>event</th>\n",
              "      <th>gender</th>\n",
              "      <th>age</th>\n",
              "      <th>industry</th>\n",
              "      <th>profession</th>\n",
              "      <th>traffic</th>\n",
              "      <th>coach</th>\n",
              "      <th>head_gender</th>\n",
              "      <th>greywage</th>\n",
              "      <th>way</th>\n",
              "      <th>extraversion</th>\n",
              "      <th>independ</th>\n",
              "      <th>selfcontrol</th>\n",
              "      <th>anxiety</th>\n",
              "      <th>novator</th>\n",
              "    </tr>\n",
              "  </thead>\n",
              "  <tbody>\n",
              "    <tr>\n",
              "      <th>0</th>\n",
              "      <td>7.030801</td>\n",
              "      <td>1</td>\n",
              "      <td>m</td>\n",
              "      <td>35.0</td>\n",
              "      <td>Banks</td>\n",
              "      <td>HR</td>\n",
              "      <td>rabrecNErab</td>\n",
              "      <td>no</td>\n",
              "      <td>f</td>\n",
              "      <td>white</td>\n",
              "      <td>bus</td>\n",
              "      <td>6.2</td>\n",
              "      <td>4.1</td>\n",
              "      <td>5.7</td>\n",
              "      <td>7.1</td>\n",
              "      <td>8.3</td>\n",
              "    </tr>\n",
              "    <tr>\n",
              "      <th>1</th>\n",
              "      <td>22.965092</td>\n",
              "      <td>1</td>\n",
              "      <td>m</td>\n",
              "      <td>33.0</td>\n",
              "      <td>Banks</td>\n",
              "      <td>HR</td>\n",
              "      <td>empjs</td>\n",
              "      <td>no</td>\n",
              "      <td>m</td>\n",
              "      <td>white</td>\n",
              "      <td>bus</td>\n",
              "      <td>6.2</td>\n",
              "      <td>4.1</td>\n",
              "      <td>5.7</td>\n",
              "      <td>7.1</td>\n",
              "      <td>8.3</td>\n",
              "    </tr>\n",
              "    <tr>\n",
              "      <th>2</th>\n",
              "      <td>15.934292</td>\n",
              "      <td>1</td>\n",
              "      <td>f</td>\n",
              "      <td>35.0</td>\n",
              "      <td>PowerGeneration</td>\n",
              "      <td>HR</td>\n",
              "      <td>rabrecNErab</td>\n",
              "      <td>no</td>\n",
              "      <td>m</td>\n",
              "      <td>white</td>\n",
              "      <td>bus</td>\n",
              "      <td>6.2</td>\n",
              "      <td>6.2</td>\n",
              "      <td>2.6</td>\n",
              "      <td>4.8</td>\n",
              "      <td>8.3</td>\n",
              "    </tr>\n",
              "    <tr>\n",
              "      <th>3</th>\n",
              "      <td>15.934292</td>\n",
              "      <td>1</td>\n",
              "      <td>f</td>\n",
              "      <td>35.0</td>\n",
              "      <td>PowerGeneration</td>\n",
              "      <td>HR</td>\n",
              "      <td>rabrecNErab</td>\n",
              "      <td>no</td>\n",
              "      <td>m</td>\n",
              "      <td>white</td>\n",
              "      <td>bus</td>\n",
              "      <td>5.4</td>\n",
              "      <td>7.6</td>\n",
              "      <td>4.9</td>\n",
              "      <td>2.5</td>\n",
              "      <td>6.7</td>\n",
              "    </tr>\n",
              "    <tr>\n",
              "      <th>4</th>\n",
              "      <td>8.410678</td>\n",
              "      <td>1</td>\n",
              "      <td>m</td>\n",
              "      <td>32.0</td>\n",
              "      <td>Retail</td>\n",
              "      <td>Commercial</td>\n",
              "      <td>youjs</td>\n",
              "      <td>yes</td>\n",
              "      <td>f</td>\n",
              "      <td>white</td>\n",
              "      <td>bus</td>\n",
              "      <td>3.0</td>\n",
              "      <td>4.1</td>\n",
              "      <td>8.0</td>\n",
              "      <td>7.1</td>\n",
              "      <td>3.7</td>\n",
              "    </tr>\n",
              "    <tr>\n",
              "      <th>...</th>\n",
              "      <td>...</td>\n",
              "      <td>...</td>\n",
              "      <td>...</td>\n",
              "      <td>...</td>\n",
              "      <td>...</td>\n",
              "      <td>...</td>\n",
              "      <td>...</td>\n",
              "      <td>...</td>\n",
              "      <td>...</td>\n",
              "      <td>...</td>\n",
              "      <td>...</td>\n",
              "      <td>...</td>\n",
              "      <td>...</td>\n",
              "      <td>...</td>\n",
              "      <td>...</td>\n",
              "      <td>...</td>\n",
              "    </tr>\n",
              "    <tr>\n",
              "      <th>1124</th>\n",
              "      <td>10.611910</td>\n",
              "      <td>0</td>\n",
              "      <td>f</td>\n",
              "      <td>41.0</td>\n",
              "      <td>Banks</td>\n",
              "      <td>HR</td>\n",
              "      <td>rabrecNErab</td>\n",
              "      <td>my head</td>\n",
              "      <td>m</td>\n",
              "      <td>white</td>\n",
              "      <td>bus</td>\n",
              "      <td>8.6</td>\n",
              "      <td>3.4</td>\n",
              "      <td>2.6</td>\n",
              "      <td>4.8</td>\n",
              "      <td>8.3</td>\n",
              "    </tr>\n",
              "    <tr>\n",
              "      <th>1125</th>\n",
              "      <td>10.611910</td>\n",
              "      <td>0</td>\n",
              "      <td>f</td>\n",
              "      <td>41.0</td>\n",
              "      <td>Banks</td>\n",
              "      <td>HR</td>\n",
              "      <td>rabrecNErab</td>\n",
              "      <td>my head</td>\n",
              "      <td>m</td>\n",
              "      <td>white</td>\n",
              "      <td>bus</td>\n",
              "      <td>8.6</td>\n",
              "      <td>3.4</td>\n",
              "      <td>2.6</td>\n",
              "      <td>4.8</td>\n",
              "      <td>8.3</td>\n",
              "    </tr>\n",
              "    <tr>\n",
              "      <th>1126</th>\n",
              "      <td>118.800821</td>\n",
              "      <td>0</td>\n",
              "      <td>f</td>\n",
              "      <td>34.0</td>\n",
              "      <td>Telecom</td>\n",
              "      <td>Accounting</td>\n",
              "      <td>KA</td>\n",
              "      <td>no</td>\n",
              "      <td>f</td>\n",
              "      <td>white</td>\n",
              "      <td>bus</td>\n",
              "      <td>4.6</td>\n",
              "      <td>5.5</td>\n",
              "      <td>7.2</td>\n",
              "      <td>6.3</td>\n",
              "      <td>3.7</td>\n",
              "    </tr>\n",
              "    <tr>\n",
              "      <th>1127</th>\n",
              "      <td>49.412731</td>\n",
              "      <td>0</td>\n",
              "      <td>f</td>\n",
              "      <td>51.0</td>\n",
              "      <td>Consult</td>\n",
              "      <td>HR</td>\n",
              "      <td>empjs</td>\n",
              "      <td>no</td>\n",
              "      <td>m</td>\n",
              "      <td>grey</td>\n",
              "      <td>bus</td>\n",
              "      <td>3.8</td>\n",
              "      <td>7.6</td>\n",
              "      <td>5.7</td>\n",
              "      <td>6.3</td>\n",
              "      <td>5.2</td>\n",
              "    </tr>\n",
              "    <tr>\n",
              "      <th>1128</th>\n",
              "      <td>24.837782</td>\n",
              "      <td>0</td>\n",
              "      <td>f</td>\n",
              "      <td>29.0</td>\n",
              "      <td>Retail</td>\n",
              "      <td>HR</td>\n",
              "      <td>youjs</td>\n",
              "      <td>no</td>\n",
              "      <td>f</td>\n",
              "      <td>white</td>\n",
              "      <td>car</td>\n",
              "      <td>9.4</td>\n",
              "      <td>1.2</td>\n",
              "      <td>4.1</td>\n",
              "      <td>5.6</td>\n",
              "      <td>6.7</td>\n",
              "    </tr>\n",
              "  </tbody>\n",
              "</table>\n",
              "<p>1129 rows × 16 columns</p>\n",
              "</div>\n",
              "    <div class=\"colab-df-buttons\">\n",
              "\n",
              "  <div class=\"colab-df-container\">\n",
              "    <button class=\"colab-df-convert\" onclick=\"convertToInteractive('df-79e87cd3-d63d-44be-a373-a90f855d5292')\"\n",
              "            title=\"Convert this dataframe to an interactive table.\"\n",
              "            style=\"display:none;\">\n",
              "\n",
              "  <svg xmlns=\"http://www.w3.org/2000/svg\" height=\"24px\" viewBox=\"0 -960 960 960\">\n",
              "    <path d=\"M120-120v-720h720v720H120Zm60-500h600v-160H180v160Zm220 220h160v-160H400v160Zm0 220h160v-160H400v160ZM180-400h160v-160H180v160Zm440 0h160v-160H620v160ZM180-180h160v-160H180v160Zm440 0h160v-160H620v160Z\"/>\n",
              "  </svg>\n",
              "    </button>\n",
              "\n",
              "  <style>\n",
              "    .colab-df-container {\n",
              "      display:flex;\n",
              "      gap: 12px;\n",
              "    }\n",
              "\n",
              "    .colab-df-convert {\n",
              "      background-color: #E8F0FE;\n",
              "      border: none;\n",
              "      border-radius: 50%;\n",
              "      cursor: pointer;\n",
              "      display: none;\n",
              "      fill: #1967D2;\n",
              "      height: 32px;\n",
              "      padding: 0 0 0 0;\n",
              "      width: 32px;\n",
              "    }\n",
              "\n",
              "    .colab-df-convert:hover {\n",
              "      background-color: #E2EBFA;\n",
              "      box-shadow: 0px 1px 2px rgba(60, 64, 67, 0.3), 0px 1px 3px 1px rgba(60, 64, 67, 0.15);\n",
              "      fill: #174EA6;\n",
              "    }\n",
              "\n",
              "    .colab-df-buttons div {\n",
              "      margin-bottom: 4px;\n",
              "    }\n",
              "\n",
              "    [theme=dark] .colab-df-convert {\n",
              "      background-color: #3B4455;\n",
              "      fill: #D2E3FC;\n",
              "    }\n",
              "\n",
              "    [theme=dark] .colab-df-convert:hover {\n",
              "      background-color: #434B5C;\n",
              "      box-shadow: 0px 1px 3px 1px rgba(0, 0, 0, 0.15);\n",
              "      filter: drop-shadow(0px 1px 2px rgba(0, 0, 0, 0.3));\n",
              "      fill: #FFFFFF;\n",
              "    }\n",
              "  </style>\n",
              "\n",
              "    <script>\n",
              "      const buttonEl =\n",
              "        document.querySelector('#df-79e87cd3-d63d-44be-a373-a90f855d5292 button.colab-df-convert');\n",
              "      buttonEl.style.display =\n",
              "        google.colab.kernel.accessAllowed ? 'block' : 'none';\n",
              "\n",
              "      async function convertToInteractive(key) {\n",
              "        const element = document.querySelector('#df-79e87cd3-d63d-44be-a373-a90f855d5292');\n",
              "        const dataTable =\n",
              "          await google.colab.kernel.invokeFunction('convertToInteractive',\n",
              "                                                    [key], {});\n",
              "        if (!dataTable) return;\n",
              "\n",
              "        const docLinkHtml = 'Like what you see? Visit the ' +\n",
              "          '<a target=\"_blank\" href=https://colab.research.google.com/notebooks/data_table.ipynb>data table notebook</a>'\n",
              "          + ' to learn more about interactive tables.';\n",
              "        element.innerHTML = '';\n",
              "        dataTable['output_type'] = 'display_data';\n",
              "        await google.colab.output.renderOutput(dataTable, element);\n",
              "        const docLink = document.createElement('div');\n",
              "        docLink.innerHTML = docLinkHtml;\n",
              "        element.appendChild(docLink);\n",
              "      }\n",
              "    </script>\n",
              "  </div>\n",
              "\n",
              "\n",
              "<div id=\"df-560f00fe-0818-4f4d-9b84-4ee1b5fa4c39\">\n",
              "  <button class=\"colab-df-quickchart\" onclick=\"quickchart('df-560f00fe-0818-4f4d-9b84-4ee1b5fa4c39')\"\n",
              "            title=\"Suggest charts\"\n",
              "            style=\"display:none;\">\n",
              "\n",
              "<svg xmlns=\"http://www.w3.org/2000/svg\" height=\"24px\"viewBox=\"0 0 24 24\"\n",
              "     width=\"24px\">\n",
              "    <g>\n",
              "        <path d=\"M19 3H5c-1.1 0-2 .9-2 2v14c0 1.1.9 2 2 2h14c1.1 0 2-.9 2-2V5c0-1.1-.9-2-2-2zM9 17H7v-7h2v7zm4 0h-2V7h2v10zm4 0h-2v-4h2v4z\"/>\n",
              "    </g>\n",
              "</svg>\n",
              "  </button>\n",
              "\n",
              "<style>\n",
              "  .colab-df-quickchart {\n",
              "      --bg-color: #E8F0FE;\n",
              "      --fill-color: #1967D2;\n",
              "      --hover-bg-color: #E2EBFA;\n",
              "      --hover-fill-color: #174EA6;\n",
              "      --disabled-fill-color: #AAA;\n",
              "      --disabled-bg-color: #DDD;\n",
              "  }\n",
              "\n",
              "  [theme=dark] .colab-df-quickchart {\n",
              "      --bg-color: #3B4455;\n",
              "      --fill-color: #D2E3FC;\n",
              "      --hover-bg-color: #434B5C;\n",
              "      --hover-fill-color: #FFFFFF;\n",
              "      --disabled-bg-color: #3B4455;\n",
              "      --disabled-fill-color: #666;\n",
              "  }\n",
              "\n",
              "  .colab-df-quickchart {\n",
              "    background-color: var(--bg-color);\n",
              "    border: none;\n",
              "    border-radius: 50%;\n",
              "    cursor: pointer;\n",
              "    display: none;\n",
              "    fill: var(--fill-color);\n",
              "    height: 32px;\n",
              "    padding: 0;\n",
              "    width: 32px;\n",
              "  }\n",
              "\n",
              "  .colab-df-quickchart:hover {\n",
              "    background-color: var(--hover-bg-color);\n",
              "    box-shadow: 0 1px 2px rgba(60, 64, 67, 0.3), 0 1px 3px 1px rgba(60, 64, 67, 0.15);\n",
              "    fill: var(--button-hover-fill-color);\n",
              "  }\n",
              "\n",
              "  .colab-df-quickchart-complete:disabled,\n",
              "  .colab-df-quickchart-complete:disabled:hover {\n",
              "    background-color: var(--disabled-bg-color);\n",
              "    fill: var(--disabled-fill-color);\n",
              "    box-shadow: none;\n",
              "  }\n",
              "\n",
              "  .colab-df-spinner {\n",
              "    border: 2px solid var(--fill-color);\n",
              "    border-color: transparent;\n",
              "    border-bottom-color: var(--fill-color);\n",
              "    animation:\n",
              "      spin 1s steps(1) infinite;\n",
              "  }\n",
              "\n",
              "  @keyframes spin {\n",
              "    0% {\n",
              "      border-color: transparent;\n",
              "      border-bottom-color: var(--fill-color);\n",
              "      border-left-color: var(--fill-color);\n",
              "    }\n",
              "    20% {\n",
              "      border-color: transparent;\n",
              "      border-left-color: var(--fill-color);\n",
              "      border-top-color: var(--fill-color);\n",
              "    }\n",
              "    30% {\n",
              "      border-color: transparent;\n",
              "      border-left-color: var(--fill-color);\n",
              "      border-top-color: var(--fill-color);\n",
              "      border-right-color: var(--fill-color);\n",
              "    }\n",
              "    40% {\n",
              "      border-color: transparent;\n",
              "      border-right-color: var(--fill-color);\n",
              "      border-top-color: var(--fill-color);\n",
              "    }\n",
              "    60% {\n",
              "      border-color: transparent;\n",
              "      border-right-color: var(--fill-color);\n",
              "    }\n",
              "    80% {\n",
              "      border-color: transparent;\n",
              "      border-right-color: var(--fill-color);\n",
              "      border-bottom-color: var(--fill-color);\n",
              "    }\n",
              "    90% {\n",
              "      border-color: transparent;\n",
              "      border-bottom-color: var(--fill-color);\n",
              "    }\n",
              "  }\n",
              "</style>\n",
              "\n",
              "  <script>\n",
              "    async function quickchart(key) {\n",
              "      const quickchartButtonEl =\n",
              "        document.querySelector('#' + key + ' button');\n",
              "      quickchartButtonEl.disabled = true;  // To prevent multiple clicks.\n",
              "      quickchartButtonEl.classList.add('colab-df-spinner');\n",
              "      try {\n",
              "        const charts = await google.colab.kernel.invokeFunction(\n",
              "            'suggestCharts', [key], {});\n",
              "      } catch (error) {\n",
              "        console.error('Error during call to suggestCharts:', error);\n",
              "      }\n",
              "      quickchartButtonEl.classList.remove('colab-df-spinner');\n",
              "      quickchartButtonEl.classList.add('colab-df-quickchart-complete');\n",
              "    }\n",
              "    (() => {\n",
              "      let quickchartButtonEl =\n",
              "        document.querySelector('#df-560f00fe-0818-4f4d-9b84-4ee1b5fa4c39 button');\n",
              "      quickchartButtonEl.style.display =\n",
              "        google.colab.kernel.accessAllowed ? 'block' : 'none';\n",
              "    })();\n",
              "  </script>\n",
              "</div>\n",
              "    </div>\n",
              "  </div>\n"
            ],
            "application/vnd.google.colaboratory.intrinsic+json": {
              "type": "dataframe",
              "variable_name": "data",
              "summary": "{\n  \"name\": \"data\",\n  \"rows\": 1129,\n  \"fields\": [\n    {\n      \"column\": \"stag\",\n      \"properties\": {\n        \"dtype\": \"number\",\n        \"std\": 34.09659697145454,\n        \"min\": 0.394250513,\n        \"max\": 179.449692,\n        \"num_unique_values\": 773,\n        \"samples\": [\n          50.20123203,\n          20.96098563,\n          1.18275154\n        ],\n        \"semantic_type\": \"\",\n        \"description\": \"\"\n      }\n    },\n    {\n      \"column\": \"event\",\n      \"properties\": {\n        \"dtype\": \"number\",\n        \"std\": 0,\n        \"min\": 0,\n        \"max\": 1,\n        \"num_unique_values\": 2,\n        \"samples\": [\n          0,\n          1\n        ],\n        \"semantic_type\": \"\",\n        \"description\": \"\"\n      }\n    },\n    {\n      \"column\": \"gender\",\n      \"properties\": {\n        \"dtype\": \"category\",\n        \"num_unique_values\": 2,\n        \"samples\": [\n          \"f\",\n          \"m\"\n        ],\n        \"semantic_type\": \"\",\n        \"description\": \"\"\n      }\n    },\n    {\n      \"column\": \"age\",\n      \"properties\": {\n        \"dtype\": \"number\",\n        \"std\": 6.996147222887078,\n        \"min\": 18.0,\n        \"max\": 58.0,\n        \"num_unique_values\": 39,\n        \"samples\": [\n          41.0,\n          56.0\n        ],\n        \"semantic_type\": \"\",\n        \"description\": \"\"\n      }\n    },\n    {\n      \"column\": \"industry\",\n      \"properties\": {\n        \"dtype\": \"category\",\n        \"num_unique_values\": 16,\n        \"samples\": [\n          \"Banks\",\n          \"PowerGeneration\"\n        ],\n        \"semantic_type\": \"\",\n        \"description\": \"\"\n      }\n    },\n    {\n      \"column\": \"profession\",\n      \"properties\": {\n        \"dtype\": \"category\",\n        \"num_unique_values\": 15,\n        \"samples\": [\n          \"IT\",\n          \"Consult\"\n        ],\n        \"semantic_type\": \"\",\n        \"description\": \"\"\n      }\n    },\n    {\n      \"column\": \"traffic\",\n      \"properties\": {\n        \"dtype\": \"category\",\n        \"num_unique_values\": 8,\n        \"samples\": [\n          \"empjs\",\n          \"KA\"\n        ],\n        \"semantic_type\": \"\",\n        \"description\": \"\"\n      }\n    },\n    {\n      \"column\": \"coach\",\n      \"properties\": {\n        \"dtype\": \"category\",\n        \"num_unique_values\": 3,\n        \"samples\": [\n          \"no\",\n          \"yes\"\n        ],\n        \"semantic_type\": \"\",\n        \"description\": \"\"\n      }\n    },\n    {\n      \"column\": \"head_gender\",\n      \"properties\": {\n        \"dtype\": \"category\",\n        \"num_unique_values\": 2,\n        \"samples\": [\n          \"m\",\n          \"f\"\n        ],\n        \"semantic_type\": \"\",\n        \"description\": \"\"\n      }\n    },\n    {\n      \"column\": \"greywage\",\n      \"properties\": {\n        \"dtype\": \"category\",\n        \"num_unique_values\": 2,\n        \"samples\": [\n          \"grey\",\n          \"white\"\n        ],\n        \"semantic_type\": \"\",\n        \"description\": \"\"\n      }\n    },\n    {\n      \"column\": \"way\",\n      \"properties\": {\n        \"dtype\": \"category\",\n        \"num_unique_values\": 3,\n        \"samples\": [\n          \"bus\",\n          \"car\"\n        ],\n        \"semantic_type\": \"\",\n        \"description\": \"\"\n      }\n    },\n    {\n      \"column\": \"extraversion\",\n      \"properties\": {\n        \"dtype\": \"number\",\n        \"std\": 1.85163682876956,\n        \"min\": 1.0,\n        \"max\": 10.0,\n        \"num_unique_values\": 13,\n        \"samples\": [\n          2.2,\n          1.4\n        ],\n        \"semantic_type\": \"\",\n        \"description\": \"\"\n      }\n    },\n    {\n      \"column\": \"independ\",\n      \"properties\": {\n        \"dtype\": \"number\",\n        \"std\": 1.703312176674186,\n        \"min\": 1.0,\n        \"max\": 10.0,\n        \"num_unique_values\": 15,\n        \"samples\": [\n          2.6,\n          9.1\n        ],\n        \"semantic_type\": \"\",\n        \"description\": \"\"\n      }\n    },\n    {\n      \"column\": \"selfcontrol\",\n      \"properties\": {\n        \"dtype\": \"number\",\n        \"std\": 1.980100803375185,\n        \"min\": 1.0,\n        \"max\": 10.0,\n        \"num_unique_values\": 13,\n        \"samples\": [\n          1.0,\n          8.7\n        ],\n        \"semantic_type\": \"\",\n        \"description\": \"\"\n      }\n    },\n    {\n      \"column\": \"anxiety\",\n      \"properties\": {\n        \"dtype\": \"number\",\n        \"std\": 1.7091759482722322,\n        \"min\": 1.7,\n        \"max\": 10.0,\n        \"num_unique_values\": 12,\n        \"samples\": [\n          1.7,\n          9.4\n        ],\n        \"semantic_type\": \"\",\n        \"description\": \"\"\n      }\n    },\n    {\n      \"column\": \"novator\",\n      \"properties\": {\n        \"dtype\": \"number\",\n        \"std\": 1.904015783185674,\n        \"min\": 1.0,\n        \"max\": 10.0,\n        \"num_unique_values\": 14,\n        \"samples\": [\n          2.9,\n          1.0\n        ],\n        \"semantic_type\": \"\",\n        \"description\": \"\"\n      }\n    }\n  ]\n}"
            }
          },
          "metadata": {},
          "execution_count": 2
        }
      ]
    },
    {
      "cell_type": "markdown",
      "source": [
        "\n",
        "\n",
        "---\n",
        "\n"
      ],
      "metadata": {
        "id": "oHTDNsZ2Sqtm"
      }
    },
    {
      "cell_type": "markdown",
      "source": [
        "Удалим дубликаты и выведем все текущие названия столбцов в DataFrame"
      ],
      "metadata": {
        "id": "3AB6C20ojjtj"
      }
    },
    {
      "cell_type": "code",
      "source": [
        "data.drop_duplicates(inplace=True) # операция изменяет исходный DataFrame data, а не создает новый.\n",
        "print(data.columns)"
      ],
      "metadata": {
        "colab": {
          "base_uri": "https://localhost:8080/"
        },
        "id": "kumhhocaZXMw",
        "outputId": "21df0f3a-23db-475a-f91b-d79b194fe884"
      },
      "execution_count": 3,
      "outputs": [
        {
          "output_type": "stream",
          "name": "stdout",
          "text": [
            "Index(['stag', 'event', 'gender', 'age', 'industry', 'profession', 'traffic',\n",
            "       'coach', 'head_gender', 'greywage', 'way', 'extraversion', 'independ',\n",
            "       'selfcontrol', 'anxiety', 'novator'],\n",
            "      dtype='object')\n"
          ]
        }
      ]
    },
    {
      "cell_type": "markdown",
      "source": [
        "Размерность данных: количество строк и столбцов"
      ],
      "metadata": {
        "id": "bn-2z5YkkOGI"
      }
    },
    {
      "cell_type": "code",
      "source": [
        "print(data.shape)"
      ],
      "metadata": {
        "colab": {
          "base_uri": "https://localhost:8080/"
        },
        "id": "Ae_ufahyjhaC",
        "outputId": "b75cd6aa-523c-40c7-a321-f72c25221591"
      },
      "execution_count": 4,
      "outputs": [
        {
          "output_type": "stream",
          "name": "stdout",
          "text": [
            "(1116, 16)\n"
          ]
        }
      ]
    },
    {
      "cell_type": "markdown",
      "source": [
        "Выведем всю необходимую информацию о датафрейме для дальнейшей работы с ней"
      ],
      "metadata": {
        "id": "87I3s-TBki2k"
      }
    },
    {
      "cell_type": "code",
      "source": [
        "print(data.info(show_counts=True, memory_usage=False, verbose=True))"
      ],
      "metadata": {
        "colab": {
          "base_uri": "https://localhost:8080/"
        },
        "id": "SiolfOWVkdX3",
        "outputId": "39cd7b25-663c-4f06-ef9b-c2f6a684551f"
      },
      "execution_count": 5,
      "outputs": [
        {
          "output_type": "stream",
          "name": "stdout",
          "text": [
            "<class 'pandas.core.frame.DataFrame'>\n",
            "Index: 1116 entries, 0 to 1128\n",
            "Data columns (total 16 columns):\n",
            " #   Column        Non-Null Count  Dtype  \n",
            "---  ------        --------------  -----  \n",
            " 0   stag          1116 non-null   float64\n",
            " 1   event         1116 non-null   int64  \n",
            " 2   gender        1116 non-null   object \n",
            " 3   age           1116 non-null   float64\n",
            " 4   industry      1116 non-null   object \n",
            " 5   profession    1116 non-null   object \n",
            " 6   traffic       1116 non-null   object \n",
            " 7   coach         1116 non-null   object \n",
            " 8   head_gender   1116 non-null   object \n",
            " 9   greywage      1116 non-null   object \n",
            " 10  way           1116 non-null   object \n",
            " 11  extraversion  1116 non-null   float64\n",
            " 12  independ      1116 non-null   float64\n",
            " 13  selfcontrol   1116 non-null   float64\n",
            " 14  anxiety       1116 non-null   float64\n",
            " 15  novator       1116 non-null   float64\n",
            "dtypes: float64(7), int64(1), object(8)None\n"
          ]
        }
      ]
    },
    {
      "cell_type": "markdown",
      "source": [
        "В сводке содержится следующая информация: количество строк и столбцов;\n",
        "названия и типы данных каждого столбца; количество непустых значений в каждом столбце"
      ],
      "metadata": {
        "id": "XRqOqHRwnKE2"
      }
    },
    {
      "cell_type": "markdown",
      "source": [
        "\n",
        "\n",
        "---\n",
        "\n"
      ],
      "metadata": {
        "id": "zbSuG5Y5Ss3v"
      }
    },
    {
      "cell_type": "markdown",
      "source": [
        "Построим ⭐ **баланс классов** ⭐ для сравнения количества событий с меткой 0 и 1 в DataFrame\n",
        "\n",
        "(возвращает подмножество строк, где булевая серия (True/False) = True (если значение в столбце \"event\" равно 0 ➡ True). Shape возвращает кортеж, состоящий из двух элементов (количество строк и количество столбцов), чтобы получить только количество строк, мы обращаемся к элементу с индексом 0 с помощью [0])"
      ],
      "metadata": {
        "id": "qhTNYMQ1pZBk"
      }
    },
    {
      "cell_type": "code",
      "source": [
        "x = \"Баланс классов\"\n",
        "y1 = data[data[\"event\"]==0].shape[0]\n",
        "y2 = data[data[\"event\"]==1].shape[0]\n",
        "\n",
        "plt.bar(x, y1, color='grey')  # столбец для y1\n",
        "plt.bar(x, y2, bottom=y1, color='lavender') # столбец для y2\n",
        "\n",
        "plt.show()"
      ],
      "metadata": {
        "colab": {
          "base_uri": "https://localhost:8080/",
          "height": 430
        },
        "id": "tdgmNFN8lR37",
        "outputId": "52a92bce-32e7-474c-d4a5-a3208ceacb44"
      },
      "execution_count": 6,
      "outputs": [
        {
          "output_type": "display_data",
          "data": {
            "text/plain": [
              "<Figure size 640x480 with 1 Axes>"
            ],
            "image/png": "[encoded data removed]"
          },
          "metadata": {}
        }
      ]
    },
    {
      "cell_type": "markdown",
      "source": [
        "Из графика можно сделать вывод о том, что количество объектов класса 0 примерно равно количеству объектов класса 1"
      ],
      "metadata": {
        "id": "CGuvFjQF_bFi"
      }
    },
    {
      "cell_type": "markdown",
      "source": [
        "\n",
        "\n",
        "---\n",
        "\n"
      ],
      "metadata": {
        "id": "5Xze4sDxSuOB"
      }
    },
    {
      "cell_type": "markdown",
      "source": [
        "Проверим данные на наличие пропусков\n",
        "\n",
        "Выполним очистку данных от пропущенных значений, заменяя их медианными значениями в столбцах, где пропущенных значений менее половины, и удаляя столбцы, где пропущенных значений более половины"
      ],
      "metadata": {
        "id": "3GjwjLKrLebA"
      }
    },
    {
      "cell_type": "code",
      "source": [
        "if data.isnull().any().any():\n",
        "  print(\"Eсть пропуски в следующих столбцах: \", data.columns[data.isnull().any()].tolist() ) # tolist() - преобразует выбранные названия столбцов в список\n",
        "  for column in data.columns:\n",
        "      if data[column].isnull().sum() > len(data) / 2:\n",
        "          data.drop(column, inplace=True)\n",
        "          print(f\"Столбец {column} удален, так как содержит более половины пропущенных значений.\")\n",
        "      else:\n",
        "          col_median = data[column].median() # median устойчива к выбросам, а mean нет\n",
        "          data[column] = data[column].fillna(col_median)\n",
        "          print(f\"Все пропущенные значения столбца {column} заменены на медианное значение по этому столбцу, так как серия содержит менее половины пропущенных значений.\")\n",
        "else:\n",
        "  print(\"Пропусков в данных нет :)\")"
      ],
      "metadata": {
        "colab": {
          "base_uri": "https://localhost:8080/"
        },
        "id": "-OcsGPhKLfoR",
        "outputId": "0bbc4565-3e7c-4baa-b84f-6cd5aa52b80c"
      },
      "execution_count": 7,
      "outputs": [
        {
          "output_type": "stream",
          "name": "stdout",
          "text": [
            "Пропусков в данных нет :)\n"
          ]
        }
      ]
    },
    {
      "cell_type": "markdown",
      "source": [
        "\n",
        "\n",
        "---\n",
        "\n"
      ],
      "metadata": {
        "id": "BU9M3CH_SwGr"
      }
    },
    {
      "cell_type": "markdown",
      "source": [
        "Поработаем с категориальными значениями...\n",
        "\n",
        "- убедимся что они присутствуют: (если присутствуют, то преобразуем в числовые значения)"
      ],
      "metadata": {
        "id": "IQ36fx3qNSGn"
      }
    },
    {
      "cell_type": "code",
      "source": [
        "print(data.dtypes)"
      ],
      "metadata": {
        "colab": {
          "base_uri": "https://localhost:8080/"
        },
        "id": "NFw4wqZxNHaj",
        "outputId": "01c8b615-e4c4-4e32-8dbd-618e9f14e5a3"
      },
      "execution_count": 8,
      "outputs": [
        {
          "output_type": "stream",
          "name": "stdout",
          "text": [
            "stag            float64\n",
            "event             int64\n",
            "gender           object\n",
            "age             float64\n",
            "industry         object\n",
            "profession       object\n",
            "traffic          object\n",
            "coach            object\n",
            "head_gender      object\n",
            "greywage         object\n",
            "way              object\n",
            "extraversion    float64\n",
            "independ        float64\n",
            "selfcontrol     float64\n",
            "anxiety         float64\n",
            "novator         float64\n",
            "dtype: object\n"
          ]
        }
      ]
    },
    {
      "cell_type": "markdown",
      "source": [
        "Преобразуем категориальные значения столбцов **\"gender\", \"industry\", \"profession\", \"traffic\", \"coach\", \"head_gender\", \"greywage\" и \"way\"** в числовые"
      ],
      "metadata": {
        "id": "we6Asl20M__J"
      }
    },
    {
      "cell_type": "markdown",
      "source": [
        "lbl_en = LabelEncoder()\n",
        "for column in [\"gender\", \"industry\", \"profession\", \"traffic\", \"coach\", \"head_gender\", \"greywage\", \"way\"]:\n",
        "    lbl_en.fit(data[column])   # обучается на уникальных значениях каждого столбца\n",
        "    data[column] = lbl_en.transform(data[column])\n",
        "print(data.columns)"
      ],
      "metadata": {
        "id": "UZu9ScOi-avC"
      }
    },
    {
      "cell_type": "code",
      "source": [
        "get_dum = pd.get_dummies(data, columns = [\"gender\", \"industry\", \"profession\", \"traffic\", \"coach\", \"head_gender\", \"greywage\", \"way\"])\n",
        "get_dum\n",
        ""
      ],
      "metadata": {
        "colab": {
          "base_uri": "https://localhost:8080/",
          "height": 443
        },
        "id": "SJZxBNmC9Wic",
        "outputId": "d382d81b-e174-47b2-dc59-27c28629d903"
      },
      "execution_count": 58,
      "outputs": [
        {
          "output_type": "execute_result",
          "data": {
            "text/plain": [
              "            stag  event   age  extraversion  independ  selfcontrol  anxiety  \\\n",
              "0       7.030801      1  35.0           6.2       4.1          5.7      7.1   \n",
              "1      22.965092      1  33.0           6.2       4.1          5.7      7.1   \n",
              "2      15.934292      1  35.0           6.2       6.2          2.6      4.8   \n",
              "3      15.934292      1  35.0           5.4       7.6          4.9      2.5   \n",
              "4       8.410678      1  32.0           3.0       4.1          8.0      7.1   \n",
              "...          ...    ...   ...           ...       ...          ...      ...   \n",
              "1123    6.669405      0  27.0           9.4       5.5          3.3      4.0   \n",
              "1124   10.611910      0  41.0           8.6       3.4          2.6      4.8   \n",
              "1126  118.800821      0  34.0           4.6       5.5          7.2      6.3   \n",
              "1127   49.412731      0  51.0           3.8       7.6          5.7      6.3   \n",
              "1128   24.837782      0  29.0           9.4       1.2          4.1      5.6   \n",
              "\n",
              "      novator  gender_0  gender_1  ...  coach_0  coach_1  coach_2  \\\n",
              "0         8.3     False      True  ...    False     True    False   \n",
              "1         8.3     False      True  ...    False     True    False   \n",
              "2         8.3      True     False  ...    False     True    False   \n",
              "3         6.7      True     False  ...    False     True    False   \n",
              "4         3.7     False      True  ...    False    False     True   \n",
              "...       ...       ...       ...  ...      ...      ...      ...   \n",
              "1123      7.5      True     False  ...    False     True    False   \n",
              "1124      8.3      True     False  ...     True    False    False   \n",
              "1126      3.7      True     False  ...    False     True    False   \n",
              "1127      5.2      True     False  ...    False     True    False   \n",
              "1128      6.7      True     False  ...    False     True    False   \n",
              "\n",
              "      head_gender_0  head_gender_1  greywage_0  greywage_1  way_0  way_1  \\\n",
              "0              True          False       False        True   True  False   \n",
              "1             False           True       False        True   True  False   \n",
              "2             False           True       False        True   True  False   \n",
              "3             False           True       False        True   True  False   \n",
              "4              True          False       False        True   True  False   \n",
              "...             ...            ...         ...         ...    ...    ...   \n",
              "1123           True          False       False        True   True  False   \n",
              "1124          False           True       False        True   True  False   \n",
              "1126           True          False       False        True   True  False   \n",
              "1127          False           True        True       False   True  False   \n",
              "1128           True          False       False        True  False   True   \n",
              "\n",
              "      way_2  \n",
              "0     False  \n",
              "1     False  \n",
              "2     False  \n",
              "3     False  \n",
              "4     False  \n",
              "...     ...  \n",
              "1123  False  \n",
              "1124  False  \n",
              "1126  False  \n",
              "1127  False  \n",
              "1128  False  \n",
              "\n",
              "[1116 rows x 59 columns]"
            ],
            "text/html": [
              "\n",
              "  <div id=\"df-a487cd33-0b69-4782-97f0-b69010ef571d\" class=\"colab-df-container\">\n",
              "    <div>\n",
              "<style scoped>\n",
              "    .dataframe tbody tr th:only-of-type {\n",
              "        vertical-align: middle;\n",
              "    }\n",
              "\n",
              "    .dataframe tbody tr th {\n",
              "        vertical-align: top;\n",
              "    }\n",
              "\n",
              "    .dataframe thead th {\n",
              "        text-align: right;\n",
              "    }\n",
              "</style>\n",
              "<table border=\"1\" class=\"dataframe\">\n",
              "  <thead>\n",
              "    <tr style=\"text-align: right;\">\n",
              "      <th></th>\n",
              "      <th>stag</th>\n",
              "      <th>event</th>\n",
              "      <th>age</th>\n",
              "      <th>extraversion</th>\n",
              "      <th>independ</th>\n",
              "      <th>selfcontrol</th>\n",
              "      <th>anxiety</th>\n",
              "      <th>novator</th>\n",
              "      <th>gender_0</th>\n",
              "      <th>gender_1</th>\n",
              "      <th>...</th>\n",
              "      <th>coach_0</th>\n",
              "      <th>coach_1</th>\n",
              "      <th>coach_2</th>\n",
              "      <th>head_gender_0</th>\n",
              "      <th>head_gender_1</th>\n",
              "      <th>greywage_0</th>\n",
              "      <th>greywage_1</th>\n",
              "      <th>way_0</th>\n",
              "      <th>way_1</th>\n",
              "      <th>way_2</th>\n",
              "    </tr>\n",
              "  </thead>\n",
              "  <tbody>\n",
              "    <tr>\n",
              "      <th>0</th>\n",
              "      <td>7.030801</td>\n",
              "      <td>1</td>\n",
              "      <td>35.0</td>\n",
              "      <td>6.2</td>\n",
              "      <td>4.1</td>\n",
              "      <td>5.7</td>\n",
              "      <td>7.1</td>\n",
              "      <td>8.3</td>\n",
              "      <td>False</td>\n",
              "      <td>True</td>\n",
              "      <td>...</td>\n",
              "      <td>False</td>\n",
              "      <td>True</td>\n",
              "      <td>False</td>\n",
              "      <td>True</td>\n",
              "      <td>False</td>\n",
              "      <td>False</td>\n",
              "      <td>True</td>\n",
              "      <td>True</td>\n",
              "      <td>False</td>\n",
              "      <td>False</td>\n",
              "    </tr>\n",
              "    <tr>\n",
              "      <th>1</th>\n",
              "      <td>22.965092</td>\n",
              "      <td>1</td>\n",
              "      <td>33.0</td>\n",
              "      <td>6.2</td>\n",
              "      <td>4.1</td>\n",
              "      <td>5.7</td>\n",
              "      <td>7.1</td>\n",
              "      <td>8.3</td>\n",
              "      <td>False</td>\n",
              "      <td>True</td>\n",
              "      <td>...</td>\n",
              "      <td>False</td>\n",
              "      <td>True</td>\n",
              "      <td>False</td>\n",
              "      <td>False</td>\n",
              "      <td>True</td>\n",
              "      <td>False</td>\n",
              "      <td>True</td>\n",
              "      <td>True</td>\n",
              "      <td>False</td>\n",
              "      <td>False</td>\n",
              "    </tr>\n",
              "    <tr>\n",
              "      <th>2</th>\n",
              "      <td>15.934292</td>\n",
              "      <td>1</td>\n",
              "      <td>35.0</td>\n",
              "      <td>6.2</td>\n",
              "      <td>6.2</td>\n",
              "      <td>2.6</td>\n",
              "      <td>4.8</td>\n",
              "      <td>8.3</td>\n",
              "      <td>True</td>\n",
              "      <td>False</td>\n",
              "      <td>...</td>\n",
              "      <td>False</td>\n",
              "      <td>True</td>\n",
              "      <td>False</td>\n",
              "      <td>False</td>\n",
              "      <td>True</td>\n",
              "      <td>False</td>\n",
              "      <td>True</td>\n",
              "      <td>True</td>\n",
              "      <td>False</td>\n",
              "      <td>False</td>\n",
              "    </tr>\n",
              "    <tr>\n",
              "      <th>3</th>\n",
              "      <td>15.934292</td>\n",
              "      <td>1</td>\n",
              "      <td>35.0</td>\n",
              "      <td>5.4</td>\n",
              "      <td>7.6</td>\n",
              "      <td>4.9</td>\n",
              "      <td>2.5</td>\n",
              "      <td>6.7</td>\n",
              "      <td>True</td>\n",
              "      <td>False</td>\n",
              "      <td>...</td>\n",
              "      <td>False</td>\n",
              "      <td>True</td>\n",
              "      <td>False</td>\n",
              "      <td>False</td>\n",
              "      <td>True</td>\n",
              "      <td>False</td>\n",
              "      <td>True</td>\n",
              "      <td>True</td>\n",
              "      <td>False</td>\n",
              "      <td>False</td>\n",
              "    </tr>\n",
              "    <tr>\n",
              "      <th>4</th>\n",
              "      <td>8.410678</td>\n",
              "      <td>1</td>\n",
              "      <td>32.0</td>\n",
              "      <td>3.0</td>\n",
              "      <td>4.1</td>\n",
              "      <td>8.0</td>\n",
              "      <td>7.1</td>\n",
              "      <td>3.7</td>\n",
              "      <td>False</td>\n",
              "      <td>True</td>\n",
              "      <td>...</td>\n",
              "      <td>False</td>\n",
              "      <td>False</td>\n",
              "      <td>True</td>\n",
              "      <td>True</td>\n",
              "      <td>False</td>\n",
              "      <td>False</td>\n",
              "      <td>True</td>\n",
              "      <td>True</td>\n",
              "      <td>False</td>\n",
              "      <td>False</td>\n",
              "    </tr>\n",
              "    <tr>\n",
              "      <th>...</th>\n",
              "      <td>...</td>\n",
              "      <td>...</td>\n",
              "      <td>...</td>\n",
              "      <td>...</td>\n",
              "      <td>...</td>\n",
              "      <td>...</td>\n",
              "      <td>...</td>\n",
              "      <td>...</td>\n",
              "      <td>...</td>\n",
              "      <td>...</td>\n",
              "      <td>...</td>\n",
              "      <td>...</td>\n",
              "      <td>...</td>\n",
              "      <td>...</td>\n",
              "      <td>...</td>\n",
              "      <td>...</td>\n",
              "      <td>...</td>\n",
              "      <td>...</td>\n",
              "      <td>...</td>\n",
              "      <td>...</td>\n",
              "      <td>...</td>\n",
              "    </tr>\n",
              "    <tr>\n",
              "      <th>1123</th>\n",
              "      <td>6.669405</td>\n",
              "      <td>0</td>\n",
              "      <td>27.0</td>\n",
              "      <td>9.4</td>\n",
              "      <td>5.5</td>\n",
              "      <td>3.3</td>\n",
              "      <td>4.0</td>\n",
              "      <td>7.5</td>\n",
              "      <td>True</td>\n",
              "      <td>False</td>\n",
              "      <td>...</td>\n",
              "      <td>False</td>\n",
              "      <td>True</td>\n",
              "      <td>False</td>\n",
              "      <td>True</td>\n",
              "      <td>False</td>\n",
              "      <td>False</td>\n",
              "      <td>True</td>\n",
              "      <td>True</td>\n",
              "      <td>False</td>\n",
              "      <td>False</td>\n",
              "    </tr>\n",
              "    <tr>\n",
              "      <th>1124</th>\n",
              "      <td>10.611910</td>\n",
              "      <td>0</td>\n",
              "      <td>41.0</td>\n",
              "      <td>8.6</td>\n",
              "      <td>3.4</td>\n",
              "      <td>2.6</td>\n",
              "      <td>4.8</td>\n",
              "      <td>8.3</td>\n",
              "      <td>True</td>\n",
              "      <td>False</td>\n",
              "      <td>...</td>\n",
              "      <td>True</td>\n",
              "      <td>False</td>\n",
              "      <td>False</td>\n",
              "      <td>False</td>\n",
              "      <td>True</td>\n",
              "      <td>False</td>\n",
              "      <td>True</td>\n",
              "      <td>True</td>\n",
              "      <td>False</td>\n",
              "      <td>False</td>\n",
              "    </tr>\n",
              "    <tr>\n",
              "      <th>1126</th>\n",
              "      <td>118.800821</td>\n",
              "      <td>0</td>\n",
              "      <td>34.0</td>\n",
              "      <td>4.6</td>\n",
              "      <td>5.5</td>\n",
              "      <td>7.2</td>\n",
              "      <td>6.3</td>\n",
              "      <td>3.7</td>\n",
              "      <td>True</td>\n",
              "      <td>False</td>\n",
              "      <td>...</td>\n",
              "      <td>False</td>\n",
              "      <td>True</td>\n",
              "      <td>False</td>\n",
              "      <td>True</td>\n",
              "      <td>False</td>\n",
              "      <td>False</td>\n",
              "      <td>True</td>\n",
              "      <td>True</td>\n",
              "      <td>False</td>\n",
              "      <td>False</td>\n",
              "    </tr>\n",
              "    <tr>\n",
              "      <th>1127</th>\n",
              "      <td>49.412731</td>\n",
              "      <td>0</td>\n",
              "      <td>51.0</td>\n",
              "      <td>3.8</td>\n",
              "      <td>7.6</td>\n",
              "      <td>5.7</td>\n",
              "      <td>6.3</td>\n",
              "      <td>5.2</td>\n",
              "      <td>True</td>\n",
              "      <td>False</td>\n",
              "      <td>...</td>\n",
              "      <td>False</td>\n",
              "      <td>True</td>\n",
              "      <td>False</td>\n",
              "      <td>False</td>\n",
              "      <td>True</td>\n",
              "      <td>True</td>\n",
              "      <td>False</td>\n",
              "      <td>True</td>\n",
              "      <td>False</td>\n",
              "      <td>False</td>\n",
              "    </tr>\n",
              "    <tr>\n",
              "      <th>1128</th>\n",
              "      <td>24.837782</td>\n",
              "      <td>0</td>\n",
              "      <td>29.0</td>\n",
              "      <td>9.4</td>\n",
              "      <td>1.2</td>\n",
              "      <td>4.1</td>\n",
              "      <td>5.6</td>\n",
              "      <td>6.7</td>\n",
              "      <td>True</td>\n",
              "      <td>False</td>\n",
              "      <td>...</td>\n",
              "      <td>False</td>\n",
              "      <td>True</td>\n",
              "      <td>False</td>\n",
              "      <td>True</td>\n",
              "      <td>False</td>\n",
              "      <td>False</td>\n",
              "      <td>True</td>\n",
              "      <td>False</td>\n",
              "      <td>True</td>\n",
              "      <td>False</td>\n",
              "    </tr>\n",
              "  </tbody>\n",
              "</table>\n",
              "<p>1116 rows × 59 columns</p>\n",
              "</div>\n",
              "    <div class=\"colab-df-buttons\">\n",
              "\n",
              "  <div class=\"colab-df-container\">\n",
              "    <button class=\"colab-df-convert\" onclick=\"convertToInteractive('df-a487cd33-0b69-4782-97f0-b69010ef571d')\"\n",
              "            title=\"Convert this dataframe to an interactive table.\"\n",
              "            style=\"display:none;\">\n",
              "\n",
              "  <svg xmlns=\"http://www.w3.org/2000/svg\" height=\"24px\" viewBox=\"0 -960 960 960\">\n",
              "    <path d=\"M120-120v-720h720v720H120Zm60-500h600v-160H180v160Zm220 220h160v-160H400v160Zm0 220h160v-160H400v160ZM180-400h160v-160H180v160Zm440 0h160v-160H620v160ZM180-180h160v-160H180v160Zm440 0h160v-160H620v160Z\"/>\n",
              "  </svg>\n",
              "    </button>\n",
              "\n",
              "  <style>\n",
              "    .colab-df-container {\n",
              "      display:flex;\n",
              "      gap: 12px;\n",
              "    }\n",
              "\n",
              "    .colab-df-convert {\n",
              "      background-color: #E8F0FE;\n",
              "      border: none;\n",
              "      border-radius: 50%;\n",
              "      cursor: pointer;\n",
              "      display: none;\n",
              "      fill: #1967D2;\n",
              "      height: 32px;\n",
              "      padding: 0 0 0 0;\n",
              "      width: 32px;\n",
              "    }\n",
              "\n",
              "    .colab-df-convert:hover {\n",
              "      background-color: #E2EBFA;\n",
              "      box-shadow: 0px 1px 2px rgba(60, 64, 67, 0.3), 0px 1px 3px 1px rgba(60, 64, 67, 0.15);\n",
              "      fill: #174EA6;\n",
              "    }\n",
              "\n",
              "    .colab-df-buttons div {\n",
              "      margin-bottom: 4px;\n",
              "    }\n",
              "\n",
              "    [theme=dark] .colab-df-convert {\n",
              "      background-color: #3B4455;\n",
              "      fill: #D2E3FC;\n",
              "    }\n",
              "\n",
              "    [theme=dark] .colab-df-convert:hover {\n",
              "      background-color: #434B5C;\n",
              "      box-shadow: 0px 1px 3px 1px rgba(0, 0, 0, 0.15);\n",
              "      filter: drop-shadow(0px 1px 2px rgba(0, 0, 0, 0.3));\n",
              "      fill: #FFFFFF;\n",
              "    }\n",
              "  </style>\n",
              "\n",
              "    <script>\n",
              "      const buttonEl =\n",
              "        document.querySelector('#df-a487cd33-0b69-4782-97f0-b69010ef571d button.colab-df-convert');\n",
              "      buttonEl.style.display =\n",
              "        google.colab.kernel.accessAllowed ? 'block' : 'none';\n",
              "\n",
              "      async function convertToInteractive(key) {\n",
              "        const element = document.querySelector('#df-a487cd33-0b69-4782-97f0-b69010ef571d');\n",
              "        const dataTable =\n",
              "          await google.colab.kernel.invokeFunction('convertToInteractive',\n",
              "                                                    [key], {});\n",
              "        if (!dataTable) return;\n",
              "\n",
              "        const docLinkHtml = 'Like what you see? Visit the ' +\n",
              "          '<a target=\"_blank\" href=https://colab.research.google.com/notebooks/data_table.ipynb>data table notebook</a>'\n",
              "          + ' to learn more about interactive tables.';\n",
              "        element.innerHTML = '';\n",
              "        dataTable['output_type'] = 'display_data';\n",
              "        await google.colab.output.renderOutput(dataTable, element);\n",
              "        const docLink = document.createElement('div');\n",
              "        docLink.innerHTML = docLinkHtml;\n",
              "        element.appendChild(docLink);\n",
              "      }\n",
              "    </script>\n",
              "  </div>\n",
              "\n",
              "\n",
              "<div id=\"df-bd952f3e-3676-40c4-8f1f-21eb782778af\">\n",
              "  <button class=\"colab-df-quickchart\" onclick=\"quickchart('df-bd952f3e-3676-40c4-8f1f-21eb782778af')\"\n",
              "            title=\"Suggest charts\"\n",
              "            style=\"display:none;\">\n",
              "\n",
              "<svg xmlns=\"http://www.w3.org/2000/svg\" height=\"24px\"viewBox=\"0 0 24 24\"\n",
              "     width=\"24px\">\n",
              "    <g>\n",
              "        <path d=\"M19 3H5c-1.1 0-2 .9-2 2v14c0 1.1.9 2 2 2h14c1.1 0 2-.9 2-2V5c0-1.1-.9-2-2-2zM9 17H7v-7h2v7zm4 0h-2V7h2v10zm4 0h-2v-4h2v4z\"/>\n",
              "    </g>\n",
              "</svg>\n",
              "  </button>\n",
              "\n",
              "<style>\n",
              "  .colab-df-quickchart {\n",
              "      --bg-color: #E8F0FE;\n",
              "      --fill-color: #1967D2;\n",
              "      --hover-bg-color: #E2EBFA;\n",
              "      --hover-fill-color: #174EA6;\n",
              "      --disabled-fill-color: #AAA;\n",
              "      --disabled-bg-color: #DDD;\n",
              "  }\n",
              "\n",
              "  [theme=dark] .colab-df-quickchart {\n",
              "      --bg-color: #3B4455;\n",
              "      --fill-color: #D2E3FC;\n",
              "      --hover-bg-color: #434B5C;\n",
              "      --hover-fill-color: #FFFFFF;\n",
              "      --disabled-bg-color: #3B4455;\n",
              "      --disabled-fill-color: #666;\n",
              "  }\n",
              "\n",
              "  .colab-df-quickchart {\n",
              "    background-color: var(--bg-color);\n",
              "    border: none;\n",
              "    border-radius: 50%;\n",
              "    cursor: pointer;\n",
              "    display: none;\n",
              "    fill: var(--fill-color);\n",
              "    height: 32px;\n",
              "    padding: 0;\n",
              "    width: 32px;\n",
              "  }\n",
              "\n",
              "  .colab-df-quickchart:hover {\n",
              "    background-color: var(--hover-bg-color);\n",
              "    box-shadow: 0 1px 2px rgba(60, 64, 67, 0.3), 0 1px 3px 1px rgba(60, 64, 67, 0.15);\n",
              "    fill: var(--button-hover-fill-color);\n",
              "  }\n",
              "\n",
              "  .colab-df-quickchart-complete:disabled,\n",
              "  .colab-df-quickchart-complete:disabled:hover {\n",
              "    background-color: var(--disabled-bg-color);\n",
              "    fill: var(--disabled-fill-color);\n",
              "    box-shadow: none;\n",
              "  }\n",
              "\n",
              "  .colab-df-spinner {\n",
              "    border: 2px solid var(--fill-color);\n",
              "    border-color: transparent;\n",
              "    border-bottom-color: var(--fill-color);\n",
              "    animation:\n",
              "      spin 1s steps(1) infinite;\n",
              "  }\n",
              "\n",
              "  @keyframes spin {\n",
              "    0% {\n",
              "      border-color: transparent;\n",
              "      border-bottom-color: var(--fill-color);\n",
              "      border-left-color: var(--fill-color);\n",
              "    }\n",
              "    20% {\n",
              "      border-color: transparent;\n",
              "      border-left-color: var(--fill-color);\n",
              "      border-top-color: var(--fill-color);\n",
              "    }\n",
              "    30% {\n",
              "      border-color: transparent;\n",
              "      border-left-color: var(--fill-color);\n",
              "      border-top-color: var(--fill-color);\n",
              "      border-right-color: var(--fill-color);\n",
              "    }\n",
              "    40% {\n",
              "      border-color: transparent;\n",
              "      border-right-color: var(--fill-color);\n",
              "      border-top-color: var(--fill-color);\n",
              "    }\n",
              "    60% {\n",
              "      border-color: transparent;\n",
              "      border-right-color: var(--fill-color);\n",
              "    }\n",
              "    80% {\n",
              "      border-color: transparent;\n",
              "      border-right-color: var(--fill-color);\n",
              "      border-bottom-color: var(--fill-color);\n",
              "    }\n",
              "    90% {\n",
              "      border-color: transparent;\n",
              "      border-bottom-color: var(--fill-color);\n",
              "    }\n",
              "  }\n",
              "</style>\n",
              "\n",
              "  <script>\n",
              "    async function quickchart(key) {\n",
              "      const quickchartButtonEl =\n",
              "        document.querySelector('#' + key + ' button');\n",
              "      quickchartButtonEl.disabled = true;  // To prevent multiple clicks.\n",
              "      quickchartButtonEl.classList.add('colab-df-spinner');\n",
              "      try {\n",
              "        const charts = await google.colab.kernel.invokeFunction(\n",
              "            'suggestCharts', [key], {});\n",
              "      } catch (error) {\n",
              "        console.error('Error during call to suggestCharts:', error);\n",
              "      }\n",
              "      quickchartButtonEl.classList.remove('colab-df-spinner');\n",
              "      quickchartButtonEl.classList.add('colab-df-quickchart-complete');\n",
              "    }\n",
              "    (() => {\n",
              "      let quickchartButtonEl =\n",
              "        document.querySelector('#df-bd952f3e-3676-40c4-8f1f-21eb782778af button');\n",
              "      quickchartButtonEl.style.display =\n",
              "        google.colab.kernel.accessAllowed ? 'block' : 'none';\n",
              "    })();\n",
              "  </script>\n",
              "</div>\n",
              "    </div>\n",
              "  </div>\n"
            ],
            "application/vnd.google.colaboratory.intrinsic+json": {
              "type": "dataframe",
              "variable_name": "get_dum"
            }
          },
          "metadata": {},
          "execution_count": 58
        }
      ]
    },
    {
      "cell_type": "code",
      "source": [
        "print(data.info())"
      ],
      "metadata": {
        "colab": {
          "base_uri": "https://localhost:8080/"
        },
        "id": "h2jSpYNFSCh6",
        "outputId": "1b62c01a-ca4b-4826-b595-dbcc2b997788"
      },
      "execution_count": 46,
      "outputs": [
        {
          "output_type": "stream",
          "name": "stdout",
          "text": [
            "<class 'pandas.core.frame.DataFrame'>\n",
            "Index: 1116 entries, 0 to 1128\n",
            "Data columns (total 16 columns):\n",
            " #   Column        Non-Null Count  Dtype  \n",
            "---  ------        --------------  -----  \n",
            " 0   stag          1116 non-null   float64\n",
            " 1   event         1116 non-null   int64  \n",
            " 2   gender        1116 non-null   int64  \n",
            " 3   age           1116 non-null   float64\n",
            " 4   industry      1116 non-null   int64  \n",
            " 5   profession    1116 non-null   int64  \n",
            " 6   traffic       1116 non-null   int64  \n",
            " 7   coach         1116 non-null   int64  \n",
            " 8   head_gender   1116 non-null   int64  \n",
            " 9   greywage      1116 non-null   int64  \n",
            " 10  way           1116 non-null   int64  \n",
            " 11  extraversion  1116 non-null   float64\n",
            " 12  independ      1116 non-null   float64\n",
            " 13  selfcontrol   1116 non-null   float64\n",
            " 14  anxiety       1116 non-null   float64\n",
            " 15  novator       1116 non-null   float64\n",
            "dtypes: float64(7), int64(9)\n",
            "memory usage: 148.2 KB\n",
            "None\n"
          ]
        }
      ]
    },
    {
      "cell_type": "markdown",
      "source": [
        "Теперь все значения не принадлежат типу string"
      ],
      "metadata": {
        "id": "Vy3OcpANSdgF"
      }
    },
    {
      "cell_type": "markdown",
      "source": [
        "\n",
        "\n",
        "---\n",
        "\n"
      ],
      "metadata": {
        "id": "tQvEvAyRSntK"
      }
    },
    {
      "cell_type": "markdown",
      "source": [
        "Далее представлена ⭐ **матрица корреляции** ⭐ в виде heatmap"
      ],
      "metadata": {
        "id": "7nSEr8XwTMe4"
      }
    },
    {
      "cell_type": "code",
      "source": [
        "plt.figure(figsize=(17, 15),  dpi=60)\n",
        "datalot = sb.heatmap(data.corr(method='pearson'), cmap=sb.cubehelix_palette(as_cmap=True),\n",
        "                     annot=True, annot_kws={\"fontsize\":18}, fmt=\".1f\")\n",
        "plt.xticks(fontsize=15, rotation=30)\n",
        "plt.yticks(fontsize=15, rotation=30)\n",
        "plt.show()"
      ],
      "metadata": {
        "colab": {
          "base_uri": "https://localhost:8080/",
          "height": 783
        },
        "id": "_kkmYIRbQb0I",
        "outputId": "bf324460-61ea-4f82-9e84-5c6e2d97daa7"
      },
      "execution_count": 64,
      "outputs": [
        {
          "output_type": "display_data",
          "data": {
            "text/plain": [
              "<Figure size 1020x900 with 2 Axes>"
            ],
            "image/png": "[encoded data removed]"
          },
          "metadata": {}
        }
      ]
    },
    {
      "cell_type": "markdown",
      "source": [
        "Результат показывает, что большинство значений <|0,6|. Следовательно избавляться от маленьких коэффициентов смысла нет, так как их больше половины всей матрицы корреляции"
      ],
      "metadata": {
        "id": "w2QjvtkSnq-p"
      }
    },
    {
      "cell_type": "markdown",
      "source": [
        "\n",
        "\n",
        "---\n",
        "\n"
      ],
      "metadata": {
        "id": "lB65mDHqTRKM"
      }
    },
    {
      "cell_type": "markdown",
      "source": [
        "# ***Обучение модели***"
      ],
      "metadata": {
        "id": "QM8Fts6xTSD8"
      }
    },
    {
      "cell_type": "markdown",
      "source": [
        " Разделим данные на обучающий и тестовый наборы. В данном случае процентное соотношение будет следующим: 30% данных для тестирования, 70% - для обучения"
      ],
      "metadata": {
        "id": "dgnXjscqT0wL"
      }
    },
    {
      "cell_type": "code",
      "source": [
        "X = get_dum.drop(columns=[\"event\"])\n",
        "y = get_dum[\"event\"]\n",
        "\n",
        "X_train, X_test, y_train, y_test = train_test_split(X, y, test_size=0.3, random_state=0)"
      ],
      "metadata": {
        "id": "xHAROUy0TStp"
      },
      "execution_count": 61,
      "outputs": []
    },
    {
      "cell_type": "markdown",
      "source": [
        "Обучим модель"
      ],
      "metadata": {
        "id": "bZdClWx1UYmy"
      }
    },
    {
      "cell_type": "code",
      "source": [
        "model = LogisticRegression(max_iter=2000)\n",
        "model.fit(X_train, y_train)\n",
        "\n",
        "y_pred = model.predict(X_test)"
      ],
      "metadata": {
        "id": "1cgzOhYnU7PI"
      },
      "execution_count": 62,
      "outputs": []
    },
    {
      "cell_type": "markdown",
      "source": [
        "\n",
        "\n",
        "---\n",
        "\n"
      ],
      "metadata": {
        "id": "KFEJXcXOVszY"
      }
    },
    {
      "cell_type": "markdown",
      "source": [
        "Построим ⭐ **confusion matrix** ⭐ для оценки производительности модели\n",
        "\n",
        "*   строки представляют истинные классы, а столбцы - предсказанные классы\n",
        "\n",
        "      [[TN FP]                                                    \n",
        "      [FN TP]]  ☝"
      ],
      "metadata": {
        "id": "yJAb8U6UViML"
      }
    },
    {
      "cell_type": "code",
      "source": [
        "print(metrics.confusion_matrix(y_test, y_pred))"
      ],
      "metadata": {
        "colab": {
          "base_uri": "https://localhost:8080/"
        },
        "id": "frpXjRpgVhfs",
        "outputId": "4767f95b-55f4-45fe-d36c-b5e1292ad66f"
      },
      "execution_count": 63,
      "outputs": [
        {
          "output_type": "stream",
          "name": "stdout",
          "text": [
            "[[109  75]\n",
            " [ 44 107]]\n"
          ]
        }
      ]
    },
    {
      "cell_type": "markdown",
      "source": [
        "\n",
        "\n",
        "---\n",
        "\n"
      ],
      "metadata": {
        "id": "upqXqqRqhoJ8"
      }
    },
    {
      "cell_type": "code",
      "source": [
        "print(\"Коэффициенты модели:\")\n",
        "print()\n",
        "for feature, coef in zip(X.columns, model.coef_[0]):\n",
        "    print(f\"{feature}: {coef}\")"
      ],
      "metadata": {
        "colab": {
          "base_uri": "https://localhost:8080/"
        },
        "id": "TcZOZnlrh-6H",
        "outputId": "871bb1cb-23f8-4858-8a40-a4f36b42e933"
      },
      "execution_count": 65,
      "outputs": [
        {
          "output_type": "stream",
          "name": "stdout",
          "text": [
            "Коэффициенты модели:\n",
            "\n",
            "stag: -0.004331451000118865\n",
            "age: -0.009332051535756234\n",
            "extraversion: -0.06242822787858797\n",
            "independ: 0.011628290959493399\n",
            "selfcontrol: -0.027652097946547646\n",
            "anxiety: -0.11231236502957286\n",
            "novator: 0.03937585559958687\n",
            "gender_0: 0.07839451131532747\n",
            "gender_1: -0.0823824237422642\n",
            "industry_0: 0.3472907856087907\n",
            "industry_1: 0.4306953488836812\n",
            "industry_2: 0.4959404632143466\n",
            "industry_3: 0.7833797669873253\n",
            "industry_4: 0.3587376450308674\n",
            "industry_5: -1.0187358522427337\n",
            "industry_6: 0.20860812347909657\n",
            "industry_7: 0.01129702554551281\n",
            "industry_8: -0.5178067434492364\n",
            "industry_9: -0.12795546822710288\n",
            "industry_10: -0.37030330951270457\n",
            "industry_11: 0.05797370470720885\n",
            "industry_12: -0.3693989218231088\n",
            "industry_13: 0.16178826605850288\n",
            "industry_14: -0.07158452929640732\n",
            "industry_15: -0.3839142173900592\n",
            "profession_0: 0.29213323378555484\n",
            "profession_1: -0.08152371578382765\n",
            "profession_2: 0.4316370591240063\n",
            "profession_3: -0.3132446211882234\n",
            "profession_4: 0.3287869994499192\n",
            "profession_5: -0.21451536326259313\n",
            "profession_6: -0.7041517540321564\n",
            "profession_7: -0.533649715984757\n",
            "profession_8: -0.276240810930538\n",
            "profession_9: -0.14024857094664933\n",
            "profession_10: 0.3791634669699951\n",
            "profession_11: -0.2441726282046999\n",
            "profession_12: 1.1713723320125513\n",
            "profession_13: -0.0981350427640363\n",
            "profession_14: -0.0011987806720533617\n",
            "traffic_0: 0.12829526974757666\n",
            "traffic_1: -0.26456969491500143\n",
            "traffic_2: 0.12801690042315866\n",
            "traffic_3: -0.5689615541759039\n",
            "traffic_4: 0.3270794911218681\n",
            "traffic_5: -0.1272539458872039\n",
            "traffic_6: 0.5989056820669526\n",
            "traffic_7: -0.22550006080921842\n",
            "coach_0: -0.0918280799839758\n",
            "coach_1: -0.03884015195001631\n",
            "coach_2: 0.12668031950703412\n",
            "head_gender_0: -0.04799861874572603\n",
            "head_gender_1: 0.04401070631848059\n",
            "greywage_0: 0.1937615773963092\n",
            "greywage_1: -0.19774948982338394\n",
            "way_0: 0.2541873726266661\n",
            "way_1: 0.2359773547489614\n",
            "way_2: -0.49415263980265733\n"
          ]
        }
      ]
    },
    {
      "cell_type": "markdown",
      "source": [
        "**Положительные коэффициенты:**\n",
        "- gender\n",
        "- profession\n",
        "- coach\n",
        "- head_gender\n",
        "- independ\n",
        "\n",
        "(увеличение значений этих признаков положительно влияет на вероятность наступления события, которое модель пытается предсказать)\n",
        "\n",
        "**Отрицательные коэффициенты:**\n",
        "- stag\n",
        "- age\n",
        "- industry\n",
        "- traffic\n",
        "- greywage\n",
        "- way\n",
        "- extraversion\n",
        "- selfcontrol\n",
        "- anxiety\n",
        "\n",
        "(увеличение значений этих признаков негативно влияет на вероятность наступления события)\n",
        "\n",
        "**Незначительные коэффициенты:**\n",
        "- novator: Коэффициент этого признака близок к нулю, что говорит о том, что этот признак имеет незначительное влияние на вероятность наступления события"
      ],
      "metadata": {
        "id": "i5DgI5YhjRWR"
      }
    },
    {
      "cell_type": "markdown",
      "source": [
        "\n",
        "\n",
        "---\n",
        "\n"
      ],
      "metadata": {
        "id": "RpNblI05kFf1"
      }
    },
    {
      "cell_type": "markdown",
      "source": [
        "Вычислим ⭐ **метрики** ⭐ для подведения итогов"
      ],
      "metadata": {
        "id": "_8r_V8_1hHj_"
      }
    },
    {
      "cell_type": "code",
      "source": [
        "conf_matrix = [[109, 75],\n",
        "               [44, 107]]\n",
        "\n",
        "precision = metrics.precision_score(y_test, y_pred) # Точность\n",
        "recall = metrics.recall_score(y_test, y_pred)       # Полнота\n",
        "f1_score = metrics.f1_score(y_test, y_pred)         # F1-мера\n",
        "precision_class_1 = metrics.precision_score(y_test, y_pred, pos_label=1)\n",
        "recall_class_1 = metrics.recall_score(y_test, y_pred, pos_label=1)\n",
        "f1_score_class_1 = metrics.f1_score(y_test, y_pred, pos_label=1)\n",
        "precision_class_0 = metrics.precision_score(y_test, y_pred, pos_label=0)\n",
        "recall_class_0 = metrics.recall_score(y_test, y_pred, pos_label=0)\n",
        "f1_score_class_0 = metrics.f1_score(y_test, y_pred, pos_label=0)\n",
        "\n",
        "print(\"Precision:\", precision)\n",
        "print(\"Recall:\", recall)\n",
        "print(\"F1-score:\", f1_score)\n",
        "print(\"Precision for class 1:\", precision_class_1)\n",
        "print(\"Recall for class 1:\", recall_class_1)\n",
        "print(\"F1-score for class 1:\", f1_score_class_1)\n",
        "print(\"Precision for class 0:\", precision_class_0)\n",
        "print(\"Recall for class 0:\", recall_class_0)\n",
        "print(\"F1-score for class 0:\", f1_score_class_0)"
      ],
      "metadata": {
        "colab": {
          "base_uri": "https://localhost:8080/"
        },
        "id": "oW9ncmHrXFvK",
        "outputId": "f8e47390-7324-4fff-c3d7-bcf3110311ef"
      },
      "execution_count": 68,
      "outputs": [
        {
          "output_type": "stream",
          "name": "stdout",
          "text": [
            "Precision: 0.5879120879120879\n",
            "Recall: 0.7086092715231788\n",
            "F1-score: 0.6426426426426426\n",
            "Precision for class 1: 0.5879120879120879\n",
            "Recall for class 1: 0.7086092715231788\n",
            "F1-score for class 1: 0.6426426426426426\n",
            "Precision for class 0: 0.7124183006535948\n",
            "Recall for class 0: 0.592391304347826\n",
            "F1-score for class 0: 0.6468842729970326\n"
          ]
        }
      ]
    },
    {
      "cell_type": "markdown",
      "source": [
        "- Точность (Precision): Общая точность модели составляет примерно 58.7%. Это означает, что около 46.4% объектов, которые модель предсказала как положительные, действительно являются положительными.\n",
        "\n",
        "- Полнота (Recall): Общая полнота модели составляет примерно 70.8%. Это означает, что модель правильно обнаруживает около 68.2% всех действительно положительных объектов.\n",
        "\n",
        "- F1-мера (F1-score): Общая F1-мера составляет примерно 64.2%. F1-мера является сбалансированной мерой между точностью и полнотой.\n",
        "\n",
        "---\n",
        "\n",
        "\n",
        "\n",
        "- Точность (Precision) для класса 1: составляет примерно 71.2%.\n",
        "\n",
        "- Полнота (Recall) для класса 1: составляет примерно 70.8%.\n",
        "\n",
        "- F1-мера для класса 1: F1-мера для положительного класса также составляет примерно 64.2%.\n",
        "\n",
        "\n",
        "---\n",
        "\n",
        "\n",
        "\n",
        "- Точность (Precision) для класса 0: составляет примерно 57.5%.\n",
        "\n",
        "- Полнота (Recall) для класса 0: составляет примерно 59.2%.\n",
        "\n",
        "- F1-мера для отрицательного класса (0): составляет примерно 64.6%.\n",
        "\n",
        "\n",
        "---\n",
        "\n",
        "\n",
        "\n",
        "---\n",
        "\n",
        "\n",
        "\n",
        "> *Модель показывает хорошую производительность в общем, с достаточно хорошими значениями точности и полноты.*                                                                               \n",
        "\n",
        "> ***Таким образом, модель можно считать хорошо обученной.***"
      ],
      "metadata": {
        "id": "Dqu-PnGzduFv"
      }
    }
  ]
}