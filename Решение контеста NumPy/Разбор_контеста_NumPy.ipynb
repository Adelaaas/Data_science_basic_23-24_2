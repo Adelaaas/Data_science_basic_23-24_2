{
  "nbformat": 4,
  "nbformat_minor": 0,
  "metadata": {
    "colab": {
      "provenance": []
    },
    "kernelspec": {
      "name": "python3",
      "display_name": "Python 3"
    },
    "language_info": {
      "name": "python"
    }
  },
  "cells": [
    {
      "cell_type": "markdown",
      "source": [
        "# A. Найди ближайщего"
      ],
      "metadata": {
        "id": "27gF9PITRh8F"
      }
    },
    {
      "cell_type": "code",
      "source": [
        "import numpy as np\n",
        "1 6 -8 6\n",
        "0 0 0  0\n",
        "\n",
        "|0-1| |"
      ],
      "metadata": {
        "id": "tGjryZqZcl7G"
      },
      "execution_count": null,
      "outputs": []
    },
    {
      "cell_type": "code",
      "execution_count": null,
      "metadata": {
        "id": "xM5XpUDHRhDF"
      },
      "outputs": [],
      "source": [
        "import numpy as np\n",
        "\n",
        "def get_nearest(a, a0):\n",
        "    \"Element in nd array `a` closest to the scalar value `a0`\"\n",
        "    idx = np.abs(a - a0).argmin()\n",
        "    return a[idx]\n",
        "\n",
        "B = np.array(list(map(int, input().split())))\n",
        "\n",
        "print(get_nearest(B,0))"
      ]
    },
    {
      "cell_type": "markdown",
      "source": [
        "# B. Шахматная доска"
      ],
      "metadata": {
        "id": "kHRYaeMBRkzV"
      }
    },
    {
      "cell_type": "code",
      "source": [
        "import numpy as np\n",
        "\n",
        "def checkerboard(n):\n",
        "    a = np.resize([0,1], n)\n",
        "    return np.abs(a-np.array([a]).T)\n",
        "\n",
        "\n",
        "N = int(input())\n",
        "\n",
        "x = checkerboard(N)\n",
        "\n",
        "for i in x:\n",
        "    print(*i)"
      ],
      "metadata": {
        "id": "Ks1GdHGoRm4V"
      },
      "execution_count": null,
      "outputs": []
    },
    {
      "cell_type": "markdown",
      "source": [
        "# C. Нулевая колонка"
      ],
      "metadata": {
        "id": "9STPyrGYRoV5"
      }
    },
    {
      "cell_type": "code",
      "source": [
        "import numpy as np\n",
        "\n",
        "with open('input.txt') as file:\n",
        "    x = np.array([[int(digit) for digit in line.split()] for line in file])\n",
        "\n",
        "\n",
        "# 1 5 0 -4\n",
        "# 1 4 8 7\n",
        "# 9 0 0 -3\n",
        "\n",
        "# [11, 9, 0, 12]\n",
        "sums = x.sum(axis=0)\n",
        "if 0 in sums:\n",
        "    print(True)\n",
        "else:\n",
        "    print(False)"
      ],
      "metadata": {
        "id": "9NuWau_0RrRG"
      },
      "execution_count": null,
      "outputs": []
    },
    {
      "cell_type": "markdown",
      "source": [
        "# D. Симметричная матрица"
      ],
      "metadata": {
        "id": "gaxZ5yGYRs_1"
      }
    },
    {
      "cell_type": "code",
      "source": [
        "0.1+0.1+0.1\n",
        "1e-8"
      ],
      "metadata": {
        "colab": {
          "base_uri": "https://localhost:8080/"
        },
        "id": "q06TgNJ2fvoc",
        "outputId": "50755dc3-effa-4a52-d55b-6908e92127cb"
      },
      "execution_count": null,
      "outputs": [
        {
          "output_type": "execute_result",
          "data": {
            "text/plain": [
              "1e-08"
            ]
          },
          "metadata": {},
          "execution_count": 3
        }
      ]
    },
    {
      "cell_type": "code",
      "source": [
        "import numpy as np\n",
        "\n",
        "def symetric(arr, tol=1e-8):\n",
        "    return np.all(np.abs(arr-arr.T) < tol)\n",
        "\n",
        "with open('input.txt') as file:\n",
        "    x = np.array([[int(digit) for digit in line.split()] for line in file])\n",
        "\n",
        "print(symetric(x))"
      ],
      "metadata": {
        "id": "ubYQ6Hy6Rvjy"
      },
      "execution_count": null,
      "outputs": []
    },
    {
      "cell_type": "markdown",
      "source": [
        "# E. Максимальная сумма в строке"
      ],
      "metadata": {
        "id": "LNW3ECPVRw70"
      }
    },
    {
      "cell_type": "code",
      "source": [
        "import numpy as np\n",
        "\n",
        "# with open('input.txt') as file:\n",
        "#     x = np.array([[int(digit) for digit in line.split()] for line in file])\n",
        "\n",
        "x = np.array([[1,3,4], [0,4,2], [2,2,4]])\n",
        "x"
      ],
      "metadata": {
        "id": "SCczr0BBRy65",
        "colab": {
          "base_uri": "https://localhost:8080/"
        },
        "outputId": "67480d6e-e520-43b1-d21a-ba2e310a8bca"
      },
      "execution_count": null,
      "outputs": [
        {
          "output_type": "execute_result",
          "data": {
            "text/plain": [
              "array([[1, 3, 4],\n",
              "       [0, 4, 2],\n",
              "       [2, 2, 4]])"
            ]
          },
          "metadata": {},
          "execution_count": 5
        }
      ]
    },
    {
      "cell_type": "code",
      "source": [
        "a = x.sum(axis=1)\n",
        "# a = [8, 6, 8]"
      ],
      "metadata": {
        "id": "zbPiDTB3g9QR"
      },
      "execution_count": null,
      "outputs": []
    },
    {
      "cell_type": "code",
      "source": [
        "print(*np.where(a == np.max(a))[0])"
      ],
      "metadata": {
        "colab": {
          "base_uri": "https://localhost:8080/"
        },
        "id": "eiMuTmUEg94Y",
        "outputId": "23ffb18c-087c-43f7-cedb-e4dd63d5f6db"
      },
      "execution_count": null,
      "outputs": [
        {
          "output_type": "stream",
          "name": "stdout",
          "text": [
            "0 2\n"
          ]
        }
      ]
    },
    {
      "cell_type": "code",
      "source": [
        "a = x.sum(axis=1)\n",
        "# [3, 10, 31]\n",
        "# a == np.max(a) -> [False, False, True]\n",
        "print(*np.where(a == np.max(a)))"
      ],
      "metadata": {
        "id": "NgYTu8JUg6Xk"
      },
      "execution_count": null,
      "outputs": []
    },
    {
      "cell_type": "code",
      "source": [
        "np.where(условие,True,False)"
      ],
      "metadata": {
        "id": "RLqiVguKgc-E"
      },
      "execution_count": null,
      "outputs": []
    }
  ]
}