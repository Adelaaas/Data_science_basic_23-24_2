{
  "nbformat": 4,
  "nbformat_minor": 0,
  "metadata": {
    "colab": {
      "provenance": []
    },
    "kernelspec": {
      "name": "python3",
      "display_name": "Python 3"
    },
    "language_info": {
      "name": "python"
    }
  },
  "cells": [
    {
      "cell_type": "code",
      "execution_count": 81,
      "metadata": {
        "id": "jFtuGjz6p8AC"
      },
      "outputs": [],
      "source": [
        "import pandas as pd\n",
        "import numpy as np\n",
        "\n",
        "df=pd.read_csv(\"input.csv\")"
      ]
    },
    {
      "cell_type": "code",
      "source": [
        "h = df[df['Статус'] == 'СТ']\n",
        "h = h['STD_ID'].unique()\n",
        "print(len(h))"
      ],
      "metadata": {
        "colab": {
          "base_uri": "https://localhost:8080/"
        },
        "id": "97yZiK6WsVi3",
        "outputId": "34f47bbb-b94e-4ef1-9736-2f5c663d37a7"
      },
      "execution_count": 15,
      "outputs": [
        {
          "output_type": "stream",
          "name": "stdout",
          "text": [
            "4648\n"
          ]
        }
      ]
    },
    {
      "cell_type": "code",
      "source": [
        "h = df[df['Статус'] == 'ВЫП']\n",
        "h = h['STD_ID'].unique()\n",
        "print(len(h))"
      ],
      "metadata": {
        "colab": {
          "base_uri": "https://localhost:8080/"
        },
        "id": "ihD736butau9",
        "outputId": "db9f55a3-084b-4c21-cff8-05d56df1faad"
      },
      "execution_count": 16,
      "outputs": [
        {
          "output_type": "stream",
          "name": "stdout",
          "text": [
            "455\n"
          ]
        }
      ]
    },
    {
      "cell_type": "code",
      "source": [
        "h = df[df['Пол'] == 'М']\n",
        "print(h[\"направление (специальность)\"].value_counts().idxmax())"
      ],
      "metadata": {
        "colab": {
          "base_uri": "https://localhost:8080/"
        },
        "id": "CuQjOE9uv0RJ",
        "outputId": "622e1dc3-5825-4667-df75-f9495d4ef37d"
      },
      "execution_count": 29,
      "outputs": [
        {
          "output_type": "stream",
          "name": "stdout",
          "text": [
            "Лечебное дело\n"
          ]
        }
      ]
    },
    {
      "cell_type": "code",
      "source": [
        "h = df[df['Пол'] == 'Ж']\n",
        "print(h[\"направление (специальность)\"].value_counts().idxmin())"
      ],
      "metadata": {
        "colab": {
          "base_uri": "https://localhost:8080/"
        },
        "id": "3oCeItNH0hwK",
        "outputId": "8c4f92a1-365c-4f8d-89c7-ea1f6e82dcb7"
      },
      "execution_count": 30,
      "outputs": [
        {
          "output_type": "stream",
          "name": "stdout",
          "text": [
            "Эксплуатация транспортно-технологических машин и комплексов\n"
          ]
        }
      ]
    },
    {
      "cell_type": "code",
      "source": [
        "h=df[df.drop(columns=['STD_ID']).isna().all(axis=1)]\n",
        "print(h[\"STD_ID\"].values[0])"
      ],
      "metadata": {
        "colab": {
          "base_uri": "https://localhost:8080/"
        },
        "id": "p8M7u4Pa0z1V",
        "outputId": "24cce7e9-572c-40b2-e588-ded9425fd049"
      },
      "execution_count": 80,
      "outputs": [
        {
          "output_type": "stream",
          "name": "stdout",
          "text": [
            "92222\n"
          ]
        }
      ]
    },
    {
      "cell_type": "code",
      "source": [
        "h = df.dropna(subset=['направление (специальность)'])\n",
        "print(len(h['направление (специальность)'].unique()))"
      ],
      "metadata": {
        "colab": {
          "base_uri": "https://localhost:8080/"
        },
        "id": "nmPDYrhB04x0",
        "outputId": "a4deaefb-1a28-4042-abd2-c9bfd90f3c67"
      },
      "execution_count": 79,
      "outputs": [
        {
          "output_type": "stream",
          "name": "stdout",
          "text": [
            "44\n"
          ]
        }
      ]
    },
    {
      "cell_type": "code",
      "source": [
        "print(df[\"Пол\"].value_counts().idxmax())"
      ],
      "metadata": {
        "colab": {
          "base_uri": "https://localhost:8080/"
        },
        "id": "mJWDt_QO1Ym8",
        "outputId": "9766d35b-7149-4857-f52c-9601bfcb594c"
      },
      "execution_count": 37,
      "outputs": [
        {
          "output_type": "stream",
          "name": "stdout",
          "text": [
            "Ж\n"
          ]
        }
      ]
    }
  ]
}