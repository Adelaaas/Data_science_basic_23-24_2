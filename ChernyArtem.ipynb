import pandas as pd
import datetime as dt

df = pd.read_csv('weatherHistory.csv')
df.head()

# 1.1
res11 = df['Temperature (C)'].max()
print(res11)

# 1.2
res12 = df['Precip Type'].value_counts()
print(res12)

# 1.3
res13 = df.groupby('Precip Type')['Temperature (C)'].mean()
print(res13)

# 1.4
res14 = df[df['Temperature (C)'] > 0].shape[0]
print(res14)

# 2
df["Formatted Date"] = pd.to_datetime(df["Formatted Date"], utc=True)
from datetime import date
date21 = date(2016, 9, 9)
res21 = df[df["Formatted Date"].dt.date == date21]['Temperature (C)'].mean()
print(res21)

# 3
def which_season(month):
   if month in [3, 4, 5]:
       return 'spring'
   elif month in [6, 7, 8]:
       return 'summer'
   elif month in [9, 10, 11]:
       return 'autumn'
   else:
       return 'winter'

df["Month"] = df["Formatted Date"].dt.month
df['Season'] = df['Month'].apply(which_season)

res3A = df.groupby('Season')['Temperature (C)'].mean()
res3B = df.groupby('Season')['Wind Speed (km/h)'].mean()
print(res3A)
print(res3B)

# 4
res4 = df[(df['Season'] == 'winter') & (df['Precip Type'] == 'rain')].groupby('Season')['Humidity'].mean()
print(res4)
