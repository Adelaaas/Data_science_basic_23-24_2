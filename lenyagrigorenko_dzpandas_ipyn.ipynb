{
  "nbformat": 4,
  "nbformat_minor": 0,
  "metadata": {
    "colab": {
      "provenance": []
    },
    "kernelspec": {
      "name": "python3",
      "display_name": "Python 3"
    },
    "language_info": {
      "name": "python"
    }
  },
  "cells": [
    {
      "cell_type": "markdown",
      "source": [
        "задание 1"
      ],
      "metadata": {
        "id": "8qJEh5zPoUoG"
      }
    },
    {
      "cell_type": "code",
      "source": [
        "import pandas as pd\n",
        "\n",
        "data = pd.read_csv(\"weatherHistory.csv\")\n",
        "\n",
        "max_temperature = data[\"Temperature (C)\"].max()\n",
        "print(max_temperature)\n",
        "\n",
        "rainy_count = data[data[\"Precip Type\"] == \"rain\"].shape[0]\n",
        "snowy_count = data[data[\"Precip Type\"] == \"snow\"].shape[0]\n",
        "print(rainy_count)\n",
        "print(snowy_count)\n",
        "\n",
        "mean_temperature_rainy = data[data[\"Precip Type\"] == \"rain\"][\"Temperature (C)\"].mean()\n",
        "mean_temperature_snowy = data[data[\"Precip Type\"] == \"snow\"][\"Temperature (C)\"].mean()\n",
        "print(mean_temperature_rainy)\n",
        "print(mean_temperature_snowy)\n",
        "\n",
        "pudge = data[data[\"Temperature (C)\"] > 0].shape[0]\n",
        "print(pudge)\n"
      ],
      "metadata": {
        "id": "LRclbkcSoYwW"
      },
      "execution_count": null,
      "outputs": []
    },
    {
      "cell_type": "markdown",
      "source": [
        "задание 2"
      ],
      "metadata": {
        "id": "1SwMIYI1ppxd"
      }
    },
    {
      "cell_type": "code",
      "source": [
        "import pandas as pd\n",
        "\n",
        "df = pd.read_csv(\"weatherHistory.csv\")\n",
        "\n",
        "df[\"Formatted Date\"] = pd.to_datetime(df[\"Formatted Date\"], utc = True)\n",
        "\n",
        "sd = pd.to_datetime(\"2016-09-09\", utc = True)\n",
        "fd = df[df[\"Formatted Date\"].dt.date == sd.date()]\n",
        "\n",
        "df2 = fd[\"Temperature (C)\"].mean()\n",
        "\n",
        "print(df2)"
      ],
      "metadata": {
        "id": "dXM6vAplprou",
        "colab": {
          "base_uri": "https://localhost:8080/",
          "height": 245
        },
        "outputId": "f5d739ec-c3be-457a-b78e-dde1f31ba42c"
      },
      "execution_count": 2,
      "outputs": [
        {
          "output_type": "error",
          "ename": "TypeError",
          "evalue": "ignored",
          "traceback": [
            "\u001b[0;31m---------------------------------------------------------------------------\u001b[0m",
            "\u001b[0;31mTypeError\u001b[0m                                 Traceback (most recent call last)",
            "\u001b[0;32m<ipython-input-2-97498cf44a4b>\u001b[0m in \u001b[0;36m<cell line: 8>\u001b[0;34m()\u001b[0m\n\u001b[1;32m      6\u001b[0m \u001b[0;34m\u001b[0m\u001b[0m\n\u001b[1;32m      7\u001b[0m \u001b[0mdf2\u001b[0m \u001b[0;34m=\u001b[0m \u001b[0mpd\u001b[0m\u001b[0;34m.\u001b[0m\u001b[0mto_datetime\u001b[0m\u001b[0;34m(\u001b[0m\u001b[0;34m\"2016-09-09\"\u001b[0m\u001b[0;34m,\u001b[0m \u001b[0mutc\u001b[0m \u001b[0;34m=\u001b[0m \u001b[0;32mTrue\u001b[0m\u001b[0;34m)\u001b[0m\u001b[0;34m\u001b[0m\u001b[0;34m\u001b[0m\u001b[0m\n\u001b[0;32m----> 8\u001b[0;31m \u001b[0mdf3\u001b[0m \u001b[0;34m=\u001b[0m \u001b[0mdf\u001b[0m\u001b[0;34m[\u001b[0m\u001b[0mdf\u001b[0m\u001b[0;34m[\u001b[0m\u001b[0;34m\"Formatted Date\"\u001b[0m\u001b[0;34m]\u001b[0m\u001b[0;34m.\u001b[0m\u001b[0mdt\u001b[0m\u001b[0;34m.\u001b[0m\u001b[0mdate\u001b[0m \u001b[0;34m==\u001b[0m \u001b[0mdf2\u001b[0m\u001b[0;34m(\u001b[0m\u001b[0;34m)\u001b[0m\u001b[0;34m]\u001b[0m\u001b[0;34m\u001b[0m\u001b[0;34m\u001b[0m\u001b[0m\n\u001b[0m\u001b[1;32m      9\u001b[0m \u001b[0;34m\u001b[0m\u001b[0m\n\u001b[1;32m     10\u001b[0m \u001b[0mmtemperature\u001b[0m \u001b[0;34m=\u001b[0m \u001b[0mdf3\u001b[0m\u001b[0;34m[\u001b[0m\u001b[0;34m\"Temperature (C)\"\u001b[0m\u001b[0;34m]\u001b[0m\u001b[0;34m.\u001b[0m\u001b[0mmean\u001b[0m\u001b[0;34m(\u001b[0m\u001b[0;34m)\u001b[0m\u001b[0;34m\u001b[0m\u001b[0;34m\u001b[0m\u001b[0m\n",
            "\u001b[0;31mTypeError\u001b[0m: 'Timestamp' object is not callable"
          ]
        }
      ]
    },
    {
      "cell_type": "markdown",
      "source": [
        "задание 3"
      ],
      "metadata": {
        "id": "_uRGGLiuVMX2"
      }
    },
    {
      "cell_type": "code",
      "source": [
        "import pandas as pd\n",
        "\n",
        "df = pd.read_csv(\"weatherHistory.csv\")\n",
        "\n",
        "df[\"Formatted Date\"] = pd.to_datetime(df[\"Formatted Date\"], utc=True)\n",
        "\n",
        "df[\"Month\"] = df[\"Formatted Date\"].dt.month\n",
        "\n",
        "df['Season'] = df['Month'].apply(lambda x: (\n",
        "    \"зима\" if (x >= 1 and x <= 2) or x == 12 else\n",
        "    \"весна\" if x >= 3 and x <= 5 else\n",
        "    \"лето\" if x >= 6 and x <= 8 else\n",
        "    \"осень\"\n",
        "))\n",
        "\n",
        "df2 = df.groupby('Season').agg({'Temperature (C)': 'mean', 'Wind Speed (km/h)': 'mean'}).reset_index()\n",
        "\n",
        "print(df2)\n"
      ],
      "metadata": {
        "id": "eHxCXEDDVOuM"
      },
      "execution_count": null,
      "outputs": []
    },
    {
      "cell_type": "markdown",
      "source": [
        "задание 4"
      ],
      "metadata": {
        "id": "BEhQfbYEVxEl"
      }
    },
    {
      "cell_type": "code",
      "source": [
        "import pandas as pd\n",
        "\n",
        "df = pd.read_csv(\"weatherHistory.csv\")\n",
        "\n",
        "df[\"Formatted Date\"] = pd.to_datetime(df[\"Formatted Date\"], utc=True)\n",
        "\n",
        "df[\"Month\"] = df[\"Formatted Date\"].dt.month\n",
        "\n",
        "df['Season'] = df['Month'].apply(lambda x: (\n",
        "    \"зима\" if (x >= 1 and x <= 2) or x == 12 else\n",
        "    \"весна\" if x >= 3 and x <= 5 else\n",
        "    \"лето\" if x >= 6 and x <= 8 else\n",
        "    \"осень\"\n",
        "))\n",
        "\n",
        "winterdata= df[(df['Season'] == 'зима') & (df['Precip Type'] == 'rain')]\n",
        "\n",
        "pudge = winterdata['Humidity'].mean()\n",
        "\n",
        "print(pudge)\n"
      ],
      "metadata": {
        "id": "KJtXwwavVy7U"
      },
      "execution_count": null,
      "outputs": []
    }
  ]
}