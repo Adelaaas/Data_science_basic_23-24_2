{
  "nbformat": 4,
  "nbformat_minor": 0,
  "metadata": {
    "colab": {
      "provenance": []
    },
    "kernelspec": {
      "name": "python3",
      "display_name": "Python 3"
    },
    "language_info": {
      "name": "python"
    }
  },
  "cells": [
    {
      "cell_type": "code",
      "execution_count": 2,
      "metadata": {
        "colab": {
          "base_uri": "https://localhost:8080/"
        },
        "id": "gdb99fQzm_2H",
        "outputId": "4811cc54-b269-4775-f9f6-55a98adcfcab"
      },
      "outputs": [
        {
          "output_type": "stream",
          "name": "stdout",
          "text": [
            "[[1. 1. 1. 1. 1. 1. 1. 1. 1. 1.]\n",
            " [1. 0. 0. 0. 0. 0. 0. 0. 0. 1.]\n",
            " [1. 0. 0. 0. 0. 0. 0. 0. 0. 1.]\n",
            " [1. 0. 0. 0. 0. 0. 0. 0. 0. 1.]\n",
            " [1. 0. 0. 0. 0. 0. 0. 0. 0. 1.]\n",
            " [1. 0. 0. 0. 0. 0. 0. 0. 0. 1.]\n",
            " [1. 0. 0. 0. 0. 0. 0. 0. 0. 1.]\n",
            " [1. 0. 0. 0. 0. 0. 0. 0. 0. 1.]\n",
            " [1. 0. 0. 0. 0. 0. 0. 0. 0. 1.]\n",
            " [1. 1. 1. 1. 1. 1. 1. 1. 1. 1.]]\n"
          ]
        }
      ],
      "source": [
        "#1\n",
        "import numpy as np\n",
        "\n",
        "m = np.ones((10,10))\n",
        "\n",
        "m[1:-1, 1:-1] = 0\n",
        "print (m)"
      ]
    },
    {
      "cell_type": "code",
      "source": [
        "#2\n",
        "import numpy as np\n",
        "\n",
        "m = np.diag([1,2,3,4],k = 1)\n",
        "print(m)"
      ],
      "metadata": {
        "colab": {
          "base_uri": "https://localhost:8080/"
        },
        "id": "dGSlsmXioUwj",
        "outputId": "dfec657f-9e48-47cd-c439-23b0bab3f8bc"
      },
      "execution_count": 4,
      "outputs": [
        {
          "output_type": "stream",
          "name": "stdout",
          "text": [
            "[[0 1 0 0 0]\n",
            " [0 0 2 0 0]\n",
            " [0 0 0 3 0]\n",
            " [0 0 0 0 4]\n",
            " [0 0 0 0 0]]\n"
          ]
        }
      ]
    },
    {
      "cell_type": "code",
      "source": [
        "#3\n",
        "import numpy as np\n",
        "a = np.array([[1, 2, 3, 4]], int)\n",
        "l = np.logical_and(a > 3, a < 8)\n",
        "a[l] = -a[l]\n",
        "print(a)"
      ],
      "metadata": {
        "colab": {
          "base_uri": "https://localhost:8080/"
        },
        "id": "7eHDC7DZpibK",
        "outputId": "d190e723-3466-4f1b-8cee-58d9e15a3322"
      },
      "execution_count": 6,
      "outputs": [
        {
          "output_type": "stream",
          "name": "stdout",
          "text": [
            "[[ 1  2  3 -4]]\n"
          ]
        }
      ]
    },
    {
      "cell_type": "code",
      "source": [
        "#6\n",
        "import numpy as np\n",
        "m = np.array([6,7,9,1,2,2])\n",
        "print(np.bincount(m).argmax())\n"
      ],
      "metadata": {
        "colab": {
          "base_uri": "https://localhost:8080/"
        },
        "id": "sJcfrw3LwxY4",
        "outputId": "7831c88b-8e0d-47e3-ff7c-8d21167447eb"
      },
      "execution_count": 14,
      "outputs": [
        {
          "output_type": "stream",
          "name": "stdout",
          "text": [
            "2\n"
          ]
        }
      ]
    },
    {
      "cell_type": "code",
      "source": [
        "#7\n",
        "import numpy as np\n",
        "matrix = np.ones((16,16))\n",
        "for i in range(0, 16,4):\n",
        "        print(np.sum(matrix[i:i+4,j:j+4]))"
      ],
      "metadata": {
        "colab": {
          "base_uri": "https://localhost:8080/"
        },
        "id": "N9huWV0HrDbs",
        "outputId": "df9844f5-d6ad-47b7-ab9f-fba4fb635b68"
      },
      "execution_count": 12,
      "outputs": [
        {
          "output_type": "stream",
          "name": "stdout",
          "text": [
            "16.0\n",
            "16.0\n",
            "16.0\n",
            "16.0\n"
          ]
        }
      ]
    }
  ]
}