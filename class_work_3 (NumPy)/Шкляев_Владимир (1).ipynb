{
  "nbformat": 4,
  "nbformat_minor": 0,
  "metadata": {
    "colab": {
      "provenance": []
    },
    "kernelspec": {
      "name": "python3",
      "display_name": "Python 3"
    },
    "language_info": {
      "name": "python"
    }
  },
  "cells": [
    {
      "cell_type": "markdown",
      "source": [
        "Задача 1."
      ],
      "metadata": {
        "id": "SKUTLajVRWsI"
      }
    },
    {
      "cell_type": "code",
      "execution_count": null,
      "metadata": {
        "colab": {
          "base_uri": "https://localhost:8080/"
        },
        "id": "xM5vW9lwlAfK",
        "outputId": "362be2c4-7298-418f-8cc5-d0918a10aa07"
      },
      "outputs": [
        {
          "output_type": "stream",
          "name": "stdout",
          "text": [
            "[[1 1 1 1 1 1 1 1 1 1]\n",
            " [1 0 0 0 0 0 0 0 0 1]\n",
            " [1 0 0 0 0 0 0 0 0 1]\n",
            " [1 0 0 0 0 0 0 0 0 1]\n",
            " [1 0 0 0 0 0 0 0 0 1]\n",
            " [1 0 0 0 0 0 0 0 0 1]\n",
            " [1 0 0 0 0 0 0 0 0 1]\n",
            " [1 0 0 0 0 0 0 0 0 1]\n",
            " [1 0 0 0 0 0 0 0 0 1]\n",
            " [1 1 1 1 1 1 1 1 1 1]]\n"
          ]
        }
      ],
      "source": [
        "import numpy as np\n",
        "\n",
        "s = np.ones((10, 10), int)\n",
        "s[1:9, 1:9] = 0\n",
        "print(s)\n"
      ]
    },
    {
      "cell_type": "markdown",
      "source": [
        "Задача 2."
      ],
      "metadata": {
        "id": "Pjk4oh7zRo_3"
      }
    },
    {
      "cell_type": "code",
      "source": [
        "import numpy as np\n",
        "\n",
        "print(np.diag(np.arange(1, 5), k=1))\n"
      ],
      "metadata": {
        "colab": {
          "base_uri": "https://localhost:8080/"
        },
        "id": "Q2re1HRooKhT",
        "outputId": "b9415450-8e12-4a14-d492-58f52af122db"
      },
      "execution_count": null,
      "outputs": [
        {
          "output_type": "stream",
          "name": "stdout",
          "text": [
            "[[0 1 0 0 0]\n",
            " [0 0 2 0 0]\n",
            " [0 0 0 3 0]\n",
            " [0 0 0 0 4]\n",
            " [0 0 0 0 0]]\n"
          ]
        }
      ]
    },
    {
      "cell_type": "markdown",
      "source": [
        "Задача 3."
      ],
      "metadata": {
        "id": "vzOHFeMaRuyJ"
      }
    },
    {
      "cell_type": "code",
      "source": [
        "import numpy as np\n",
        "\n",
        "s = np.arange(10)\n",
        "s[(s > 2) & (s < 9)] *= -1\n",
        "print(s)\n"
      ],
      "metadata": {
        "id": "8W348SlyzEkd",
        "colab": {
          "base_uri": "https://localhost:8080/"
        },
        "outputId": "90967331-0d6c-4ada-fcef-451d4f29c517"
      },
      "execution_count": 6,
      "outputs": [
        {
          "output_type": "stream",
          "name": "stdout",
          "text": [
            "[ 0  1  2 -3 -4 -5 -6 -7 -8  9]\n"
          ]
        }
      ]
    },
    {
      "cell_type": "markdown",
      "source": [
        "Задача 5."
      ],
      "metadata": {
        "id": "oGYyGim6SmOw"
      }
    },
    {
      "cell_type": "code",
      "source": [
        "import numpy as np\n",
        "\n",
        "s = np.array([[1, 2, 3], [4, 5, 6], [7, 8, 9]])\n",
        "s[1] = np.array([0, 0, 0])\n",
        "print(s)"
      ],
      "metadata": {
        "id": "K2FbthRquvZW",
        "colab": {
          "base_uri": "https://localhost:8080/"
        },
        "outputId": "f3a14dce-5373-48a2-d61e-91e4a8f98cab"
      },
      "execution_count": 10,
      "outputs": [
        {
          "output_type": "stream",
          "name": "stdout",
          "text": [
            "[[1 2 3]\n",
            " [0 0 0]\n",
            " [7 8 9]]\n"
          ]
        }
      ]
    }
  ]
}