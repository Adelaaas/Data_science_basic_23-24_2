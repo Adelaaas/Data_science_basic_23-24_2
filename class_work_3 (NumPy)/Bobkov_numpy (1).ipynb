{
  "nbformat": 4,
  "nbformat_minor": 0,
  "metadata": {
    "colab": {
      "provenance": []
    },
    "kernelspec": {
      "name": "python3",
      "display_name": "Python 3"
    },
    "language_info": {
      "name": "python"
    }
  },
  "cells": [
    {
      "cell_type": "markdown",
      "source": [
        "Задача 1.\n",
        "\n",
        "Создать матрицу размером 10х10 с 0 внутри, и 1 на границах. Например для 3х3."
      ],
      "metadata": {
        "id": "sxXOXDV3mJ_k"
      }
    },
    {
      "cell_type": "code",
      "execution_count": null,
      "metadata": {
        "id": "RZj6hcXmmIOp"
      },
      "outputs": [],
      "source": [
        "import numpy as np\n",
        "\n",
        "mat = np.zeros((10, 10), int)\n",
        "mat[1:-1, 1:-1] = 1\n",
        "\n",
        "print(mat)"
      ]
    },
    {
      "cell_type": "markdown",
      "source": [
        "Задача 2.\n",
        "\n",
        "Создать 5x5 матрицу с 1,2,3,4 над диагональю. Все остальные элементы - 0.\n"
      ],
      "metadata": {
        "id": "r-px1yWIsbtW"
      }
    },
    {
      "cell_type": "code",
      "source": [
        "import numpy as np\n",
        "print(np.diag(np.arange(1, 5), k = 1))"
      ],
      "metadata": {
        "id": "if11MTFMsdJt"
      },
      "execution_count": null,
      "outputs": []
    },
    {
      "cell_type": "markdown",
      "source": [],
      "metadata": {
        "id": "cQOGLpaeuRoe"
      }
    },
    {
      "cell_type": "markdown",
      "source": [
        "Задача 6.\n",
        "\n",
        "Дан одномерный массив. Найти наиболее частое значение в массиве."
      ],
      "metadata": {
        "id": "i-3ihQl4uw1e"
      }
    },
    {
      "cell_type": "code",
      "source": [
        "import numpy as np\n",
        "v = np.array([1, 2, 3, 4, 6, 1, 9, 2, 8, 9, 0, 9])\n",
        "\n",
        "maxx = np.bincount(v).argmax()\n",
        "# bincount - получение вхождения каждого элемента\n",
        "# argmax - максимальный элемент массива\n",
        "print(maxx)"
      ],
      "metadata": {
        "id": "3qTiHcWbuxku"
      },
      "execution_count": null,
      "outputs": []
    },
    {
      "cell_type": "markdown",
      "source": [
        "Задача 3.\n",
        "\n",
        "Дан массив, поменять знак у элементов, значения которых между 3 и 8."
      ],
      "metadata": {
        "id": "dYcFiRInx-hR"
      }
    },
    {
      "cell_type": "code",
      "source": [
        "import numpy as np\n",
        "\n",
        "v = np.array([1, 4, 5, 3, 9, 6, 7, 2, 8, 10 ])\n",
        "\n",
        "v[(v >= 3) & (v <= 8)] *= -1\n",
        "\n",
        "print(v)"
      ],
      "metadata": {
        "id": "LyhqoCOuyATy"
      },
      "execution_count": null,
      "outputs": []
    },
    {
      "cell_type": "markdown",
      "source": [
        "Задача 7.\n",
        "\n",
        "Дан массив 16x16, посчитать сумму по блокам 4x4."
      ],
      "metadata": {
        "id": "GLkT25p-yYcY"
      }
    },
    {
      "cell_type": "code",
      "source": [
        "import numpy as np\n",
        "import random\n",
        "\n",
        "v = np.random.randint(1, 10, size=(16, 16))\n",
        "\n",
        "summ = v.reshape(4, 4, 4, 4).sum(axis=(2,3))\n",
        "\n",
        "print(summ)"
      ],
      "metadata": {
        "id": "1Dffr3GozYV6"
      },
      "execution_count": null,
      "outputs": []
    },
    {
      "cell_type": "markdown",
      "source": [],
      "metadata": {
        "id": "a5sxt-ydxetu"
      }
    }
  ]
}