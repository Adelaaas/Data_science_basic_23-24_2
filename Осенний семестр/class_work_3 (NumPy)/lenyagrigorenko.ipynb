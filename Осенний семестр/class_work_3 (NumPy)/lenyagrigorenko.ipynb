{
  "nbformat": 4,
  "nbformat_minor": 0,
  "metadata": {
    "colab": {
      "provenance": []
    },
    "kernelspec": {
      "name": "python3",
      "display_name": "Python 3"
    },
    "language_info": {
      "name": "python"
    }
  },
  "cells": [
    {
      "cell_type": "markdown",
      "source": [
        "Задача 1.\n",
        "\n",
        "Создать матрицу размером 10х10 с 0 внутри, и 1 на границах. Например для 3х3."
      ],
      "metadata": {
        "id": "nIPg-F5bkNTz"
      }
    },
    {
      "cell_type": "code",
      "execution_count": 5,
      "metadata": {
        "colab": {
          "base_uri": "https://localhost:8080/"
        },
        "id": "k6EYzwxYkGr-",
        "outputId": "98d0a4da-5967-4f78-9e3e-59331655cc9d"
      },
      "outputs": [
        {
          "output_type": "stream",
          "name": "stdout",
          "text": [
            "[[1 1 1 1 1 1 1 1 1 1]\n",
            " [1 0 0 0 0 0 0 0 0 1]\n",
            " [1 0 0 0 0 0 0 0 0 1]\n",
            " [1 0 0 0 0 0 0 0 0 1]\n",
            " [1 0 0 0 0 0 0 0 0 1]\n",
            " [1 0 0 0 0 0 0 0 0 1]\n",
            " [1 0 0 0 0 0 0 0 0 1]\n",
            " [1 0 0 0 0 0 0 0 0 1]\n",
            " [1 0 0 0 0 0 0 0 0 1]\n",
            " [1 1 1 1 1 1 1 1 1 1]]\n"
          ]
        }
      ],
      "source": [
        "import numpy as np\n",
        "matrix = np.ones((10,10), int)\n",
        "matrix[1:9,1:9] = 0\n",
        "print(matrix)"
      ]
    },
    {
      "cell_type": "markdown",
      "source": [
        "\n",
        "\n",
        "Задача 2.\n",
        "\n",
        "Создать 5x5 матрицу с 1,2,3,4 над диагональю. Все остальные элементы - 0.\n",
        "\n",
        "Количество строк кода идеального решения: 1\n",
        "Кроме print()\n"
      ],
      "metadata": {
        "id": "eACZSHi1kW-u"
      }
    },
    {
      "cell_type": "code",
      "source": [
        "import numpy as np\n",
        "print(np.diag(np.arange(1, 5), k=1))"
      ],
      "metadata": {
        "colab": {
          "base_uri": "https://localhost:8080/"
        },
        "id": "hheoaU0YmEXA",
        "outputId": "1fa45410-c588-476b-cccf-b38ed69445c4"
      },
      "execution_count": 3,
      "outputs": [
        {
          "output_type": "stream",
          "name": "stdout",
          "text": [
            "[[0 1 0 0 0]\n",
            " [0 0 2 0 0]\n",
            " [0 0 0 3 0]\n",
            " [0 0 0 0 4]\n",
            " [0 0 0 0 0]]\n"
          ]
        }
      ]
    },
    {
      "cell_type": "markdown",
      "source": [
        "\n",
        "\n",
        "Задача 3.\n",
        "\n",
        "Дан массив, поменять знак у элементов, значения которых между 3 и 8.\n"
      ],
      "metadata": {
        "id": "l9FF4c1skVYA"
      }
    },
    {
      "cell_type": "code",
      "source": [
        "import numpy as np\n",
        "matrix = np.full((10, 10), 5)\n",
        "matrix[(matrix > 3) & (matrix < 8)] *= -1\n",
        "print(matrix)"
      ],
      "metadata": {
        "colab": {
          "base_uri": "https://localhost:8080/"
        },
        "id": "ZyL7zbubpjRo",
        "outputId": "e97b67b6-33a1-48d0-ee3d-08de29f963b9"
      },
      "execution_count": 4,
      "outputs": [
        {
          "output_type": "stream",
          "name": "stdout",
          "text": [
            "[[-5 -5 -5 -5 -5 -5 -5 -5 -5 -5]\n",
            " [-5 -5 -5 -5 -5 -5 -5 -5 -5 -5]\n",
            " [-5 -5 -5 -5 -5 -5 -5 -5 -5 -5]\n",
            " [-5 -5 -5 -5 -5 -5 -5 -5 -5 -5]\n",
            " [-5 -5 -5 -5 -5 -5 -5 -5 -5 -5]\n",
            " [-5 -5 -5 -5 -5 -5 -5 -5 -5 -5]\n",
            " [-5 -5 -5 -5 -5 -5 -5 -5 -5 -5]\n",
            " [-5 -5 -5 -5 -5 -5 -5 -5 -5 -5]\n",
            " [-5 -5 -5 -5 -5 -5 -5 -5 -5 -5]\n",
            " [-5 -5 -5 -5 -5 -5 -5 -5 -5 -5]]\n"
          ]
        }
      ]
    },
    {
      "cell_type": "markdown",
      "source": [
        "Задача 5.\n",
        "\n",
        "Дана матрица MxN. Поменять 2 любые строки в матрице"
      ],
      "metadata": {
        "id": "HPwMNbf-rkr0"
      }
    },
    {
      "cell_type": "code",
      "source": [
        "import numpy as np\n",
        "matrix = np.array([[1, 2, 3], [4, 5, 6], [7, 8, 9]], int)\n",
        "pudge = matrix[1].copy()\n",
        "matrix[1] = matrix[2]\n",
        "matrix[2] = pudge\n",
        "print(matrix)"
      ],
      "metadata": {
        "colab": {
          "base_uri": "https://localhost:8080/"
        },
        "id": "-WEJPy8az-gQ",
        "outputId": "69b723db-1e9b-4d2e-d4a7-11f3cade4e82"
      },
      "execution_count": 7,
      "outputs": [
        {
          "output_type": "stream",
          "name": "stdout",
          "text": [
            "[[1 2 3]\n",
            " [7 8 9]\n",
            " [4 5 6]]\n"
          ]
        }
      ]
    },
    {
      "cell_type": "markdown",
      "source": [
        "\n",
        "\n",
        "Задача 7.\n",
        "\n",
        "Дан массив 16x16, посчитать сумму по блокам 4x4.\n"
      ],
      "metadata": {
        "id": "NJIIVfsv0mfx"
      }
    },
    {
      "cell_type": "code",
      "source": [
        "import numpy as np\n",
        "matrix = np.ones((16,16), int)\n",
        "pudge = matrix.reshape(4, 4, 4, 4).sum(axis=(2,3))\n",
        "print(pudge)"
      ],
      "metadata": {
        "colab": {
          "base_uri": "https://localhost:8080/"
        },
        "id": "FsGIM_L50o2v",
        "outputId": "f79e8dd2-8d6f-445d-dd6c-f72e0ffb0b57"
      },
      "execution_count": 6,
      "outputs": [
        {
          "output_type": "stream",
          "name": "stdout",
          "text": [
            "[[16 16 16 16]\n",
            " [16 16 16 16]\n",
            " [16 16 16 16]\n",
            " [16 16 16 16]]\n"
          ]
        }
      ]
    }
  ]
}