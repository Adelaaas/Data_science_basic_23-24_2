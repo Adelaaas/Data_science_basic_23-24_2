{
  "nbformat": 4,
  "nbformat_minor": 0,
  "metadata": {
    "colab": {
      "provenance": []
    },
    "kernelspec": {
      "name": "python3",
      "display_name": "Python 3"
    },
    "language_info": {
      "name": "python"
    }
  },
  "cells": [
    {
      "cell_type": "code",
      "execution_count": 1,
      "metadata": {
        "colab": {
          "base_uri": "https://localhost:8080/"
        },
        "id": "R0hPhAvinIHh",
        "outputId": "062445c3-72fb-4eea-edfb-ba55bec7c05e"
      },
      "outputs": [
        {
          "output_type": "stream",
          "name": "stdout",
          "text": [
            "[[1. 1. 1. 1. 1. 1. 1. 1. 1. 1.]\n",
            " [1. 0. 0. 0. 0. 0. 0. 0. 0. 1.]\n",
            " [1. 0. 0. 0. 0. 0. 0. 0. 0. 1.]\n",
            " [1. 0. 0. 0. 0. 0. 0. 0. 0. 1.]\n",
            " [1. 0. 0. 0. 0. 0. 0. 0. 0. 1.]\n",
            " [1. 0. 0. 0. 0. 0. 0. 0. 0. 1.]\n",
            " [1. 0. 0. 0. 0. 0. 0. 0. 0. 1.]\n",
            " [1. 0. 0. 0. 0. 0. 0. 0. 0. 1.]\n",
            " [1. 0. 0. 0. 0. 0. 0. 0. 0. 1.]\n",
            " [1. 1. 1. 1. 1. 1. 1. 1. 1. 1.]]\n"
          ]
        }
      ],
      "source": [
        "[1]\n",
        "import numpy as np\n",
        "matrix = np.ones((10, 10))\n",
        "matrix[1:-1, 1:-1] = 0\n",
        "print(matrix)"
      ]
    },
    {
      "cell_type": "code",
      "source": [
        "[2]\n",
        "import numpy as np\n",
        "diagonal = np.arange(1, 5)\n",
        "matrix = np.diag(diagonal, 1)\n",
        "print(matrix)"
      ],
      "metadata": {
        "colab": {
          "base_uri": "https://localhost:8080/"
        },
        "id": "ThqYBlfawijM",
        "outputId": "edfffdda-c537-4316-aa3e-23399e82c0f0"
      },
      "execution_count": 8,
      "outputs": [
        {
          "output_type": "stream",
          "name": "stdout",
          "text": [
            "[[0 1 0 0 0]\n",
            " [0 0 2 0 0]\n",
            " [0 0 0 3 0]\n",
            " [0 0 0 0 4]\n",
            " [0 0 0 0 0]]\n"
          ]
        }
      ]
    },
    {
      "cell_type": "code",
      "source": [
        "[3]\n",
        "a = np.array([1, 6, 8, 5, 8, 4, 8])\n",
        "mask = (a > 3) & (a < 8)\n",
        "a[mask] = -a[mask]\n",
        "print(a)\n"
      ],
      "metadata": {
        "colab": {
          "base_uri": "https://localhost:8080/"
        },
        "id": "8j5Uv6Q7wqWN",
        "outputId": "fb3ed625-38e4-4fe3-bdca-60c4b484bede"
      },
      "execution_count": 3,
      "outputs": [
        {
          "output_type": "stream",
          "name": "stdout",
          "text": [
            "[ 1 -6  8 -5  8 -4  8]\n"
          ]
        }
      ]
    },
    {
      "cell_type": "code",
      "source": [
        "[6]\n",
        "\n",
        "a = np.array([1, 2, 2, 2, 3, 3, 3, 3, 3])\n",
        "maxx = np.bincount(a)\n",
        "val = np.argmax(maxx)\n",
        "print(val)\n"
      ],
      "metadata": {
        "colab": {
          "base_uri": "https://localhost:8080/"
        },
        "id": "-9Hlc32Ew1BK",
        "outputId": "d9da1bbf-aea2-4724-c553-f7a72cfb82bb"
      },
      "execution_count": 4,
      "outputs": [
        {
          "output_type": "stream",
          "name": "stdout",
          "text": [
            "3\n"
          ]
        }
      ]
    },
    {
      "cell_type": "code",
      "source": [
        "1 3 5"
      ],
      "metadata": {
        "id": "sdldexYzzHCH"
      },
      "execution_count": null,
      "outputs": []
    },
    {
      "cell_type": "code",
      "source": [
        "[12]\n",
        "\n",
        "x = np.array([6, 2, 0, 3, 0, 0, 5, 7, 0])\n",
        "maxx = 0\n",
        "for i in range (len(x) - 1):\n",
        "    if x[i] == 0 and maxx < x[i + 1]:\n",
        "        maxx = x[i + 1]\n",
        "print(maxx)\n"
      ],
      "metadata": {
        "colab": {
          "base_uri": "https://localhost:8080/"
        },
        "id": "snKvdOR3w5OR",
        "outputId": "1ad500e3-1542-43f9-bd94-99864a8868f1"
      },
      "execution_count": 5,
      "outputs": [
        {
          "output_type": "stream",
          "name": "stdout",
          "text": [
            "5\n"
          ]
        }
      ]
    }
  ]
}