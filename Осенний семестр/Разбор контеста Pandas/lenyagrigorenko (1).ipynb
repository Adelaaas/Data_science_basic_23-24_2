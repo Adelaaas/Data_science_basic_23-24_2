{
  "nbformat": 4,
  "nbformat_minor": 0,
  "metadata": {
    "colab": {
      "provenance": []
    },
    "kernelspec": {
      "name": "python3",
      "display_name": "Python 3"
    },
    "language_info": {
      "name": "python"
    }
  },
  "cells": [
    {
      "cell_type": "markdown",
      "source": [
        "первая задача"
      ],
      "metadata": {
        "id": "8W8YUvaEDU52"
      }
    },
    {
      "cell_type": "code",
      "source": [
        "import pandas as pd\n",
        "\n",
        "df = pd.read_csv(\"input.csv\", sep=',')\n",
        "\n",
        "student = df[df['Статус'] == 'СТ']\n",
        "xw = set(student['STD_ID'])\n",
        "print(len(xw))\n",
        "\n",
        "nestudent = df[df['Статус'] == 'ВЫП']\n",
        "cw = set(nestudent['STD_ID'])\n",
        "print(len(cw))\n",
        "\n",
        "mans = df[(df['Пол'] == 'М') & (df['Статус'] == 'СТ')]\n",
        "qwe = mans['направление (специальность)'].value_counts()\n",
        "print(qwe.idxmax())\n",
        "\n",
        "womans = df[(df['Пол'] == 'Ж') & (df['Статус'] == 'СТ')]\n",
        "qwerty = womans['направление (специальность)'].value_counts()\n",
        "print(qwerty.idxmin())\n",
        "\n",
        "nes = df[df['Пол'].isnull() & df['Статус'].isnull() & df['Дата выпуска'].isnull() & df['Категория обучения'].isnull()]\n",
        "qwp = list(nes['STD_ID'])\n",
        "print(qwp[0])\n",
        "\n",
        "print(len(set(df['направление (специальность)'])) - 1)\n",
        "\n",
        "qwertyu = nestudent['Пол'].value_counts()\n",
        "print(qwertyu.idxmax())"
      ],
      "metadata": {
        "id": "_YeQBlQtDWky"
      },
      "execution_count": null,
      "outputs": []
    },
    {
      "cell_type": "markdown",
      "source": [
        "вторая задача"
      ],
      "metadata": {
        "id": "rZWycvtGDa1o"
      }
    },
    {
      "cell_type": "code",
      "source": [
        "import pandas as pd\n",
        "\n",
        "df = pd.read_csv(\"input.csv\", sep=',')\n",
        "\n",
        "student = df[(df['STD_ID'] == 99125) & (df['АТТЕСТАЦИЯ'] == 'Экзамен')]\n",
        "\n",
        "print(len(student))\n",
        "\n",
        "x = student['mark'].mean()\n",
        "\n",
        "print(round(x, 2))\n"
      ],
      "metadata": {
        "id": "KVsH5U3iDcdQ"
      },
      "execution_count": null,
      "outputs": []
    },
    {
      "cell_type": "markdown",
      "source": [
        "задача 3"
      ],
      "metadata": {
        "id": "3cHiAtz9Dfae"
      }
    },
    {
      "cell_type": "code",
      "source": [
        "import pandas as pd\n",
        "\n",
        "df = pd.read_csv('input.csv')\n",
        "\n",
        "comp = df[df['ДИСЦИПЛИНА'] == 'Компьютерные технологии в дизайне']\n",
        "\n",
        "df2 = comp.groupby(['ГОД', 'ДИСЦИПЛИНА']).agg({'mark': 'mean'}).reset_index()\n",
        "\n",
        "df2.to_csv('output.csv', index=False)\n"
      ],
      "metadata": {
        "id": "W9TyiAzqDg9D"
      },
      "execution_count": null,
      "outputs": []
    }
  ]
}