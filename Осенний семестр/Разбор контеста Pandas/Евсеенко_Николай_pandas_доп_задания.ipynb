{
  "nbformat": 4,
  "nbformat_minor": 0,
  "metadata": {
    "colab": {
      "provenance": []
    },
    "kernelspec": {
      "name": "python3",
      "display_name": "Python 3"
    },
    "language_info": {
      "name": "python"
    }
  },
  "cells": [
    {
      "cell_type": "code",
      "execution_count": null,
      "metadata": {
        "id": "0k0BGYOygPHX"
      },
      "outputs": [],
      "source": []
    },
    {
      "cell_type": "markdown",
      "source": [
        "задача 1"
      ],
      "metadata": {
        "id": "lRYPsCnVmJOK"
      }
    },
    {
      "cell_type": "code",
      "source": [
        "import pandas as pd\n",
        "df = pd.read_csv('/weatherHistory.csv')\n",
        "max=df['Temperature (C)'].max()\n",
        "print(max)"
      ],
      "metadata": {
        "colab": {
          "base_uri": "https://localhost:8080/"
        },
        "id": "OmodBOQcgh4q",
        "outputId": "3079372a-df47-49ae-a41f-cbfcee1e991e"
      },
      "execution_count": 81,
      "outputs": [
        {
          "output_type": "stream",
          "name": "stdout",
          "text": [
            "39.90555555555555\n"
          ]
        }
      ]
    },
    {
      "cell_type": "code",
      "source": [
        "s = df[df['Precip Type'] == \"rain\"]\n",
        "num_rows = s.shape[0]\n",
        "print(num_rows)\n",
        "#дождливая погода"
      ],
      "metadata": {
        "colab": {
          "base_uri": "https://localhost:8080/"
        },
        "id": "_rm5gMXclUSL",
        "outputId": "1efe636a-9845-40d0-c4ba-b4e5414d6358"
      },
      "execution_count": 80,
      "outputs": [
        {
          "output_type": "stream",
          "name": "stdout",
          "text": [
            "85224\n"
          ]
        }
      ]
    },
    {
      "cell_type": "code",
      "source": [
        "s = df[df['Precip Type'] == \"snow\"]\n",
        "num_rows = s.shape[0]\n",
        "print(num_rows)\n",
        "#снежная погода"
      ],
      "metadata": {
        "colab": {
          "base_uri": "https://localhost:8080/"
        },
        "id": "scQDZC5pmPwO",
        "outputId": "bd001261-d035-4385-d130-5aed88e81f1f"
      },
      "execution_count": 113,
      "outputs": [
        {
          "output_type": "stream",
          "name": "stdout",
          "text": [
            "10712\n"
          ]
        }
      ]
    },
    {
      "cell_type": "code",
      "source": [
        "s = df[df['Precip Type'] == \"rain\"]\n",
        "a=s['Temperature (C)'].mean()\n",
        "print(a)"
      ],
      "metadata": {
        "colab": {
          "base_uri": "https://localhost:8080/"
        },
        "outputId": "8ef7d4ea-1476-44a2-9ff4-88242377ade1",
        "id": "Mh3L0SWnmuAi"
      },
      "execution_count": 87,
      "outputs": [
        {
          "output_type": "stream",
          "name": "stdout",
          "text": [
            "13.85298931182661\n"
          ]
        }
      ]
    },
    {
      "cell_type": "code",
      "source": [
        "s = df[df['Precip Type'] == \"snow\"]\n",
        "a=s['Temperature (C)'].mean()\n",
        "print(a)"
      ],
      "metadata": {
        "colab": {
          "base_uri": "https://localhost:8080/"
        },
        "id": "oERCHe7roCSX",
        "outputId": "b41fa63b-4528-495e-c376-eec1ad92cae2"
      },
      "execution_count": 84,
      "outputs": [
        {
          "output_type": "stream",
          "name": "stdout",
          "text": [
            "-3.2708846776201144\n"
          ]
        }
      ]
    },
    {
      "cell_type": "code",
      "source": [
        "s =df[df['Temperature (C)']>0]\n",
        "print(s.shape[0])"
      ],
      "metadata": {
        "colab": {
          "base_uri": "https://localhost:8080/"
        },
        "id": "WDhlsQoip9Fo",
        "outputId": "31c08214-664d-46bc-9251-7ef9b35b4652"
      },
      "execution_count": 75,
      "outputs": [
        {
          "output_type": "stream",
          "name": "stdout",
          "text": [
            "85741\n"
          ]
        }
      ]
    },
    {
      "cell_type": "markdown",
      "source": [
        "2 задание"
      ],
      "metadata": {
        "id": "ysNT74u_rqkh"
      }
    },
    {
      "cell_type": "code",
      "source": [
        "df[\"Formatted Date\"] = pd.to_datetime(df[\"Formatted Date\"], utc=True)\n",
        "from datetime import date\n",
        "x=date(2016, 9, 9)\n",
        "s=df[df[\"Formatted Date\"].dt.date==x]\n",
        "a=s['Temperature (C)'].mean()\n",
        "print(a)\n"
      ],
      "metadata": {
        "colab": {
          "base_uri": "https://localhost:8080/"
        },
        "id": "g7Hd9K4prr-u",
        "outputId": "18a08941-dc78-40b9-b15c-e6cb636ea7b8"
      },
      "execution_count": 89,
      "outputs": [
        {
          "output_type": "stream",
          "name": "stdout",
          "text": [
            "22.730092592592587\n"
          ]
        }
      ]
    },
    {
      "cell_type": "markdown",
      "source": [
        "3 задание"
      ],
      "metadata": {
        "id": "yrdAPpcbxRTn"
      }
    },
    {
      "cell_type": "code",
      "source": [
        "df[\"Month\"] =df[\"Formatted Date\"].dt.month\n",
        "df[\"Season\"]=df[\"Month\"]\n",
        "s = df[df['Season'] >= 6]\n",
        "s = s[s['Season'] < 9]\n",
        "a=s['Temperature (C)'].mean()\n",
        "print(a)\n",
        "a=s['Wind Speed (km/h)'].mean()\n",
        "print(a)\n",
        "#лето"
      ],
      "metadata": {
        "colab": {
          "base_uri": "https://localhost:8080/"
        },
        "id": "Ar207j4txVkz",
        "outputId": "47a2d503-e56b-4a36-fceb-c5d8e64d8553"
      },
      "execution_count": 119,
      "outputs": [
        {
          "output_type": "stream",
          "name": "stdout",
          "text": [
            "22.025169918777223\n",
            "9.401130359126249\n"
          ]
        }
      ]
    },
    {
      "cell_type": "code",
      "source": [
        "df[\"Month\"] =df[\"Formatted Date\"].dt.month\n",
        "df[\"Season\"]=df[\"Month\"]\n",
        "s = df[df['Season'] >= 9]\n",
        "s = s[s['Season'] < 12]\n",
        "a=s['Temperature (C)'].mean()\n",
        "print(a)\n",
        "a=s['Wind Speed (km/h)'].mean()\n",
        "print(a)\n",
        "#осень"
      ],
      "metadata": {
        "colab": {
          "base_uri": "https://localhost:8080/"
        },
        "id": "4uXKFrYj4rlY",
        "outputId": "56683b7a-cd22-4891-88da-a7171a345338"
      },
      "execution_count": 120,
      "outputs": [
        {
          "output_type": "stream",
          "name": "stdout",
          "text": [
            "11.803163734413733\n",
            "10.18690171911422\n"
          ]
        }
      ]
    },
    {
      "cell_type": "code",
      "source": [
        "df[\"Month\"] =df[\"Formatted Date\"].dt.month\n",
        "df[\"Season\"]=df[\"Month\"]\n",
        "s = df[(df['Season'] <=2) | (df['Season']==12)]\n",
        "a=s['Temperature (C)'].mean()\n",
        "print(a)\n",
        "a=s['Wind Speed (km/h)'].mean()\n",
        "print(a)\n",
        "#зима"
      ],
      "metadata": {
        "colab": {
          "base_uri": "https://localhost:8080/"
        },
        "id": "N1pij0eF4yhQ",
        "outputId": "d8d91cef-64f0-4d48-958c-633b2ab5477b"
      },
      "execution_count": 148,
      "outputs": [
        {
          "output_type": "stream",
          "name": "stdout",
          "text": [
            "1.5168177240684795\n",
            "11.57945075528701\n"
          ]
        }
      ]
    },
    {
      "cell_type": "code",
      "source": [
        "df[\"Month\"] =df[\"Formatted Date\"].dt.month\n",
        "df[\"Season\"]=df[\"Month\"]\n",
        "s = df[df['Season'] >= 3]\n",
        "s = s[s['Season'] < 6]\n",
        "a=s['Temperature (C)'].mean()\n",
        "print(a)\n",
        "a=s['Wind Speed (km/h)'].mean()\n",
        "print(a)\n",
        "#весна"
      ],
      "metadata": {
        "colab": {
          "base_uri": "https://localhost:8080/"
        },
        "id": "VcQZ2htO9Ik1",
        "outputId": "fe3d60db-bdf9-4cc7-f03d-1a9b56e74c7e"
      },
      "execution_count": 149,
      "outputs": [
        {
          "output_type": "stream",
          "name": "stdout",
          "text": [
            "12.17987369162641\n",
            "12.083950852272727\n"
          ]
        }
      ]
    }
  ]
}