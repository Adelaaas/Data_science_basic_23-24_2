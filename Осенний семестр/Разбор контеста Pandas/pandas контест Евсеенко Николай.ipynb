{
  "nbformat": 4,
  "nbformat_minor": 0,
  "metadata": {
    "colab": {
      "provenance": []
    },
    "kernelspec": {
      "name": "python3",
      "display_name": "Python 3"
    },
    "language_info": {
      "name": "python"
    }
  },
  "cells": [
    {
      "cell_type": "code",
      "source": [
        "1 задача"
      ],
      "metadata": {
        "id": "EYfU8QRKzZNy"
      },
      "execution_count": null,
      "outputs": []
    },
    {
      "cell_type": "code",
      "source": [
        "import pandas as pd\n",
        "df = pd.read_csv(\"/input (2).csv\", sep=',')\n",
        "s = df[df['Статус'] == \"СТ\"]\n",
        "d=s['STD_ID'].unique()\n",
        "num_rows = d.shape[0]\n",
        "print(num_rows)\n",
        "\n",
        "\n",
        "\n",
        "s=df[df['Статус'] == \"ВЫП\"]\n",
        "d=s['STD_ID'].unique()\n",
        "num_rows = d.shape[0]\n",
        "print(num_rows)\n",
        "\n",
        "\n",
        "\n",
        "s=df[df['Пол'] == \"М\"]\n",
        "a=s['направление (специальность)'].mode()\n",
        "print(a[0])\n",
        "\n",
        "\n",
        "df3 = df[df['Пол'] == 'Ж']\n",
        "ss1 = df3['направление (специальность)'].value_counts()\n",
        "print(ss1.idxmin())\n",
        "\n",
        "\n",
        "df4 = df.copy()\n",
        "q= df4[(df4['Шифр'].isna() == True) & (df4['Образование'].isna() == True)]\n",
        "print(q['STD_ID'].values[0])\n",
        "\n",
        "\n",
        "qq = df.nunique()\n",
        "print(qq['направление (специальность)'])\n",
        "\n",
        "\n",
        "s=df[df['Пол'] == \"Ж\"]\n",
        "d=s['STD_ID'].unique()\n",
        "num_rows1 = d.shape[0]\n",
        "s=df[df['Пол'] == \"М\"]\n",
        "d=s['STD_ID'].unique()\n",
        "num_rows2 = d.shape[0]\n",
        "if(num_rows1 > num_rows2):\n",
        "  print(\"Ж\")\n",
        "if(num_rows2 > num_rows1):\n",
        "  print(\"М\")"
      ],
      "metadata": {
        "colab": {
          "base_uri": "https://localhost:8080/"
        },
        "id": "KWAYj8GXyU96",
        "outputId": "8f12d34f-d141-403c-8f6d-c7c97549bf97"
      },
      "execution_count": 16,
      "outputs": [
        {
          "output_type": "stream",
          "name": "stdout",
          "text": [
            "4648\n",
            "455\n",
            "Лечебное дело\n",
            "Эксплуатация транспортно-технологических машин и комплексов\n",
            "92222\n",
            "44\n",
            "Ж\n"
          ]
        }
      ]
    },
    {
      "cell_type": "markdown",
      "source": [
        "2 задача"
      ],
      "metadata": {
        "id": "VTNGBDC5zU1h"
      }
    },
    {
      "cell_type": "code",
      "source": [
        "import pandas as pd\n",
        "df = pd.read_csv(\"/input (5).csv\", sep=',')\n",
        "k= df[df['STD_ID'] == 99125]\n",
        "z = k[k['АТТЕСТАЦИЯ'] == 'Экзамен']\n",
        "print(len(z))\n",
        "\n",
        "\n",
        "print(round(z['mark'].mean(), 2))"
      ],
      "metadata": {
        "colab": {
          "base_uri": "https://localhost:8080/"
        },
        "id": "E2OOawPQzOc1",
        "outputId": "3f2b84fc-ee15-4701-db92-de27dceedcef"
      },
      "execution_count": 14,
      "outputs": [
        {
          "output_type": "stream",
          "name": "stdout",
          "text": [
            "30\n",
            "4.43\n"
          ]
        }
      ]
    },
    {
      "cell_type": "markdown",
      "source": [
        "3 задача"
      ],
      "metadata": {
        "id": "FMkA0WK-zTCI"
      }
    },
    {
      "cell_type": "code",
      "source": [
        "import pandas as pd\n",
        "df = pd.read_csv('/input (4).csv')\n",
        "filtered = df[df['ДИСЦИПЛИНА'] == 'Компьютерные технологии в дизайне']\n",
        "grouped = filtered.groupby(['ГОД','ДИСЦИПЛИНА']).agg({'mark':'mean'}).reset_index()\n",
        "output = grouped[['ГОД', 'ДИСЦИПЛИНА', 'mark']]\n",
        "output.to_csv('output.csv', index=False)"
      ],
      "metadata": {
        "id": "yIwphokgzgCe"
      },
      "execution_count": 15,
      "outputs": []
    }
  ]
}