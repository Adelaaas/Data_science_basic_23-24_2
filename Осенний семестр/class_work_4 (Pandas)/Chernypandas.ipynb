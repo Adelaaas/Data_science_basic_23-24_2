{
  "nbformat": 4,
  "nbformat_minor": 0,
  "metadata": {
    "colab": {
      "provenance": []
    },
    "kernelspec": {
      "name": "python3",
      "display_name": "Python 3"
    },
    "language_info": {
      "name": "python"
    }
  },
  "cells": [
    {
      "cell_type": "markdown",
      "source": [
        "задача 1"
      ],
      "metadata": {
        "id": "vEmvj4v2snUs"
      }
    },
    {
      "cell_type": "code",
      "source": [
        "import numpy as np\n",
        "import pandas as pd\n",
        "\n",
        "r = np.random.RandomState(1)\n",
        "s = pd.Series(r.uniform(0, 10, 100))\n",
        "s2 = s[s > 5]\n",
        "s3 = s2.sort_values()\n",
        "print(s3.idxmin())"
      ],
      "metadata": {
        "colab": {
          "base_uri": "https://localhost:8080/"
        },
        "id": "xAjt7XeTsqS_",
        "outputId": "730a27ab-faf7-4fc5-b8c0-03e022ebab46"
      },
      "execution_count": null,
      "outputs": [
        {
          "output_type": "stream",
          "name": "stdout",
          "text": [
            "67\n"
          ]
        }
      ]
    },
    {
      "cell_type": "markdown",
      "source": [
        "задача 2"
      ],
      "metadata": {
        "id": "zdoZDhUFygTB"
      }
    },
    {
      "cell_type": "code",
      "source": [
        "import numpy as np\n",
        "import pandas as pd\n",
        "\n",
        "df = pd.DataFrame({\n",
        "    'имя': ['Петя', 'Вася', 'Аня', 'Света'],\n",
        "    'возраст': [45, 26, 41 , 21],\n",
        "    'доход': [100000, 80000, 150000, 60000],\n",
        "    'надежность клиента (0..1)': [0.65, 0.74, 0.87, 0.68],\n",
        "    'пол': ['муж', 'муж', 'жен', 'жен']},\n",
        "    index=[0, 1, 2, 3])\n",
        "\n",
        "df40 = df[df['возраст'] > 40]\n",
        "a = df['доход'].mean()\n",
        "dfin = df[df['доход'] > a]\n",
        "b = df['надежность клиента (0..1)'].mean()\n",
        "df2in = df[(df['доход'] > a) & (df['надежность клиента (0..1)'] < b)]\n",
        "df['важность клиента'] = df['доход'] * df['надежность клиента (0..1)']\n",
        "c = df['возраст'].mean()\n",
        "df['возможная долгосрочность клиента'] = df['важность клиента'] * (c - df['возраст'])\n",
        "print(df, '\\n')\n",
        "print(df40, '\\n')\n",
        "print(dfin, '\\n')\n",
        "print(df2in, '\\n')"
      ],
      "metadata": {
        "colab": {
          "base_uri": "https://localhost:8080/"
        },
        "id": "3iJ0fmWByiRv",
        "outputId": "6ab751ec-1207-4013-8d27-d97fda11449d"
      },
      "execution_count": 10,
      "outputs": [
        {
          "output_type": "stream",
          "name": "stdout",
          "text": [
            "     имя  возраст   доход  надежность клиента (0..1)  пол  важность клиента  \\\n",
            "0   Петя       45  100000                       0.65  муж           65000.0   \n",
            "1   Вася       26   80000                       0.74  муж           59200.0   \n",
            "2    Аня       41  150000                       0.87  жен          130500.0   \n",
            "3  Света       21   60000                       0.68  жен           40800.0   \n",
            "\n",
            "   возможная долгосрочность клиента  \n",
            "0                         -763750.0  \n",
            "1                          429200.0  \n",
            "2                        -1011375.0  \n",
            "3                          499800.0   \n",
            "\n",
            "    имя  возраст   доход  надежность клиента (0..1)  пол\n",
            "0  Петя       45  100000                       0.65  муж\n",
            "2   Аня       41  150000                       0.87  жен \n",
            "\n",
            "    имя  возраст   доход  надежность клиента (0..1)  пол\n",
            "0  Петя       45  100000                       0.65  муж\n",
            "2   Аня       41  150000                       0.87  жен \n",
            "\n",
            "    имя  возраст   доход  надежность клиента (0..1)  пол\n",
            "0  Петя       45  100000                       0.65  муж \n",
            "\n"
          ]
        }
      ]
    },
    {
      "cell_type": "markdown",
      "source": [
        "задача 3"
      ],
      "metadata": {
        "id": "MWOXzUc26mxY"
      }
    },
    {
      "cell_type": "code",
      "source": [
        "import pandas as pd\n",
        "import numpy as np\n",
        "\n",
        "df1 = pd.DataFrame({'fruit': ['apple', 'banana', 'orange'] * 3,\n",
        "                    'weight': ['low', 'medium', 'high'] * 3,\n",
        "                    'price': np.random.randint(0, 100, 9)})\n",
        "\n",
        "df2 = pd.DataFrame({'frukt': ['apple', 'banana', 'melon'] * 2,\n",
        "                    'ves': ['low', 'high'] * 3,\n",
        "                    'price': np.random.randint(0, 100, 6)})\n",
        "\n",
        "res = pd.merge(df1, df2, how='inner', left_on=['fruit', 'weight'], right_on=['frukt', 'ves'])\n",
        "\n",
        "print(res.drop(['frukt', 'ves'], axis=1))"
      ],
      "metadata": {
        "id": "zOzNSQzH6o2g",
        "colab": {
          "base_uri": "https://localhost:8080/"
        },
        "outputId": "923b3300-ff54-4e80-fda8-6e3223326a99"
      },
      "execution_count": 4,
      "outputs": [
        {
          "output_type": "stream",
          "name": "stdout",
          "text": [
            "   fruit weight  price_x  price_y\n",
            "0  apple    low       23       68\n",
            "1  apple    low       22       68\n",
            "2  apple    low       35       68\n"
          ]
        }
      ]
    }
  ]
}