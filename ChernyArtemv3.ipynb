{
  "nbformat": 4,
  "nbformat_minor": 0,
  "metadata": {
    "colab": {
      "provenance": []
    },
    "kernelspec": {
      "name": "python3",
      "display_name": "Python 3"
    },
    "language_info": {
      "name": "python"
    }
  },
  "cells": [
    {
      "cell_type": "code",
      "execution_count": null,
      "metadata": {
        "id": "V06ZMY-TuKqA"
      },
      "outputs": [],
      "source": [
        "import pandas as pd\n",
        "import datetime as dt\n",
        "\n",
        "df = pd.read_csv('weatherHistory.csv')\n",
        "df.head()\n",
        "\n",
        "# 1.1\n",
        "res11 = df['Temperature (C)'].max()\n",
        "print(res11)\n",
        "\n",
        "# 1.2\n",
        "res12 = df['Precip Type'].value_counts()\n",
        "print(res12)\n",
        "\n",
        "# 1.3\n",
        "res13 = df.groupby('Precip Type')['Temperature (C)'].mean()\n",
        "print(res13)\n",
        "\n",
        "# 1.4\n",
        "res14 = df[df['Temperature (C)'] > 0].shape[0]\n",
        "print(res14)\n",
        "\n",
        "# 2\n",
        "df[\"Formatted Date\"] = pd.to_datetime(df[\"Formatted Date\"], utc=True)\n",
        "from datetime import date\n",
        "date21 = date(2016, 9, 9)\n",
        "res21 = df[df[\"Formatted Date\"].dt.date == date21]['Temperature (C)'].mean()\n",
        "print(res21)\n",
        "\n",
        "# 3\n",
        "def which_season(month):\n",
        "   if month in [3, 4, 5]:\n",
        "       return 'spring'\n",
        "   elif month in [6, 7, 8]:\n",
        "       return 'summer'\n",
        "   elif month in [9, 10, 11]:\n",
        "       return 'autumn'\n",
        "   else:\n",
        "       return 'winter'\n",
        "\n",
        "df[\"Month\"] = df[\"Formatted Date\"].dt.month\n",
        "df['Season'] = df['Month'].apply(which_season)\n",
        "\n",
        "res3A = df.groupby('Season')['Temperature (C)'].mean()\n",
        "res3B = df.groupby('Season')['Wind Speed (km/h)'].mean()\n",
        "print(res3A)\n",
        "print(res3B)\n",
        "\n",
        "# 4\n",
        "res4 = df[(df['Season'] == 'winter') & (df['Precip Type'] == 'rain')].groupby('Season')['Humidity'].mean()\n",
        "print(res4)\n"
      ]
    }
  ]
}