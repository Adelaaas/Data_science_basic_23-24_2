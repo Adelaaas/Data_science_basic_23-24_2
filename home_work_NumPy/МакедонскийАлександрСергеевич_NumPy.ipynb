{
  "nbformat": 4,
  "nbformat_minor": 0,
  "metadata": {
    "colab": {
      "provenance": []
    },
    "kernelspec": {
      "name": "python3",
      "display_name": "Python 3"
    },
    "language_info": {
      "name": "python"
    }
  },
  "cells": [
    {
      "cell_type": "code",
      "execution_count": null,
      "metadata": {
        "colab": {
          "base_uri": "https://localhost:8080/"
        },
        "id": "R0hPhAvinIHh",
        "outputId": "062445c3-72fb-4eea-edfb-ba55bec7c05e"
      },
      "outputs": [
        {
          "output_type": "stream",
          "name": "stdout",
          "text": [
            "[[1. 1. 1. 1. 1. 1. 1. 1. 1. 1.]\n",
            " [1. 0. 0. 0. 0. 0. 0. 0. 0. 1.]\n",
            " [1. 0. 0. 0. 0. 0. 0. 0. 0. 1.]\n",
            " [1. 0. 0. 0. 0. 0. 0. 0. 0. 1.]\n",
            " [1. 0. 0. 0. 0. 0. 0. 0. 0. 1.]\n",
            " [1. 0. 0. 0. 0. 0. 0. 0. 0. 1.]\n",
            " [1. 0. 0. 0. 0. 0. 0. 0. 0. 1.]\n",
            " [1. 0. 0. 0. 0. 0. 0. 0. 0. 1.]\n",
            " [1. 0. 0. 0. 0. 0. 0. 0. 0. 1.]\n",
            " [1. 1. 1. 1. 1. 1. 1. 1. 1. 1.]]\n"
          ]
        }
      ],
      "source": [
        "[1]\n",
        "import numpy as np\n",
        "matrix = np.ones((10, 10))\n",
        "matrix[1:-1, 1:-1] = 0\n",
        "print(matrix)"
      ]
    },
    {
      "cell_type": "code",
      "source": [
        "[2]\n",
        "import numpy as np\n",
        "diagonal = np.arange(1, 5)\n",
        "matrix = np.diag(diagonal, 1)\n",
        "print(matrix)"
      ],
      "metadata": {
        "colab": {
          "base_uri": "https://localhost:8080/"
        },
        "id": "ThqYBlfawijM",
        "outputId": "edfffdda-c537-4316-aa3e-23399e82c0f0"
      },
      "execution_count": null,
      "outputs": [
        {
          "output_type": "stream",
          "name": "stdout",
          "text": [
            "[[0 1 0 0 0]\n",
            " [0 0 2 0 0]\n",
            " [0 0 0 3 0]\n",
            " [0 0 0 0 4]\n",
            " [0 0 0 0 0]]\n"
          ]
        }
      ]
    },
    {
      "cell_type": "code",
      "source": [
        "[3]\n",
        "a = np.array([1, 6, 8, 5, 8, 4, 8])\n",
        "mask = (a > 3) & (a < 8)\n",
        "a[mask] = -a[mask]\n",
        "print(a)\n"
      ],
      "metadata": {
        "colab": {
          "base_uri": "https://localhost:8080/"
        },
        "id": "8j5Uv6Q7wqWN",
        "outputId": "fb3ed625-38e4-4fe3-bdca-60c4b484bede"
      },
      "execution_count": null,
      "outputs": [
        {
          "output_type": "stream",
          "name": "stdout",
          "text": [
            "[ 1 -6  8 -5  8 -4  8]\n"
          ]
        }
      ]
    },
    {
      "cell_type": "code",
      "source": [
        "[6]\n",
        "\n",
        "a = np.array([1, 2, 2, 2, 3, 3, 3, 3, 3])\n",
        "maxx = np.bincount(a)\n",
        "val = np.argmax(maxx)\n",
        "print(val)\n"
      ],
      "metadata": {
        "colab": {
          "base_uri": "https://localhost:8080/"
        },
        "id": "-9Hlc32Ew1BK",
        "outputId": "d9da1bbf-aea2-4724-c553-f7a72cfb82bb"
      },
      "execution_count": null,
      "outputs": [
        {
          "output_type": "stream",
          "name": "stdout",
          "text": [
            "3\n"
          ]
        }
      ]
    },
    {
      "cell_type": "code",
      "source": [
        "[4]\n",
        "\n",
        "import numpy as np\n",
        "\n",
        "a = np.array([1, 2, 3, 4, 5])\n",
        "b = np.zeros(len(a) * 4 - 3)\n",
        "\n",
        "b[::4] = a\n",
        "\n",
        "print(b)\n"
      ],
      "metadata": {
        "id": "sdldexYzzHCH",
        "colab": {
          "base_uri": "https://localhost:8080/"
        },
        "outputId": "f33bc230-5b65-43e8-ca07-5c9d2cff563f"
      },
      "execution_count": null,
      "outputs": [
        {
          "output_type": "stream",
          "name": "stdout",
          "text": [
            "[1. 0. 0. 0. 2. 0. 0. 0. 3. 0. 0. 0. 4. 0. 0. 0. 5.]\n"
          ]
        }
      ]
    },
    {
      "cell_type": "code",
      "source": [
        "[5]\n",
        "\n",
        "import numpy as np\n",
        "\n",
        "a = np.array([[1, 2, 3], [0, 0, 0], [9, 3, 5]])\n",
        "a[0], a[2] = a[2], a[0].copy()\n",
        "\n",
        "print(a)\n"
      ],
      "metadata": {
        "colab": {
          "base_uri": "https://localhost:8080/"
        },
        "id": "UOtUiGwTmUu0",
        "outputId": "827a3907-ae74-4391-c57c-d907c395630d"
      },
      "execution_count": null,
      "outputs": [
        {
          "output_type": "stream",
          "name": "stdout",
          "text": [
            "[[9 3 5]\n",
            " [0 0 0]\n",
            " [1 2 3]]\n"
          ]
        }
      ]
    },
    {
      "cell_type": "code",
      "source": [
        "[8]\n",
        "\n",
        "import numpy as np\n",
        "\n",
        "matrix = np.random.rand(10, 10)\n",
        "n = int(input())\n",
        "a = np.sort(matrix.flatten())[-n:]\n",
        "print(a)"
      ],
      "metadata": {
        "colab": {
          "base_uri": "https://localhost:8080/"
        },
        "id": "unB1kjsVm4VR",
        "outputId": "e805d723-d420-4bcd-d27c-ce5e2a05ca36"
      },
      "execution_count": null,
      "outputs": [
        {
          "output_type": "stream",
          "name": "stdout",
          "text": [
            "7\n",
            "[0.8907192  0.92002137 0.93305795 0.93786937 0.94004996 0.98126212\n",
            " 0.98954935]\n"
          ]
        }
      ]
    },
    {
      "cell_type": "code",
      "source": [
        "[9]\n",
        "\n",
        "matrix = np.array([[1, 2, 3],\n",
        "                   [2, 2, 3],\n",
        "                   [4, 3, 6],\n",
        "                   [2, 2, 2],\n",
        "                   [7, 7, 7],\n",
        "                   [2, 2, 3],\n",
        "                   [10, 11, 12],\n",
        "                   [2, 2, 3],\n",
        "                   [13, 14, 15],\n",
        "                   [2, 2, 2]])\n",
        "a = []\n",
        "for i in matrix:\n",
        "   if len(set(i)) > 1:\n",
        "    a.append(i)\n",
        "\n",
        "for b in a:\n",
        "    print(b)"
      ],
      "metadata": {
        "id": "wxilPW5enzgP",
        "colab": {
          "base_uri": "https://localhost:8080/"
        },
        "outputId": "c26800ce-70fd-4aee-f7e0-ee0059bbf804"
      },
      "execution_count": 6,
      "outputs": [
        {
          "output_type": "stream",
          "name": "stdout",
          "text": [
            "[1 2 3]\n",
            "[2 2 3]\n",
            "[4 3 6]\n",
            "[2 2 3]\n",
            "[10 11 12]\n",
            "[2 2 3]\n",
            "[13 14 15]\n"
          ]
        }
      ]
    },
    {
      "cell_type": "code",
      "source": [
        "[10]\n",
        "\n",
        "import numpy as np\n",
        "\n",
        "A = np.array([2.3, -4.8, 0.5, -1.2, 3.0, -0.7])\n",
        "Z = np.where(A > 0, np.ceil(A), np.floor(A))\n",
        "print(Z)"
      ],
      "metadata": {
        "colab": {
          "base_uri": "https://localhost:8080/"
        },
        "id": "I0KKzC9GoWMH",
        "outputId": "2408f6f2-bb2f-4d46-ded8-dc7709114a9d"
      },
      "execution_count": 7,
      "outputs": [
        {
          "output_type": "stream",
          "name": "stdout",
          "text": [
            "[ 3. -5.  1. -2.  3. -1.]\n"
          ]
        }
      ]
    },
    {
      "cell_type": "code",
      "source": [
        "[11]\n",
        "\n",
        "import numpy as np\n",
        "\n",
        "A = np.array([1, 2, 3, 4, 5])\n",
        "B = np.array([3, 4, 5, 6, 7])\n",
        "Z = np.intersect1d(A, B)\n",
        "print(Z)\n"
      ],
      "metadata": {
        "colab": {
          "base_uri": "https://localhost:8080/"
        },
        "id": "yrGKHvmtoziS",
        "outputId": "8485f166-4aab-460f-d4ae-b440cb90bc54"
      },
      "execution_count": 8,
      "outputs": [
        {
          "output_type": "stream",
          "name": "stdout",
          "text": [
            "[3 4 5]\n"
          ]
        }
      ]
    },
    {
      "cell_type": "code",
      "source": [
        "[13]\n",
        "\n",
        "import numpy as np\n",
        "\n",
        "matrix = np.random.random((5, 3))\n",
        "vector_lengths = np.linalg.norm(matrix, axis=1)\n",
        "max_length_index = np.argmax(vector_lengths)\n",
        "max_length_vector_coordinates = matrix[max_length_index]\n",
        "max_length = vector_lengths[max_length_index]\n",
        "print(\"Исходная матрица:\")\n",
        "print(matrix)\n",
        "print(\"\\nДлины векторов:\")\n",
        "print(vector_lengths)\n",
        "print(\"\\nСамый длинный вектор (его координаты и длина):\")\n",
        "print(\"Координаты:\", max_length_vector_coordinates)\n",
        "print(\"Длина:\", max_length)\n"
      ],
      "metadata": {
        "colab": {
          "base_uri": "https://localhost:8080/"
        },
        "id": "S_XgyGyZpKpT",
        "outputId": "74f630bb-58e2-496e-deff-b4c2c36fda01"
      },
      "execution_count": 9,
      "outputs": [
        {
          "output_type": "stream",
          "name": "stdout",
          "text": [
            "Исходная матрица:\n",
            "[[0.76913729 0.34084571 0.41959894]\n",
            " [0.05002728 0.74905729 0.99116188]\n",
            " [0.13349801 0.89300083 0.18424782]\n",
            " [0.74350437 0.90166641 0.898394  ]\n",
            " [0.35385216 0.72214391 0.50900623]]\n",
            "\n",
            "Длины векторов:\n",
            "[0.94011235 1.24337904 0.92153104 1.47408034 0.95173028]\n",
            "\n",
            "Самый длинный вектор (его координаты и длина):\n",
            "Координаты: [0.74350437 0.90166641 0.898394  ]\n",
            "Длина: 1.4740803443349428\n"
          ]
        }
      ]
    },
    {
      "cell_type": "code",
      "source": [
        "[7]\n",
        "\n",
        "import numpy as np\n",
        "\n",
        "array_16x16 = np.random.randint(1, 10, size=(16, 16))\n",
        "array_4x4_blocks = array_16x16.reshape(4, 4, 4, 4)\n",
        "block_sums = np.sum(array_4x4_blocks, axis=(2, 3))\n",
        "print(\"Исходный массив 16x16:\")\n",
        "print(array_16x16)\n",
        "print(\"\\nСуммы по блокам 4x4:\")\n",
        "print(block_sums)\n"
      ],
      "metadata": {
        "colab": {
          "base_uri": "https://localhost:8080/"
        },
        "id": "jUvJMBT1qPAn",
        "outputId": "541023b3-0ed9-4408-f976-ac3c34f5e503"
      },
      "execution_count": 10,
      "outputs": [
        {
          "output_type": "stream",
          "name": "stdout",
          "text": [
            "Исходный массив 16x16:\n",
            "[[6 1 9 4 4 3 9 1 8 6 8 4 4 3 6 9]\n",
            " [1 2 5 3 7 6 9 5 1 1 9 9 2 2 9 3]\n",
            " [7 5 1 1 7 9 1 3 7 3 2 2 9 8 1 1]\n",
            " [2 6 6 4 5 5 1 7 6 4 9 4 8 5 1 3]\n",
            " [9 4 2 1 3 8 6 7 3 2 7 7 8 6 6 1]\n",
            " [1 2 8 3 5 4 8 2 9 3 5 7 9 6 6 4]\n",
            " [8 8 4 8 7 9 1 1 9 5 3 9 9 6 3 6]\n",
            " [1 3 4 4 7 1 1 9 8 5 5 3 6 3 9 7]\n",
            " [6 2 8 6 8 1 9 7 9 5 4 7 4 9 1 1]\n",
            " [2 8 2 3 3 5 9 8 1 2 3 7 9 7 9 3]\n",
            " [4 1 3 9 2 5 8 3 7 3 6 8 6 4 2 8]\n",
            " [2 9 5 5 8 7 6 2 9 9 4 3 7 2 9 5]\n",
            " [1 7 7 2 2 7 8 8 4 1 6 9 4 5 3 9]\n",
            " [3 2 4 8 2 3 9 7 3 3 9 1 5 3 8 6]\n",
            " [3 2 4 2 4 8 5 4 3 3 5 9 1 8 5 7]\n",
            " [7 4 7 6 1 6 3 4 3 3 7 5 5 4 2 5]]\n",
            "\n",
            "Суммы по блокам 4x4:\n",
            "[[85 74 67 76]\n",
            " [80 82 96 76]\n",
            " [87 81 79 92]\n",
            " [83 76 73 72]]\n"
          ]
        }
      ]
    },
    {
      "cell_type": "code",
      "source": [
        "[12]\n",
        "\n",
        "x = np.array([6, 2, 0, 3, 0, 0, 5, 7, 0])\n",
        "maxx = 0\n",
        "for i in range (len(x) - 1):\n",
        "    if x[i] == 0 and maxx < x[i + 1]:\n",
        "        maxx = x[i + 1]\n",
        "print(maxx)\n"
      ],
      "metadata": {
        "colab": {
          "base_uri": "https://localhost:8080/"
        },
        "id": "snKvdOR3w5OR",
        "outputId": "1ad500e3-1542-43f9-bd94-99864a8868f1"
      },
      "execution_count": null,
      "outputs": [
        {
          "output_type": "stream",
          "name": "stdout",
          "text": [
            "5\n"
          ]
        }
      ]
    }
  ]
}