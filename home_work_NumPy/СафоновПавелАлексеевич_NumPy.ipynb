{
  "nbformat": 4,
  "nbformat_minor": 0,
  "metadata": {
    "colab": {
      "provenance": []
    },
    "kernelspec": {
      "name": "python3",
      "display_name": "Python 3"
    },
    "language_info": {
      "name": "python"
    }
  },
  "cells": [
    {
      "cell_type": "markdown",
      "source": [],
      "metadata": {
        "id": "VUEzJ5pPAEw9"
      }
    },
    {
      "cell_type": "code",
      "source": [
        "#4\n",
        "import numpy as np\n",
        "l = np.zeros((5, 4))\n",
        "vsp = np.array([1, 2, 3, 4, 5])\n",
        "l[:, 0] = vsp\n",
        "print(l.reshape(1,20)[0, :17])\n"
      ],
      "metadata": {
        "colab": {
          "base_uri": "https://localhost:8080/"
        },
        "id": "7m78mN0XAJGv",
        "outputId": "3f0bd57e-58f8-490e-f6f5-3917cc2df190"
      },
      "execution_count": 11,
      "outputs": [
        {
          "output_type": "stream",
          "name": "stdout",
          "text": [
            "[1. 0. 0. 0. 2. 0. 0. 0. 3. 0. 0. 0. 4. 0. 0. 0. 5.]\n"
          ]
        }
      ]
    },
    {
      "cell_type": "code",
      "source": [
        "#5\n",
        "import numpy as np\n",
        "l = np.array([[1,2,3], [0,0,0], [9,3,5]])\n",
        "l[[0,1]] = l[[1, 0]]\n",
        "print(l)"
      ],
      "metadata": {
        "colab": {
          "base_uri": "https://localhost:8080/"
        },
        "id": "8FVHCy9YBzxz",
        "outputId": "0a1547dd-bd75-4ae3-c52d-6bfc60c2aa9e"
      },
      "execution_count": 16,
      "outputs": [
        {
          "output_type": "stream",
          "name": "stdout",
          "text": [
            "[[0 0 0]\n",
            " [1 2 3]\n",
            " [9 3 5]]\n"
          ]
        }
      ]
    },
    {
      "cell_type": "code",
      "source": [
        "#8\n",
        "import numpy as np\n",
        "\n",
        "\n",
        "matrix = np.random.rand(10, 10)\n",
        "\n",
        "\n",
        "n = int(input(\">>>\"))\n",
        "\n",
        "\n",
        "nend = np.sort(matrix.flatten())[-n:]\n",
        "\n",
        "\n",
        "print(nend)\n"
      ],
      "metadata": {
        "colab": {
          "base_uri": "https://localhost:8080/"
        },
        "id": "_OyTDXE2C2BI",
        "outputId": "9138a5ad-b960-4f54-fdb4-fae8c8bbad4e"
      },
      "execution_count": 33,
      "outputs": [
        {
          "output_type": "stream",
          "name": "stdout",
          "text": [
            ">>>5\n",
            "[0.95815742 0.96995165 0.97398504 0.98476965 0.99112207]\n",
            ">>>6\n",
            "[0.9789535  0.98133778 0.98928612 0.98999538 0.99346377 0.99695476]\n"
          ]
        }
      ]
    },
    {
      "cell_type": "code",
      "source": [
        "#9\n",
        "import numpy as np\n",
        "\n",
        "\n",
        "matrix = np.array([[1, 2, 3],\n",
        "                   [2, 2, 3],\n",
        "                   [4, 3, 6],\n",
        "                   [2, 2, 2],\n",
        "                   [7, 7, 7],\n",
        "                   [2, 2, 3],\n",
        "                   [10, 11, 12],\n",
        "                   [2, 2, 3],\n",
        "                   [13, 14, 15],\n",
        "                   [2, 2, 2]])\n",
        "\n",
        "# Найти строки с неравными значениями\n",
        "unrows = []\n",
        "for i in matrix:\n",
        "   if len(set(i)) > 1:\n",
        "    unrows.append(i)\n",
        "\n",
        "for row in unrows:\n",
        "    print(row)\n"
      ],
      "metadata": {
        "colab": {
          "base_uri": "https://localhost:8080/"
        },
        "id": "i2kTP9YnNiVl",
        "outputId": "002c74f3-9133-4e85-b54d-82cc5ac06b33"
      },
      "execution_count": 39,
      "outputs": [
        {
          "output_type": "stream",
          "name": "stdout",
          "text": [
            "Строки с неравными значениями:\n",
            "[1 2 3]\n",
            "[2 2 3]\n",
            "[4 3 6]\n",
            "[2 2 3]\n",
            "[10 11 12]\n",
            "[2 2 3]\n",
            "[13 14 15]\n"
          ]
        }
      ]
    },
    {
      "cell_type": "code",
      "source": [
        "#10\n",
        "import numpy as np\n",
        "\n",
        "A = np.random.rand(10)\n",
        "Z = np.where(A > 0, np.ceil(A), np.floor(A))\n",
        "print(Z)"
      ],
      "metadata": {
        "colab": {
          "base_uri": "https://localhost:8080/"
        },
        "id": "95agPYuaZT3N",
        "outputId": "aa03555d-ca85-4523-9970-f597e838e3f6"
      },
      "execution_count": 62,
      "outputs": [
        {
          "output_type": "stream",
          "name": "stdout",
          "text": [
            "[1. 1. 1. 1. 1. 1. 1. 1. 1. 1.]\n"
          ]
        }
      ]
    },
    {
      "cell_type": "code",
      "source": [
        "#11\n",
        "import numpy as np\n",
        "\n",
        "A = np.array([1, 2, 3, 4, 5])\n",
        "B = np.array([3, 4, 5, 6, 7])\n",
        "\n",
        "Z = np.intersect1d(A, B)\n",
        "\n",
        "print(Z)"
      ],
      "metadata": {
        "colab": {
          "base_uri": "https://localhost:8080/"
        },
        "id": "nRr_C6ndPx5J",
        "outputId": "4e65e787-1fff-46bf-e91b-99f4351ce173"
      },
      "execution_count": 40,
      "outputs": [
        {
          "output_type": "stream",
          "name": "stdout",
          "text": [
            "Пересечение векторов A и B: [3 4 5]\n"
          ]
        }
      ]
    },
    {
      "cell_type": "code",
      "source": [
        "#12\n",
        "arr = np.array([6, 2, 0, 3, 0, 0, 5, 7, 0])\n",
        "max = 0\n",
        "for i in range (len(arr) - 1):\n",
        "   if max < arr[i + 1] and arr[i] == 0:\n",
        "     max = arr[i + 1]\n",
        "print(max)"
      ],
      "metadata": {
        "colab": {
          "base_uri": "https://localhost:8080/"
        },
        "id": "vAUPteVzHwOj",
        "outputId": "a4a71c71-a256-48db-80dc-6e164a4eb603"
      },
      "execution_count": 19,
      "outputs": [
        {
          "output_type": "stream",
          "name": "stdout",
          "text": [
            "5\n"
          ]
        }
      ]
    },
    {
      "cell_type": "code",
      "source": [
        "#13\n",
        "import numpy as np\n",
        "\n",
        "matrix = np.random.rand(5, 3)\n",
        "\n",
        "vector_lengths = np.linalg.norm(matrix,axis = 1)\n",
        "\n",
        "max_length_index = np.argmax(vector_lengths)\n",
        "\n",
        "max_length_vector = matrix[max_length_index]\n",
        "\n",
        "print(matrix)\n",
        "print(vector_lengths)\n",
        "print( max_length_vector)\n",
        "print(vector_lengths[max_length_index])"
      ],
      "metadata": {
        "colab": {
          "base_uri": "https://localhost:8080/"
        },
        "id": "Bi3X_AO4S_I5",
        "outputId": "3fd047bf-6621-4e8e-cfb0-fb8ea3cd9401"
      },
      "execution_count": 52,
      "outputs": [
        {
          "output_type": "stream",
          "name": "stdout",
          "text": [
            "[[0.67356902 0.7489477  0.0880519 ]\n",
            " [0.12932612 0.27579019 0.82426521]\n",
            " [0.76417076 0.43951085 0.46518808]\n",
            " [0.41126125 0.2313444  0.44001689]\n",
            " [0.61674405 0.13096445 0.74878219]]\n",
            "[1.01112364 0.87874832 0.99675809 0.64519059 0.97887674]\n",
            "[0.67356902 0.7489477  0.0880519 ]\n",
            "1.0111236434645914\n"
          ]
        }
      ]
    }
  ]
}