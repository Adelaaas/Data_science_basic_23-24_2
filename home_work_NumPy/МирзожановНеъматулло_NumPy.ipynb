{
  "nbformat": 4,
  "nbformat_minor": 0,
  "metadata": {
    "colab": {
      "provenance": []
    },
    "kernelspec": {
      "name": "python3",
      "display_name": "Python 3"
    },
    "language_info": {
      "name": "python"
    }
  },
  "cells": [
    {
      "cell_type": "code",
      "execution_count": 2,
      "metadata": {
        "colab": {
          "base_uri": "https://localhost:8080/"
        },
        "id": "kl9tkEtD3B3V",
        "outputId": "5aad144a-9cd3-4ff8-f247-a6745c39b958"
      },
      "outputs": [
        {
          "output_type": "execute_result",
          "data": {
            "text/plain": [
              "array([[1., 1., 1., 1., 1., 1., 1., 1., 1., 1.],\n",
              "       [1., 0., 0., 0., 0., 0., 0., 0., 0., 1.],\n",
              "       [1., 0., 0., 0., 0., 0., 0., 0., 0., 1.],\n",
              "       [1., 0., 0., 0., 0., 0., 0., 0., 0., 1.],\n",
              "       [1., 0., 0., 0., 0., 0., 0., 0., 0., 1.],\n",
              "       [1., 0., 0., 0., 0., 0., 0., 0., 0., 1.],\n",
              "       [1., 0., 0., 0., 0., 0., 0., 0., 0., 1.],\n",
              "       [1., 0., 0., 0., 0., 0., 0., 0., 0., 1.],\n",
              "       [1., 0., 0., 0., 0., 0., 0., 0., 0., 1.],\n",
              "       [1., 1., 1., 1., 1., 1., 1., 1., 1., 1.]])"
            ]
          },
          "metadata": {},
          "execution_count": 2
        }
      ],
      "source": [
        "#Task 1\n",
        "import numpy as np\n",
        "A = np.ones((10,10))\n",
        "A[1:-1,1:-1] = 0\n",
        "A"
      ]
    },
    {
      "cell_type": "code",
      "source": [
        "#Task 2\n",
        "B = np.diag([1,2,3,4],1)\n",
        "B"
      ],
      "metadata": {
        "colab": {
          "base_uri": "https://localhost:8080/"
        },
        "id": "-m8O8JQL4RnZ",
        "outputId": "6710e8de-7341-4354-fe98-18620eaf8f95"
      },
      "execution_count": 4,
      "outputs": [
        {
          "output_type": "execute_result",
          "data": {
            "text/plain": [
              "array([[0, 1, 0, 0, 0],\n",
              "       [0, 0, 2, 0, 0],\n",
              "       [0, 0, 0, 3, 0],\n",
              "       [0, 0, 0, 0, 4],\n",
              "       [0, 0, 0, 0, 0]])"
            ]
          },
          "metadata": {},
          "execution_count": 4
        }
      ]
    },
    {
      "cell_type": "code",
      "source": [
        "#Task 3\n",
        "C = np.random.randint(1,15,size = (1,15))\n",
        "print(C)\n",
        "C[(C > 3) & (C <= 8)] *= -1\n",
        "C"
      ],
      "metadata": {
        "colab": {
          "base_uri": "https://localhost:8080/"
        },
        "id": "WsBAY_Uf5Cq-",
        "outputId": "b95f73c4-4c7f-4bda-d2b3-971f2a291397"
      },
      "execution_count": 62,
      "outputs": [
        {
          "output_type": "stream",
          "name": "stdout",
          "text": [
            "[[11  7 10  3 11  1  9  5  2  6 10  2 10  6 13]]\n"
          ]
        },
        {
          "output_type": "execute_result",
          "data": {
            "text/plain": [
              "array([[11, -7, 10,  3, 11,  1,  9, -5,  2, -6, 10,  2, 10, -6, 13]])"
            ]
          },
          "metadata": {},
          "execution_count": 62
        }
      ]
    },
    {
      "cell_type": "code",
      "source": [
        "#Task 4\n",
        "D = np.array([1,2,3,4,5])\n",
        "E = np.zeros(len(D) * 4 - 3)\n",
        "E[::4] = D\n",
        "E"
      ],
      "metadata": {
        "colab": {
          "base_uri": "https://localhost:8080/"
        },
        "id": "RKNoVZ416aAL",
        "outputId": "a1fa23c5-bf84-477c-e6d3-956330d54e43"
      },
      "execution_count": 8,
      "outputs": [
        {
          "output_type": "execute_result",
          "data": {
            "text/plain": [
              "array([1., 0., 0., 0., 2., 0., 0., 0., 3., 0., 0., 0., 4., 0., 0., 0., 5.])"
            ]
          },
          "metadata": {},
          "execution_count": 8
        }
      ]
    },
    {
      "cell_type": "code",
      "source": [
        "#Task 5\n",
        "F = np.array([[1,2,3], [0,0,0], [9,3,5]])\n",
        "F[1],F[2] = F[2],F[1].copy()\n",
        "F"
      ],
      "metadata": {
        "colab": {
          "base_uri": "https://localhost:8080/"
        },
        "id": "cH58tGaA8k1l",
        "outputId": "f94a41c0-1478-442a-a320-5aec43bd43db"
      },
      "execution_count": 63,
      "outputs": [
        {
          "output_type": "execute_result",
          "data": {
            "text/plain": [
              "array([[1, 2, 3],\n",
              "       [9, 3, 5],\n",
              "       [0, 0, 0]])"
            ]
          },
          "metadata": {},
          "execution_count": 63
        }
      ]
    },
    {
      "cell_type": "code",
      "source": [
        "#Task 6\n",
        "G = np.array([1,2,3,4,5,6,7,8,9,0,9,8,7,6,4,23,55,2,1,3,5,6,7,87,53,2,1,3,5,6,2,2,1,1,2,3,1,5,1])\n",
        "H = np.bincount(G)\n",
        "print(np.argmax(H))"
      ],
      "metadata": {
        "colab": {
          "base_uri": "https://localhost:8080/"
        },
        "id": "KzYf9iSH-fLN",
        "outputId": "abd92ef7-9f74-4288-a349-ae14a150c692"
      },
      "execution_count": 113,
      "outputs": [
        {
          "output_type": "stream",
          "name": "stdout",
          "text": [
            "1\n"
          ]
        }
      ]
    },
    {
      "cell_type": "code",
      "source": [
        "#Task 7\n",
        "I = np.random.randint(1,100,size = (16,16))\n",
        "#I #чтобы увидеть исходный массив\n",
        "J = I.reshape(4,4,4,4)\n",
        "sum = np.sum(J,axis = (2,3))\n",
        "sum"
      ],
      "metadata": {
        "colab": {
          "base_uri": "https://localhost:8080/",
          "height": 256
        },
        "id": "OrUlnZStCEvs",
        "outputId": "9faf33cc-3e5a-420c-fb1f-b209c7eab6b8"
      },
      "execution_count": 38,
      "outputs": [
        {
          "output_type": "error",
          "ename": "ValueError",
          "evalue": "ignored",
          "traceback": [
            "\u001b[0;31m---------------------------------------------------------------------------\u001b[0m",
            "\u001b[0;31mValueError\u001b[0m                                Traceback (most recent call last)",
            "\u001b[0;32m<ipython-input-38-374e2c13e52f>\u001b[0m in \u001b[0;36m<cell line: 4>\u001b[0;34m()\u001b[0m\n\u001b[1;32m      2\u001b[0m \u001b[0mI\u001b[0m \u001b[0;34m=\u001b[0m \u001b[0mnp\u001b[0m\u001b[0;34m.\u001b[0m\u001b[0mrandom\u001b[0m\u001b[0;34m.\u001b[0m\u001b[0mrandint\u001b[0m\u001b[0;34m(\u001b[0m\u001b[0;34m(\u001b[0m\u001b[0;36m16\u001b[0m\u001b[0;34m,\u001b[0m\u001b[0;36m16\u001b[0m\u001b[0;34m)\u001b[0m\u001b[0;34m)\u001b[0m\u001b[0;34m\u001b[0m\u001b[0;34m\u001b[0m\u001b[0m\n\u001b[1;32m      3\u001b[0m \u001b[0;31m#I #чтобы увидеть исходный массив\u001b[0m\u001b[0;34m\u001b[0m\u001b[0;34m\u001b[0m\u001b[0m\n\u001b[0;32m----> 4\u001b[0;31m \u001b[0mJ\u001b[0m \u001b[0;34m=\u001b[0m \u001b[0mI\u001b[0m\u001b[0;34m.\u001b[0m\u001b[0mreshape\u001b[0m\u001b[0;34m(\u001b[0m\u001b[0;36m4\u001b[0m\u001b[0;34m,\u001b[0m\u001b[0;36m4\u001b[0m\u001b[0;34m,\u001b[0m\u001b[0;36m4\u001b[0m\u001b[0;34m,\u001b[0m\u001b[0;36m4\u001b[0m\u001b[0;34m)\u001b[0m\u001b[0;34m\u001b[0m\u001b[0;34m\u001b[0m\u001b[0m\n\u001b[0m\u001b[1;32m      5\u001b[0m \u001b[0msum\u001b[0m \u001b[0;34m=\u001b[0m \u001b[0mnp\u001b[0m\u001b[0;34m.\u001b[0m\u001b[0msum\u001b[0m\u001b[0;34m(\u001b[0m\u001b[0mJ\u001b[0m\u001b[0;34m,\u001b[0m\u001b[0maxis\u001b[0m \u001b[0;34m=\u001b[0m \u001b[0;34m(\u001b[0m\u001b[0;36m2\u001b[0m\u001b[0;34m,\u001b[0m\u001b[0;36m3\u001b[0m\u001b[0;34m)\u001b[0m\u001b[0;34m)\u001b[0m\u001b[0;34m\u001b[0m\u001b[0;34m\u001b[0m\u001b[0m\n\u001b[1;32m      6\u001b[0m \u001b[0msum\u001b[0m\u001b[0;34m\u001b[0m\u001b[0;34m\u001b[0m\u001b[0m\n",
            "\u001b[0;31mValueError\u001b[0m: cannot reshape array of size 2 into shape (4,4,4,4)"
          ]
        }
      ]
    },
    {
      "cell_type": "code",
      "source": [
        "#Task 8\n",
        "K = np.random.randint(1,100,size = (7,7))\n",
        "print(K)\n",
        "L = K.flatten()\n",
        "L.sort()\n",
        "n = int(input())\n",
        "L[-n:]\n"
      ],
      "metadata": {
        "colab": {
          "base_uri": "https://localhost:8080/"
        },
        "id": "hKKMg-MqEmu9",
        "outputId": "8b025636-f3e4-4d6b-a862-de69dc9dba57"
      },
      "execution_count": 55,
      "outputs": [
        {
          "name": "stdout",
          "output_type": "stream",
          "text": [
            "[[73 98 84 79 10 54 70]\n",
            " [15 85 79 48 49 49 31]\n",
            " [74 48 45  1 17  9 39]\n",
            " [65 67 34  8 11  2 67]\n",
            " [61 11  8 68 58 84 91]\n",
            " [89 23 29  6 96 31 42]\n",
            " [31 55 22 93 23 90 45]]\n",
            "5\n"
          ]
        },
        {
          "output_type": "execute_result",
          "data": {
            "text/plain": [
              "array([90, 91, 93, 96, 98])"
            ]
          },
          "metadata": {},
          "execution_count": 55
        }
      ]
    },
    {
      "cell_type": "code",
      "source": [
        "#Task 9\n",
        "M = np.random.randint(1,5,size = (10,3))\n",
        "print(M)\n",
        "print(\"    \")\n",
        "N = []\n",
        "for i in (M):\n",
        "  if len(set(i)) != 1:\n",
        "    N.append(i)\n",
        "for j in N:\n",
        "  print(j)"
      ],
      "metadata": {
        "colab": {
          "base_uri": "https://localhost:8080/"
        },
        "id": "mR8Y6VSyGacx",
        "outputId": "e5f76e03-f048-48ad-a7b5-054db61bce80"
      },
      "execution_count": 80,
      "outputs": [
        {
          "output_type": "stream",
          "name": "stdout",
          "text": [
            "[[2 4 3]\n",
            " [1 2 2]\n",
            " [4 3 1]\n",
            " [4 3 2]\n",
            " [4 2 3]\n",
            " [3 1 3]\n",
            " [1 1 4]\n",
            " [3 2 2]\n",
            " [3 1 1]\n",
            " [4 2 4]]\n",
            "    \n",
            "[2 4 3]\n",
            "[1 2 2]\n",
            "[4 3 1]\n",
            "[4 3 2]\n",
            "[4 2 3]\n",
            "[3 1 3]\n",
            "[1 1 4]\n",
            "[3 2 2]\n",
            "[3 1 1]\n",
            "[4 2 4]\n"
          ]
        }
      ]
    },
    {
      "cell_type": "code",
      "source": [
        "#Task 10\n",
        "O = np.random.uniform(-100,100, (1,20))\n",
        "print(O)\n",
        "\n",
        "P = np.where(O > 0, np.ceil(O),np.floor(O))\n",
        "P"
      ],
      "metadata": {
        "colab": {
          "base_uri": "https://localhost:8080/"
        },
        "id": "PDobnniAJcuf",
        "outputId": "57f15190-78cd-44ae-8f6c-27160c7845f7"
      },
      "execution_count": 102,
      "outputs": [
        {
          "output_type": "stream",
          "name": "stdout",
          "text": [
            "[[ 71.00772638  63.82325563  96.6439379   -5.99476975 -89.78414421\n",
            "  -42.82616309  64.74033049  20.56172513  -1.1246468   34.75420655\n",
            "  -92.60215425  -4.97571851 -13.61060256 -82.18014592  32.39272277\n",
            "  -48.38252612 -32.83997241 -72.9866142   64.59066432 -41.22636473]]\n"
          ]
        },
        {
          "output_type": "execute_result",
          "data": {
            "text/plain": [
              "array([[ 72.,  64.,  97.,  -6., -90., -43.,  65.,  21.,  -2.,  35., -93.,\n",
              "         -5., -14., -83.,  33., -49., -33., -73.,  65., -42.]])"
            ]
          },
          "metadata": {},
          "execution_count": 102
        }
      ]
    },
    {
      "cell_type": "code",
      "source": [
        "#Task 11\n",
        "R = np.random.randint(1,6,size = (1,10))\n",
        "print(R)\n",
        "S = np.random.randint(1,6,size = (1,10))\n",
        "print(S)\n",
        "T = intersect1d(R,S)\n",
        "T"
      ],
      "metadata": {
        "colab": {
          "base_uri": "https://localhost:8080/"
        },
        "id": "rPrgzjh4LJ0w",
        "outputId": "5daef36f-6291-4676-8ded-57a302dbdf9d"
      },
      "execution_count": 106,
      "outputs": [
        {
          "output_type": "stream",
          "name": "stdout",
          "text": [
            "[[2 2 4 5 2 2 1 4 3 5]]\n",
            "[[1 5 4 3 5 3 3 4 3 4]]\n"
          ]
        },
        {
          "output_type": "execute_result",
          "data": {
            "text/plain": [
              "array([1, 3, 4, 5])"
            ]
          },
          "metadata": {},
          "execution_count": 106
        }
      ]
    },
    {
      "cell_type": "code",
      "source": [
        "#Task 12\n",
        "U = np.array((0,1,2,4,0,0,7,9,0,5,0,1,0,5,6,8,3,24,0,77))\n",
        "max = 0\n",
        "for i in range(len(U)-1):\n",
        "  if U[i] == 0 and U[i+1] > max:\n",
        "    max = U[i+1]\n",
        "max"
      ],
      "metadata": {
        "colab": {
          "base_uri": "https://localhost:8080/"
        },
        "id": "vq4QrWFiPt54",
        "outputId": "7b4c7ff5-8be2-47de-b83a-13db7f9f6f03"
      },
      "execution_count": 111,
      "outputs": [
        {
          "output_type": "execute_result",
          "data": {
            "text/plain": [
              "77"
            ]
          },
          "metadata": {},
          "execution_count": 111
        }
      ]
    },
    {
      "cell_type": "code",
      "source": [],
      "metadata": {
        "id": "kcmVvAXjQrIj"
      },
      "execution_count": null,
      "outputs": []
    }
  ]
}