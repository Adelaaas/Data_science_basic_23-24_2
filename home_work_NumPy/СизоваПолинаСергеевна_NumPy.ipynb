{
  "nbformat": 4,
  "nbformat_minor": 0,
  "metadata": {
    "colab": {
      "provenance": []
    },
    "kernelspec": {
      "name": "python3",
      "display_name": "Python 3"
    },
    "language_info": {
      "name": "python"
    }
  },
  "cells": [
    {
      "cell_type": "markdown",
      "source": [
        "Numpy"
      ],
      "metadata": {
        "id": "KJ7r0J8XjE6N"
      }
    },
    {
      "cell_type": "markdown",
      "source": [
        "задача 1"
      ],
      "metadata": {
        "id": "0OFK05fnm8Sp"
      }
    },
    {
      "cell_type": "code",
      "execution_count": null,
      "metadata": {
        "colab": {
          "base_uri": "https://localhost:8080/"
        },
        "id": "j9qlxcc6jCUY",
        "outputId": "e0112300-de32-42ec-a3e2-04edbc837762"
      },
      "outputs": [
        {
          "output_type": "stream",
          "name": "stdout",
          "text": [
            "[[1 0 0 0]\n",
            " [0 2 0 0]\n",
            " [0 0 3 0]\n",
            " [0 0 0 4]]\n"
          ]
        }
      ],
      "source": [
        "import numpy as np\n",
        "x = np.diag([1, 2, 3, 4])\n",
        "print(x)"
      ]
    },
    {
      "cell_type": "markdown",
      "source": [
        "задача 2"
      ],
      "metadata": {
        "id": "y_o0a9IbrE7P"
      }
    },
    {
      "cell_type": "code",
      "source": [
        "import numpy as np\n",
        "diagonal = np.arange(1, 5)\n",
        "matrix = np.diag(diagonal, 1)\n",
        "print(matrix)"
      ],
      "metadata": {
        "colab": {
          "base_uri": "https://localhost:8080/"
        },
        "id": "uqqmGlsdrGlg",
        "outputId": "3536f810-f521-4b92-96d1-40fa83fdd678"
      },
      "execution_count": null,
      "outputs": [
        {
          "output_type": "stream",
          "name": "stdout",
          "text": [
            "[[0 1 0 0 0]\n",
            " [0 0 2 0 0]\n",
            " [0 0 0 3 0]\n",
            " [0 0 0 0 4]\n",
            " [0 0 0 0 0]]\n"
          ]
        }
      ]
    },
    {
      "cell_type": "markdown",
      "source": [
        "задача 3"
      ],
      "metadata": {
        "id": "HNXYs8Udm-LV"
      }
    },
    {
      "cell_type": "code",
      "source": [
        "a = np.array([1, 6, 8, 5, 8, 4, 8])\n",
        "mask = (a > 3) & (a < 8)\n",
        "a[mask] = -a[mask]\n",
        "print(a)\n",
        "\n"
      ],
      "metadata": {
        "colab": {
          "base_uri": "https://localhost:8080/"
        },
        "id": "dRUZj5celHQx",
        "outputId": "aabf4d2b-2ca2-4d49-9b5a-a175470c8c57"
      },
      "execution_count": null,
      "outputs": [
        {
          "output_type": "stream",
          "name": "stdout",
          "text": [
            "[ 1 -6  8 -5  8 -4  8]\n"
          ]
        }
      ]
    },
    {
      "cell_type": "markdown",
      "source": [
        "задача 4"
      ],
      "metadata": {
        "id": "JUIjRPfhnz5W"
      }
    },
    {
      "cell_type": "code",
      "source": [
        "import numpy as np\n",
        "\n",
        "a = np.array([1, 2, 3, 4, 5])\n",
        "b = np.zeros(len(a) * 4 - 3)\n",
        "\n",
        "b[::4] = a\n",
        "\n",
        "print(b)\n",
        "\n"
      ],
      "metadata": {
        "colab": {
          "base_uri": "https://localhost:8080/"
        },
        "id": "nkD5Boukn0W8",
        "outputId": "40346d9e-e583-4b1f-e125-bb27fcbb0af7"
      },
      "execution_count": null,
      "outputs": [
        {
          "output_type": "stream",
          "name": "stdout",
          "text": [
            "[1. 0. 0. 0. 2. 0. 0. 0. 3. 0. 0. 0. 4. 0. 0. 0. 5.]\n"
          ]
        }
      ]
    },
    {
      "cell_type": "markdown",
      "source": [
        "задача 5"
      ],
      "metadata": {
        "id": "xjDbTDSdp1_C"
      }
    },
    {
      "cell_type": "code",
      "source": [
        "import numpy as np\n",
        "\n",
        "a = np.array([[1, 2, 3], [0, 0, 0], [9, 3, 5]])\n",
        "a[0], a[2] = a[2], a[0].copy()\n",
        "\n",
        "print(a)\n"
      ],
      "metadata": {
        "colab": {
          "base_uri": "https://localhost:8080/"
        },
        "id": "Gu_cruekp1pN",
        "outputId": "7ffc3d8a-b240-4dac-952c-cad16e2a64dd"
      },
      "execution_count": null,
      "outputs": [
        {
          "output_type": "stream",
          "name": "stdout",
          "text": [
            "[[9 3 5]\n",
            " [0 0 0]\n",
            " [1 2 3]]\n"
          ]
        }
      ]
    },
    {
      "cell_type": "markdown",
      "source": [
        "задача 6"
      ],
      "metadata": {
        "id": "Om5JDgGKrlvP"
      }
    },
    {
      "cell_type": "code",
      "source": [
        "a = np.array([1, 2, 2, 2, 3, 3, 3, 3, 3])\n",
        "maxx = np.bincount(a)\n",
        "val = np.argmax(maxx)\n",
        "print(val)"
      ],
      "metadata": {
        "colab": {
          "base_uri": "https://localhost:8080/"
        },
        "id": "EJczHTXsrnj8",
        "outputId": "9379b9c2-7f88-4f3a-b8dc-c1e80956d332"
      },
      "execution_count": null,
      "outputs": [
        {
          "output_type": "stream",
          "name": "stdout",
          "text": [
            "3\n"
          ]
        }
      ]
    },
    {
      "cell_type": "markdown",
      "source": [
        "задача 8"
      ],
      "metadata": {
        "id": "BK_HiJsdsyXC"
      }
    },
    {
      "cell_type": "code",
      "source": [
        "import numpy as np\n",
        "\n",
        "matrix = np.random.rand(10, 10)\n",
        "n = int(input())\n",
        "a = np.sort(matrix.flatten())[-n:]\n",
        "print(a)"
      ],
      "metadata": {
        "id": "6-yyhc9ds3Gi",
        "colab": {
          "base_uri": "https://localhost:8080/"
        },
        "outputId": "7d0bb648-b853-47ef-80b5-457b6b9c720e"
      },
      "execution_count": null,
      "outputs": [
        {
          "output_type": "stream",
          "name": "stdout",
          "text": [
            "6\n",
            "[0.97637891 0.98624903 0.98828523 0.99614405 0.99707032 0.99740266]\n"
          ]
        }
      ]
    },
    {
      "cell_type": "markdown",
      "source": [
        "задача 10"
      ],
      "metadata": {
        "id": "6WOyfWahs-MZ"
      }
    },
    {
      "cell_type": "code",
      "source": [
        "import numpy as np\n",
        "\n",
        "A = np.array([2.3, -4.8, 0.5, -1.2, 3.0, -0.7])\n",
        "Z = np.where(A > 0, np.ceil(A), np.floor(A))\n",
        "print(Z)"
      ],
      "metadata": {
        "id": "Q2Y89iiXs_qq",
        "colab": {
          "base_uri": "https://localhost:8080/"
        },
        "outputId": "88ecbd61-3135-4e79-9fc5-016baf09006d"
      },
      "execution_count": null,
      "outputs": [
        {
          "output_type": "stream",
          "name": "stdout",
          "text": [
            "[ 3. -5.  1. -2.  3. -1.]\n"
          ]
        }
      ]
    },
    {
      "cell_type": "markdown",
      "source": [
        "задача 11"
      ],
      "metadata": {
        "id": "Hd8CXeYdtKTV"
      }
    },
    {
      "cell_type": "code",
      "source": [
        "import numpy as np\n",
        "\n",
        "A = np.array([1, 2, 3, 4, 5])\n",
        "B = np.array([3, 4, 5, 6, 7])\n",
        "Z = np.intersect1d(A, B)\n",
        "print(Z)\n"
      ],
      "metadata": {
        "id": "SnxIPILBtLuo",
        "colab": {
          "base_uri": "https://localhost:8080/"
        },
        "outputId": "e69db541-39ff-470f-cd34-d710cf9a6462"
      },
      "execution_count": null,
      "outputs": [
        {
          "output_type": "stream",
          "name": "stdout",
          "text": [
            "[3 4 5]\n"
          ]
        }
      ]
    },
    {
      "cell_type": "markdown",
      "source": [
        "задача 12"
      ],
      "metadata": {
        "id": "JUkZaowltP3D"
      }
    },
    {
      "cell_type": "code",
      "source": [
        "x = np.array([6, 2, 0, 3, 0, 0, 5, 7, 0])\n",
        "ma = 0\n",
        "for i in range (len(x) - 1):\n",
        "    if x[i] == 0 and ma < x[i + 1]:\n",
        "        ma = x[i + 1]\n",
        "print(ma)"
      ],
      "metadata": {
        "id": "ZL1LViymtRQ_",
        "colab": {
          "base_uri": "https://localhost:8080/"
        },
        "outputId": "6e25807c-a152-435d-baf7-15935dde2d55"
      },
      "execution_count": null,
      "outputs": [
        {
          "output_type": "stream",
          "name": "stdout",
          "text": [
            "5\n"
          ]
        }
      ]
    }
  ]
}