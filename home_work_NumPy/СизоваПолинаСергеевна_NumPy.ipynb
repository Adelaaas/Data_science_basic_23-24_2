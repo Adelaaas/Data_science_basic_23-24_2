Задача 1
import numpy as np
x = np.ones((10, 10))
x[1:-1, 1:-1] = 0
print(x)

Задача 2
import numpy as np
x = np.diag([1, 2, 3, 4])
print(x)

Задача 5
def find_most_frequent(arr):
count = {}
max_count = 0
most_frequent = []
for num in arr:
    if num in count:
        count[num] += 1
     else:
        count[num] = 1
  for num in count:
        if count[num] > max_count:
            max_count = count[num]
            most_frequent = [num]
      elif count[num] == max_count:
            most_frequent.append(num)
   return most_frequent
array = [1, 2, 3, 2, 3, 4, 5, 1, 2, 2, 4]
result = find_most_frequent(array)
print(result)

Задача 6
import numpy as np
array = np.random.rand(16, 16)
array_4x4 = array.reshape(4, 4, 4, 4)
sums=np.sum(array_4x4,axis=(2, 3))
print(sums)

Задача 7
rows = int(input("Введите количество строк: "))
cols = int(input("Введите количество столбцов: "))

matrix = []
for i in range(rows):
    row = list(map(int, input(f"Введите {i+1}-ую строку: ").split()))
    matrix.append(row)
n = int(input("Введите количество наибольших значений, которые нужно найти: "))
largest_values = []

for row in matrix:
    for value in row:
        if len(largest_values) < n:
            largest_values.append(value)
        else:
            largest_values.sort(reverse=True)
            if value > largest_values[-1]:
                largest_values[-1] = value

largest_values.sort(reverse=True)

print(f"Наибольшие {n} значения в матрице: {largest_values}")

Задача 8
def find_rows_with_unequal_values(matrix):
result = []
for row in matrix:
        unique_values = set(row)
        if len(unique_values) > 1:
            result.append(row)
    return result
matrix = [[2, 2, 3], [1, 1, 1], [4, 4, 4], [2, 3, 3], [5, 5, 6], [7, 8, 9], [0, 0, 0], [1, 2, 2], [3, 3, 3], [4, 4, 5]]

result = find_rows_with_unequal_values(matrix)
print(result)

Задача 9
import math
Z = []
for num in 8:
      if num > 0:
   Z.append(math.ceil(num))
          elif num < 0:
    Z.append(math.floor(num))
      else:
        Z.append(0)

Задача 10
def find_common_elements(A, B):
Z = []
for num in A:
    if num in B:
        Z.append(num)
Z.sort()
return Z
A = [1, 2, 3, 4, 5]B = [4, 5, 6, 7, 8]
Z = find_common_elements(A, B)
print(Z)
