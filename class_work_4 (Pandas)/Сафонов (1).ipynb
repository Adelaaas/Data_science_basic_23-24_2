{
  "nbformat": 4,
  "nbformat_minor": 0,
  "metadata": {
    "colab": {
      "provenance": []
    },
    "kernelspec": {
      "name": "python3",
      "display_name": "Python 3"
    },
    "language_info": {
      "name": "python"
    }
  },
  "cells": [
    {
      "cell_type": "code",
      "execution_count": 32,
      "metadata": {
        "colab": {
          "base_uri": "https://localhost:8080/"
        },
        "id": "SUMD3-Bps6jz",
        "outputId": "2afd77db-27c9-4f21-f603-9805135a4fc4"
      },
      "outputs": [
        {
          "output_type": "stream",
          "name": "stdout",
          "text": [
            "1\n"
          ]
        }
      ],
      "source": [
        "\n",
        "#1\n",
        "import numpy as np\n",
        "import pandas as pd\n",
        "\n",
        "r = np.random.RandomState(1)\n",
        "s = pd.Series(r.uniform(0, 10, 100))\n",
        "print(s[s>5].index[0])"
      ]
    },
    {
      "cell_type": "code",
      "source": [
        "#2\n",
        "import pandas as pd\n",
        "import numpy as np\n",
        "\n",
        "df = pd.DataFrame({\n",
        "    'имя': ['Петя', 'Вася', 'Аня', 'Света'],\n",
        "    'возраст': [45, 26, 41 , 21],\n",
        "    'доход': [100000, 80000, 150000, 60000],\n",
        "    'надежность клиента': [0.65, 0.74, 0.87, 0.68],\n",
        "    'пол': ['муж', 'муж', 'жен', 'жен']},\n",
        "    index=[0, 1, 2, 3])\n",
        "\n",
        "\n",
        "df['доход'].mean()\n",
        "df['надежность клиента'].mean()\n",
        "df['возраст'].mean()\n",
        "\n",
        "df['важность клиента'] = df['доход'] * df['надежность клиента']\n",
        "df['возможная долгосрочность клиента'] = df['важность клиента'] * (df['возраст'].mean() - df['возраст'])\n",
        "\n",
        "\n",
        "i = df[df['возраст'] > 40]\n",
        "\n",
        "\n",
        "me = df['доход'].mean()\n",
        "j = df[df['доход'] > me]\n",
        "\n",
        "\n",
        "na = df['надежность клиента'].mean()\n",
        "k = df[(df['доход'] > me) & (df['надежность клиента'] < na)]\n",
        "\n",
        "\n",
        "print(\"Клиенты старше 40 лет:\")\n",
        "print(i[\"возраст\"])\n",
        "\n",
        "print(\"\\nКлиенты с доходом выше среднего по датасету:\")\n",
        "print(j[\"доход\"])\n",
        "\n",
        "print(\"\\nКлиенты с доходом выше среднего по датасету, но надежность ниже среднего по датасету:\")\n",
        "print(k)"
      ],
      "metadata": {
        "colab": {
          "base_uri": "https://localhost:8080/"
        },
        "id": "o2522Xb8vCWB",
        "outputId": "2505f315-5c63-4856-e95c-dfd3fcd8ad31"
      },
      "execution_count": 50,
      "outputs": [
        {
          "output_type": "stream",
          "name": "stdout",
          "text": [
            "Клиенты старше 40 лет:\n",
            "0    45\n",
            "2    41\n",
            "Name: возраст, dtype: int64\n",
            "\n",
            "Клиенты с доходом выше среднего по датасету:\n",
            "0    100000\n",
            "2    150000\n",
            "Name: доход, dtype: int64\n",
            "\n",
            "Клиенты с доходом выше среднего по датасету, но надежность ниже среднего по датасету:\n",
            "    имя  возраст   доход  надежность клиента  пол  важность клиента  \\\n",
            "0  Петя       45  100000                0.65  муж           65000.0   \n",
            "\n",
            "   возможная долгосрочность клиента  \n",
            "0                         -763750.0  \n"
          ]
        }
      ]
    },
    {
      "cell_type": "code",
      "source": [
        "#3\n",
        "import pandas as pd\n",
        "df1 = pd.DataFrame({'fruit': ['apple', 'banana', 'orange'] * 3, 'weight': ['low', 'medium', 'high'] * 3, 'price': np.random.randint(0, 100, 9)})\n",
        "df2 = pd.DataFrame({'frukt': ['apple', 'banana', 'melon'] * 2, 'ves': ['low', 'high'] * 3, 'price': np.random.randint(0, 100, 6)})\n",
        "\n",
        "df3 = df1.rename(columns={'fruit': 'frukt', 'weight': 'ves'}, inplace= True)\n",
        "df = pd.concat([df3, df2],ignore_index=True)\n",
        "print(df)"
      ],
      "metadata": {
        "colab": {
          "base_uri": "https://localhost:8080/"
        },
        "id": "BNze3aHyyN_c",
        "outputId": "a1267fa9-44a1-45ba-d778-99d282745b6d"
      },
      "execution_count": 61,
      "outputs": [
        {
          "output_type": "stream",
          "name": "stdout",
          "text": [
            "    frukt   ves  price\n",
            "0   apple   low     31\n",
            "1  banana  high     53\n",
            "2   melon   low     45\n",
            "3   apple  high     16\n",
            "4  banana   low     48\n",
            "5   melon  high     43\n"
          ]
        }
      ]
    }
  ]
}