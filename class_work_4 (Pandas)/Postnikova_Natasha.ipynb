{
  "nbformat": 4,
  "nbformat_minor": 0,
  "metadata": {
    "colab": {
      "provenance": []
    },
    "kernelspec": {
      "name": "python3",
      "display_name": "Python 3"
    },
    "language_info": {
      "name": "python"
    }
  },
  "cells": [
    {
      "cell_type": "code",
      "source": [
        "import pandas as pd\n",
        "import numpy as np\n",
        "df = pd.read_csv('input.csv', sep=',')\n",
        "df"
      ],
      "metadata": {
        "colab": {
          "base_uri": "https://localhost:8080/",
          "height": 632
        },
        "id": "0vtMPnq7pdqg",
        "outputId": "e29d59b6-034a-4e58-cf7b-008f1e556ba4"
      },
      "execution_count": 126,
      "outputs": [
        {
          "output_type": "execute_result",
          "data": {
            "text/plain": [
              "        STD_ID             НАПРАВЛЕНИЕ        ГОД  КУРС  СЕМЕСТР  \\\n",
              "0       175711     38.03.02 Менеджмент  2018-2019   2.0      4.0   \n",
              "1       100647  31.05.01 Лечебное дело  2015-2016   3.0      5.0   \n",
              "2       199311   31.05.03 Стоматология  2019-2020   1.0      1.0   \n",
              "3       162002     38.03.02 Менеджмент  2017-2018   2.0      3.0   \n",
              "4       108384  31.05.01 Лечебное дело  2018-2019   5.0      9.0   \n",
              "...        ...                     ...        ...   ...      ...   \n",
              "105053  176141  40.03.01 Юриспруденция  2017-2018   1.0      2.0   \n",
              "105054  182794  31.05.01 Лечебное дело  2018-2019   2.0      4.0   \n",
              "105055  162391  31.05.01 Лечебное дело  2016-2017   1.0      2.0   \n",
              "105056  202479      38.03.01 Экономика  2017-2018   1.0      1.0   \n",
              "105057  182325  08.03.01 Строительство  2018-2019   2.0      3.0   \n",
              "\n",
              "                      АТТЕСТАЦИЯ  \\\n",
              "0                        Экзамен   \n",
              "1                        Экзамен   \n",
              "2                        Экзамен   \n",
              "3                        Экзамен   \n",
              "4                        Экзамен   \n",
              "...                          ...   \n",
              "105053           Курсовая работа   \n",
              "105054                   Экзамен   \n",
              "105055  Дифференцированный зачет   \n",
              "105056  Дифференцированный зачет   \n",
              "105057           Курсовая работа   \n",
              "\n",
              "                                               ДИСЦИПЛИНА  mark  \n",
              "0                                               Маркетинг     5  \n",
              "1       Пропедевтика внутренних болезней, лучевая диаг...     5  \n",
              "2                                                   Химия     5  \n",
              "3                                              Статистика     4  \n",
              "4                                               Педиатрия     3  \n",
              "...                                                   ...   ...  \n",
              "105053                              Конституционное право     3  \n",
              "105054                              Нормальная физиология     3  \n",
              "105055                                   Иностранный язык     4  \n",
              "105056                                        Информатика     4  \n",
              "105057           Технологические процессы в строительстве     4  \n",
              "\n",
              "[105058 rows x 8 columns]"
            ],
            "text/html": [
              "\n",
              "  <div id=\"df-de0baef6-8fba-459c-b51c-a8e04cc8a6cb\" class=\"colab-df-container\">\n",
              "    <div>\n",
              "<style scoped>\n",
              "    .dataframe tbody tr th:only-of-type {\n",
              "        vertical-align: middle;\n",
              "    }\n",
              "\n",
              "    .dataframe tbody tr th {\n",
              "        vertical-align: top;\n",
              "    }\n",
              "\n",
              "    .dataframe thead th {\n",
              "        text-align: right;\n",
              "    }\n",
              "</style>\n",
              "<table border=\"1\" class=\"dataframe\">\n",
              "  <thead>\n",
              "    <tr style=\"text-align: right;\">\n",
              "      <th></th>\n",
              "      <th>STD_ID</th>\n",
              "      <th>НАПРАВЛЕНИЕ</th>\n",
              "      <th>ГОД</th>\n",
              "      <th>КУРС</th>\n",
              "      <th>СЕМЕСТР</th>\n",
              "      <th>АТТЕСТАЦИЯ</th>\n",
              "      <th>ДИСЦИПЛИНА</th>\n",
              "      <th>mark</th>\n",
              "    </tr>\n",
              "  </thead>\n",
              "  <tbody>\n",
              "    <tr>\n",
              "      <th>0</th>\n",
              "      <td>175711</td>\n",
              "      <td>38.03.02 Менеджмент</td>\n",
              "      <td>2018-2019</td>\n",
              "      <td>2.0</td>\n",
              "      <td>4.0</td>\n",
              "      <td>Экзамен</td>\n",
              "      <td>Маркетинг</td>\n",
              "      <td>5</td>\n",
              "    </tr>\n",
              "    <tr>\n",
              "      <th>1</th>\n",
              "      <td>100647</td>\n",
              "      <td>31.05.01 Лечебное дело</td>\n",
              "      <td>2015-2016</td>\n",
              "      <td>3.0</td>\n",
              "      <td>5.0</td>\n",
              "      <td>Экзамен</td>\n",
              "      <td>Пропедевтика внутренних болезней, лучевая диаг...</td>\n",
              "      <td>5</td>\n",
              "    </tr>\n",
              "    <tr>\n",
              "      <th>2</th>\n",
              "      <td>199311</td>\n",
              "      <td>31.05.03 Стоматология</td>\n",
              "      <td>2019-2020</td>\n",
              "      <td>1.0</td>\n",
              "      <td>1.0</td>\n",
              "      <td>Экзамен</td>\n",
              "      <td>Химия</td>\n",
              "      <td>5</td>\n",
              "    </tr>\n",
              "    <tr>\n",
              "      <th>3</th>\n",
              "      <td>162002</td>\n",
              "      <td>38.03.02 Менеджмент</td>\n",
              "      <td>2017-2018</td>\n",
              "      <td>2.0</td>\n",
              "      <td>3.0</td>\n",
              "      <td>Экзамен</td>\n",
              "      <td>Статистика</td>\n",
              "      <td>4</td>\n",
              "    </tr>\n",
              "    <tr>\n",
              "      <th>4</th>\n",
              "      <td>108384</td>\n",
              "      <td>31.05.01 Лечебное дело</td>\n",
              "      <td>2018-2019</td>\n",
              "      <td>5.0</td>\n",
              "      <td>9.0</td>\n",
              "      <td>Экзамен</td>\n",
              "      <td>Педиатрия</td>\n",
              "      <td>3</td>\n",
              "    </tr>\n",
              "    <tr>\n",
              "      <th>...</th>\n",
              "      <td>...</td>\n",
              "      <td>...</td>\n",
              "      <td>...</td>\n",
              "      <td>...</td>\n",
              "      <td>...</td>\n",
              "      <td>...</td>\n",
              "      <td>...</td>\n",
              "      <td>...</td>\n",
              "    </tr>\n",
              "    <tr>\n",
              "      <th>105053</th>\n",
              "      <td>176141</td>\n",
              "      <td>40.03.01 Юриспруденция</td>\n",
              "      <td>2017-2018</td>\n",
              "      <td>1.0</td>\n",
              "      <td>2.0</td>\n",
              "      <td>Курсовая работа</td>\n",
              "      <td>Конституционное право</td>\n",
              "      <td>3</td>\n",
              "    </tr>\n",
              "    <tr>\n",
              "      <th>105054</th>\n",
              "      <td>182794</td>\n",
              "      <td>31.05.01 Лечебное дело</td>\n",
              "      <td>2018-2019</td>\n",
              "      <td>2.0</td>\n",
              "      <td>4.0</td>\n",
              "      <td>Экзамен</td>\n",
              "      <td>Нормальная физиология</td>\n",
              "      <td>3</td>\n",
              "    </tr>\n",
              "    <tr>\n",
              "      <th>105055</th>\n",
              "      <td>162391</td>\n",
              "      <td>31.05.01 Лечебное дело</td>\n",
              "      <td>2016-2017</td>\n",
              "      <td>1.0</td>\n",
              "      <td>2.0</td>\n",
              "      <td>Дифференцированный зачет</td>\n",
              "      <td>Иностранный язык</td>\n",
              "      <td>4</td>\n",
              "    </tr>\n",
              "    <tr>\n",
              "      <th>105056</th>\n",
              "      <td>202479</td>\n",
              "      <td>38.03.01 Экономика</td>\n",
              "      <td>2017-2018</td>\n",
              "      <td>1.0</td>\n",
              "      <td>1.0</td>\n",
              "      <td>Дифференцированный зачет</td>\n",
              "      <td>Информатика</td>\n",
              "      <td>4</td>\n",
              "    </tr>\n",
              "    <tr>\n",
              "      <th>105057</th>\n",
              "      <td>182325</td>\n",
              "      <td>08.03.01 Строительство</td>\n",
              "      <td>2018-2019</td>\n",
              "      <td>2.0</td>\n",
              "      <td>3.0</td>\n",
              "      <td>Курсовая работа</td>\n",
              "      <td>Технологические процессы в строительстве</td>\n",
              "      <td>4</td>\n",
              "    </tr>\n",
              "  </tbody>\n",
              "</table>\n",
              "<p>105058 rows × 8 columns</p>\n",
              "</div>\n",
              "    <div class=\"colab-df-buttons\">\n",
              "\n",
              "  <div class=\"colab-df-container\">\n",
              "    <button class=\"colab-df-convert\" onclick=\"convertToInteractive('df-de0baef6-8fba-459c-b51c-a8e04cc8a6cb')\"\n",
              "            title=\"Convert this dataframe to an interactive table.\"\n",
              "            style=\"display:none;\">\n",
              "\n",
              "  <svg xmlns=\"http://www.w3.org/2000/svg\" height=\"24px\" viewBox=\"0 -960 960 960\">\n",
              "    <path d=\"M120-120v-720h720v720H120Zm60-500h600v-160H180v160Zm220 220h160v-160H400v160Zm0 220h160v-160H400v160ZM180-400h160v-160H180v160Zm440 0h160v-160H620v160ZM180-180h160v-160H180v160Zm440 0h160v-160H620v160Z\"/>\n",
              "  </svg>\n",
              "    </button>\n",
              "\n",
              "  <style>\n",
              "    .colab-df-container {\n",
              "      display:flex;\n",
              "      gap: 12px;\n",
              "    }\n",
              "\n",
              "    .colab-df-convert {\n",
              "      background-color: #E8F0FE;\n",
              "      border: none;\n",
              "      border-radius: 50%;\n",
              "      cursor: pointer;\n",
              "      display: none;\n",
              "      fill: #1967D2;\n",
              "      height: 32px;\n",
              "      padding: 0 0 0 0;\n",
              "      width: 32px;\n",
              "    }\n",
              "\n",
              "    .colab-df-convert:hover {\n",
              "      background-color: #E2EBFA;\n",
              "      box-shadow: 0px 1px 2px rgba(60, 64, 67, 0.3), 0px 1px 3px 1px rgba(60, 64, 67, 0.15);\n",
              "      fill: #174EA6;\n",
              "    }\n",
              "\n",
              "    .colab-df-buttons div {\n",
              "      margin-bottom: 4px;\n",
              "    }\n",
              "\n",
              "    [theme=dark] .colab-df-convert {\n",
              "      background-color: #3B4455;\n",
              "      fill: #D2E3FC;\n",
              "    }\n",
              "\n",
              "    [theme=dark] .colab-df-convert:hover {\n",
              "      background-color: #434B5C;\n",
              "      box-shadow: 0px 1px 3px 1px rgba(0, 0, 0, 0.15);\n",
              "      filter: drop-shadow(0px 1px 2px rgba(0, 0, 0, 0.3));\n",
              "      fill: #FFFFFF;\n",
              "    }\n",
              "  </style>\n",
              "\n",
              "    <script>\n",
              "      const buttonEl =\n",
              "        document.querySelector('#df-de0baef6-8fba-459c-b51c-a8e04cc8a6cb button.colab-df-convert');\n",
              "      buttonEl.style.display =\n",
              "        google.colab.kernel.accessAllowed ? 'block' : 'none';\n",
              "\n",
              "      async function convertToInteractive(key) {\n",
              "        const element = document.querySelector('#df-de0baef6-8fba-459c-b51c-a8e04cc8a6cb');\n",
              "        const dataTable =\n",
              "          await google.colab.kernel.invokeFunction('convertToInteractive',\n",
              "                                                    [key], {});\n",
              "        if (!dataTable) return;\n",
              "\n",
              "        const docLinkHtml = 'Like what you see? Visit the ' +\n",
              "          '<a target=\"_blank\" href=https://colab.research.google.com/notebooks/data_table.ipynb>data table notebook</a>'\n",
              "          + ' to learn more about interactive tables.';\n",
              "        element.innerHTML = '';\n",
              "        dataTable['output_type'] = 'display_data';\n",
              "        await google.colab.output.renderOutput(dataTable, element);\n",
              "        const docLink = document.createElement('div');\n",
              "        docLink.innerHTML = docLinkHtml;\n",
              "        element.appendChild(docLink);\n",
              "      }\n",
              "    </script>\n",
              "  </div>\n",
              "\n",
              "\n",
              "<div id=\"df-2be4d157-9cab-4bd5-a793-054af1527510\">\n",
              "  <button class=\"colab-df-quickchart\" onclick=\"quickchart('df-2be4d157-9cab-4bd5-a793-054af1527510')\"\n",
              "            title=\"Suggest charts\"\n",
              "            style=\"display:none;\">\n",
              "\n",
              "<svg xmlns=\"http://www.w3.org/2000/svg\" height=\"24px\"viewBox=\"0 0 24 24\"\n",
              "     width=\"24px\">\n",
              "    <g>\n",
              "        <path d=\"M19 3H5c-1.1 0-2 .9-2 2v14c0 1.1.9 2 2 2h14c1.1 0 2-.9 2-2V5c0-1.1-.9-2-2-2zM9 17H7v-7h2v7zm4 0h-2V7h2v10zm4 0h-2v-4h2v4z\"/>\n",
              "    </g>\n",
              "</svg>\n",
              "  </button>\n",
              "\n",
              "<style>\n",
              "  .colab-df-quickchart {\n",
              "      --bg-color: #E8F0FE;\n",
              "      --fill-color: #1967D2;\n",
              "      --hover-bg-color: #E2EBFA;\n",
              "      --hover-fill-color: #174EA6;\n",
              "      --disabled-fill-color: #AAA;\n",
              "      --disabled-bg-color: #DDD;\n",
              "  }\n",
              "\n",
              "  [theme=dark] .colab-df-quickchart {\n",
              "      --bg-color: #3B4455;\n",
              "      --fill-color: #D2E3FC;\n",
              "      --hover-bg-color: #434B5C;\n",
              "      --hover-fill-color: #FFFFFF;\n",
              "      --disabled-bg-color: #3B4455;\n",
              "      --disabled-fill-color: #666;\n",
              "  }\n",
              "\n",
              "  .colab-df-quickchart {\n",
              "    background-color: var(--bg-color);\n",
              "    border: none;\n",
              "    border-radius: 50%;\n",
              "    cursor: pointer;\n",
              "    display: none;\n",
              "    fill: var(--fill-color);\n",
              "    height: 32px;\n",
              "    padding: 0;\n",
              "    width: 32px;\n",
              "  }\n",
              "\n",
              "  .colab-df-quickchart:hover {\n",
              "    background-color: var(--hover-bg-color);\n",
              "    box-shadow: 0 1px 2px rgba(60, 64, 67, 0.3), 0 1px 3px 1px rgba(60, 64, 67, 0.15);\n",
              "    fill: var(--button-hover-fill-color);\n",
              "  }\n",
              "\n",
              "  .colab-df-quickchart-complete:disabled,\n",
              "  .colab-df-quickchart-complete:disabled:hover {\n",
              "    background-color: var(--disabled-bg-color);\n",
              "    fill: var(--disabled-fill-color);\n",
              "    box-shadow: none;\n",
              "  }\n",
              "\n",
              "  .colab-df-spinner {\n",
              "    border: 2px solid var(--fill-color);\n",
              "    border-color: transparent;\n",
              "    border-bottom-color: var(--fill-color);\n",
              "    animation:\n",
              "      spin 1s steps(1) infinite;\n",
              "  }\n",
              "\n",
              "  @keyframes spin {\n",
              "    0% {\n",
              "      border-color: transparent;\n",
              "      border-bottom-color: var(--fill-color);\n",
              "      border-left-color: var(--fill-color);\n",
              "    }\n",
              "    20% {\n",
              "      border-color: transparent;\n",
              "      border-left-color: var(--fill-color);\n",
              "      border-top-color: var(--fill-color);\n",
              "    }\n",
              "    30% {\n",
              "      border-color: transparent;\n",
              "      border-left-color: var(--fill-color);\n",
              "      border-top-color: var(--fill-color);\n",
              "      border-right-color: var(--fill-color);\n",
              "    }\n",
              "    40% {\n",
              "      border-color: transparent;\n",
              "      border-right-color: var(--fill-color);\n",
              "      border-top-color: var(--fill-color);\n",
              "    }\n",
              "    60% {\n",
              "      border-color: transparent;\n",
              "      border-right-color: var(--fill-color);\n",
              "    }\n",
              "    80% {\n",
              "      border-color: transparent;\n",
              "      border-right-color: var(--fill-color);\n",
              "      border-bottom-color: var(--fill-color);\n",
              "    }\n",
              "    90% {\n",
              "      border-color: transparent;\n",
              "      border-bottom-color: var(--fill-color);\n",
              "    }\n",
              "  }\n",
              "</style>\n",
              "\n",
              "  <script>\n",
              "    async function quickchart(key) {\n",
              "      const quickchartButtonEl =\n",
              "        document.querySelector('#' + key + ' button');\n",
              "      quickchartButtonEl.disabled = true;  // To prevent multiple clicks.\n",
              "      quickchartButtonEl.classList.add('colab-df-spinner');\n",
              "      try {\n",
              "        const charts = await google.colab.kernel.invokeFunction(\n",
              "            'suggestCharts', [key], {});\n",
              "      } catch (error) {\n",
              "        console.error('Error during call to suggestCharts:', error);\n",
              "      }\n",
              "      quickchartButtonEl.classList.remove('colab-df-spinner');\n",
              "      quickchartButtonEl.classList.add('colab-df-quickchart-complete');\n",
              "    }\n",
              "    (() => {\n",
              "      let quickchartButtonEl =\n",
              "        document.querySelector('#df-2be4d157-9cab-4bd5-a793-054af1527510 button');\n",
              "      quickchartButtonEl.style.display =\n",
              "        google.colab.kernel.accessAllowed ? 'block' : 'none';\n",
              "    })();\n",
              "  </script>\n",
              "</div>\n",
              "    </div>\n",
              "  </div>\n"
            ]
          },
          "metadata": {},
          "execution_count": 126
        }
      ]
    },
    {
      "cell_type": "code",
      "source": [
        "students = df[df['Статус'] == \"СТ\"]\n",
        "count =students['STD_ID'].unique()\n",
        "count\n",
        "print(count.shape[0])"
      ],
      "metadata": {
        "colab": {
          "base_uri": "https://localhost:8080/"
        },
        "id": "39KXdFwYq2vg",
        "outputId": "3ac26fb0-8734-48a5-8d25-0538405bc20d"
      },
      "execution_count": 48,
      "outputs": [
        {
          "output_type": "stream",
          "name": "stdout",
          "text": [
            "4648\n"
          ]
        }
      ]
    },
    {
      "cell_type": "code",
      "source": [
        "graduates = df[df['Статус'] == \"ВЫП\"]\n",
        "count =graduates['STD_ID'].unique()\n",
        "print(count.shape[0])"
      ],
      "metadata": {
        "colab": {
          "base_uri": "https://localhost:8080/"
        },
        "outputId": "0e5315d5-f8ee-43da-e036-7b0f22b67c69",
        "id": "XGtaTj1Vwbe0"
      },
      "execution_count": 47,
      "outputs": [
        {
          "output_type": "stream",
          "name": "stdout",
          "text": [
            "455\n"
          ]
        }
      ]
    },
    {
      "cell_type": "code",
      "source": [
        "mens = students[students['Пол'] == 'М']\n",
        "ind = mens['направление (специальность)'].value_counts()\n",
        "print(ind.idxmax())"
      ],
      "metadata": {
        "colab": {
          "base_uri": "https://localhost:8080/"
        },
        "id": "AWfUT3LgxO_9",
        "outputId": "b213f440-0454-4608-8b88-a84549bd420d"
      },
      "execution_count": 77,
      "outputs": [
        {
          "output_type": "stream",
          "name": "stdout",
          "text": [
            "Лечебное дело\n"
          ]
        }
      ]
    },
    {
      "cell_type": "code",
      "source": [
        "women = students[students['Пол'] == 'Ж']\n",
        "ind = women['направление (специальность)'].value_counts()\n",
        "print(ind.idxmin())"
      ],
      "metadata": {
        "colab": {
          "base_uri": "https://localhost:8080/"
        },
        "id": "BDkwLldDzZQG",
        "outputId": "51d13cb9-f1cb-4342-8125-f001ed227bf3"
      },
      "execution_count": 79,
      "outputs": [
        {
          "output_type": "stream",
          "name": "stdout",
          "text": [
            "Эксплуатация транспортно-технологических машин и комплексов\n"
          ]
        }
      ]
    },
    {
      "cell_type": "code",
      "source": [
        "nan = df[df['Пол'].isnull()==True]\n",
        "\n",
        "print(nan['STD_ID'].values[0])"
      ],
      "metadata": {
        "colab": {
          "base_uri": "https://localhost:8080/"
        },
        "id": "ilYqvtFBztzm",
        "outputId": "b6941f48-afa7-425a-e14c-e5d2cb959e62"
      },
      "execution_count": 85,
      "outputs": [
        {
          "output_type": "stream",
          "name": "stdout",
          "text": [
            "92222\n"
          ]
        }
      ]
    },
    {
      "cell_type": "code",
      "source": [
        "print(df['направление (специальность)'].value_counts().shape[0])"
      ],
      "metadata": {
        "colab": {
          "base_uri": "https://localhost:8080/"
        },
        "id": "JB2u0Fxr4KBl",
        "outputId": "9b42f50a-9b37-4ae4-cd1b-a11a8ce27f14"
      },
      "execution_count": 88,
      "outputs": [
        {
          "output_type": "stream",
          "name": "stdout",
          "text": [
            "44\n"
          ]
        }
      ]
    },
    {
      "cell_type": "code",
      "source": [
        "print(graduates['Пол'].value_counts().idxmax())\n",
        "\n"
      ],
      "metadata": {
        "colab": {
          "base_uri": "https://localhost:8080/"
        },
        "id": "1IidQouV6Ovm",
        "outputId": "c86f3fc9-1cc6-4145-99e2-25580402a2b6"
      },
      "execution_count": 103,
      "outputs": [
        {
          "output_type": "stream",
          "name": "stdout",
          "text": [
            "Ж\n"
          ]
        }
      ]
    },
    {
      "cell_type": "code",
      "source": [
        "stud = df[df['STD_ID'] ==99125]\n",
        "n = stud[stud['АТТЕСТАЦИЯ'] =='Экзамен']\n",
        "n['АТТЕСТАЦИЯ'].shape[0]\n"
      ],
      "metadata": {
        "colab": {
          "base_uri": "https://localhost:8080/"
        },
        "id": "xXFWWkAO_IeR",
        "outputId": "cbd66bd7-bef8-4310-9186-2062aec4a796"
      },
      "execution_count": 142,
      "outputs": [
        {
          "output_type": "execute_result",
          "data": {
            "text/plain": [
              "30"
            ]
          },
          "metadata": {},
          "execution_count": 142
        }
      ]
    },
    {
      "cell_type": "code",
      "source": [
        "print(round (n['mark'].mean(), 2))"
      ],
      "metadata": {
        "colab": {
          "base_uri": "https://localhost:8080/"
        },
        "id": "pCd7_2pEEnTC",
        "outputId": "eb1b254f-3262-44a3-87e1-2b73bfe5bdc0"
      },
      "execution_count": 143,
      "outputs": [
        {
          "output_type": "stream",
          "name": "stdout",
          "text": [
            "4.43\n"
          ]
        }
      ]
    }
  ]
}